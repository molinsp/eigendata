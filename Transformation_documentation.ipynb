{
 "cells": [
  {
   "cell_type": "markdown",
   "metadata": {},
   "source": [
    "# Transformation documentation"
   ]
  },
  {
   "cell_type": "markdown",
   "metadata": {},
   "source": [
    "Load transformations file"
   ]
  },
  {
   "cell_type": "code",
   "execution_count": 127,
   "metadata": {
    "execution": {
     "iopub.execute_input": "2021-03-11T15:41:31.435386Z",
     "iopub.status.busy": "2021-03-11T15:41:31.434562Z",
     "iopub.status.idle": "2021-03-11T15:41:31.445556Z",
     "shell.execute_reply": "2021-03-11T15:41:31.444845Z",
     "shell.execute_reply.started": "2021-03-11T15:41:31.435299Z"
    }
   },
   "outputs": [],
   "source": [
    "import json\n",
    "from IPython.display import JSON\n",
    "with open('src/formulabar/transformations.json') as json_file:\n",
    "    data = json.load(json_file)\n",
    "    \n",
    "data = data['transformations']"
   ]
  },
  {
   "cell_type": "markdown",
   "metadata": {},
   "source": [
    "**Recommended**: Use jupyterlab table of contents extension for better navigation (@jupyterlab/toc)"
   ]
  },
  {
   "cell_type": "markdown",
   "metadata": {
    "toc-hr-collapsed": true,
    "toc-nb-collapsed": true
   },
   "source": [
    "# Introduction\n",
    "\n",
    "Data transformations enable non-experts to wrangle and transform data without having to memorize syntax, thereby reducing the number of things one needs to memorize to use code to solve business problems (what we call the cognitive overhead). \n",
    "\n",
    "What users are doing right now is searching for many common data transformations. We improve this experience by reducing the friction of the process:\n",
    "\n",
    "1. **Unified user flow:** The user does not need to switch back and forth between search/documentation and their coding environment\n",
    "2. **Transformation curation:** The user does not need to navigate forums like Stackoverflow and spend time finding the best solution, we curate these for the user so that they can focus on solving business problems\n",
    "3. **Less error-prone:** Sometimes, writing code as text is not the best UX: Python functions some-times take string as parameters, where only a limited set of strings is available. Allowing the user to type any text in a code editor can only lead to errors and slowness\n",
    "4. **No re-inventing the wheel:** Millions of users around the world are googling and developing the same code. We want to enable people to focus on solving problems and reuse off-the-shelf components for common tasks"
   ]
  },
  {
   "cell_type": "markdown",
   "metadata": {},
   "source": [
    "## Types of transformations\n",
    "\n",
    "There are two type of transformations:\n",
    "\n",
    "\n",
    "\n",
    "1. **Pandas functions:** This are the standard Pandas functions, where we provide a GUI that makes them easier to use\n",
    "2. **Custom functions:**Custom functions are custom developed functions that are not part of the pandas library, but provide easy to use access to common functionality."
   ]
  },
  {
   "cell_type": "markdown",
   "metadata": {
    "toc-hr-collapsed": true,
    "toc-nb-collapsed": true
   },
   "source": [
    "# A first simple transformation"
   ]
  },
  {
   "cell_type": "markdown",
   "metadata": {},
   "source": [
    "## Understand the transformations.json file"
   ]
  },
  {
   "cell_type": "markdown",
   "metadata": {},
   "source": [
    "## Showing a simple field"
   ]
  },
  {
   "cell_type": "markdown",
   "metadata": {},
   "source": [
    "At the top-level of the file you have the function names"
   ]
  },
  {
   "cell_type": "code",
   "execution_count": 3,
   "metadata": {
    "execution": {
     "iopub.execute_input": "2021-02-04T13:33:38.872105Z",
     "iopub.status.busy": "2021-02-04T13:33:38.871837Z",
     "iopub.status.idle": "2021-02-04T13:33:38.894073Z",
     "shell.execute_reply": "2021-02-04T13:33:38.892943Z",
     "shell.execute_reply.started": "2021-02-04T13:33:38.872077Z"
    }
   },
   "outputs": [
    {
     "data": {
      "application/json": {
       "add": {
        "form": {
         "callerObject": "DataFrame[Series]",
         "definitions": {
          "column": {
           "enum": [],
           "type": "string"
          }
         },
         "dependencies": {
          "mode": {
           "oneOf": [
            {
             "properties": {
              "mode": {
               "enum": [
                "value"
               ]
              },
              "new column name": {
               "type": "string"
              },
              "other": {
               "title": "value",
               "type": "number"
              }
             }
            },
            {
             "properties": {
              "mode": {
               "enum": [
                "column"
               ]
              },
              "new column name": {
               "type": "string"
              },
              "other": {
               "$ref": "#/definitions/column",
               "codegenstyle": "seriesColumn",
               "title": "column"
              }
             }
            }
           ]
          }
         },
         "description": "Element-wise addition of values in a column.",
         "function": "add",
         "properties": {
          "column": {
           "$ref": "#/definitions/column",
           "codegenstyle": "ignore",
           "title": "column"
          },
          "mode": {
           "codegenstyle": "ignore",
           "default": "value",
           "enum": [
            "value",
            "column"
           ],
           "enumNames": [
            "Add a value",
            "Add another column"
           ],
           "type": "string"
          }
         },
         "required": [
          "column",
          "mode"
         ],
         "returnType": "series",
         "title": "[Column] Add to column values",
         "type": "object"
        },
        "keywords": [
         "sum"
        ],
        "library": {
         "importStatement": "import pandas as pd",
         "name": "pandas"
        },
        "uischema": {
         "mode": {
          "ui:widget": "radio"
         },
         "new column name": {
          "ui:placeholder": "Leave blank to modify selected column"
         }
        }
       },
       "airtable_base_to_df": {
        "form": {
         "description": "Load airtable base",
         "function": "airtable_base_to_df",
         "properties": {
          "base": {
           "description": "You can get the id from airtable.com/api.",
           "title": "id of the base",
           "type": "string"
          },
          "key": {
           "description": "You can get the id from airtable.com/api (selecting show API key on the top right).",
           "title": "api key",
           "type": "string"
          },
          "new table name": {
           "type": "string"
          },
          "table": {
           "description": "Name of the table as shown in Airtable UI.",
           "title": "name of the table",
           "type": "string"
          }
         },
         "required": [
          "base",
          "table",
          "key"
         ],
         "title": "Read Airtable",
         "transformationType": "dataLoading",
         "type": "object"
        },
        "keywords": [
         "base",
         "load",
         "airtable",
         "read"
        ],
        "library": {
         "importStatement": "from fastdata.integrations import *",
         "name": "fastdata.integrations"
        },
        "uischema": {
         "new table name": {
          "ui:placeholder": "Leave blank to modify selected table"
         }
        }
       },
       "append": {
        "form": {
         "callerObject": "DataFrame",
         "definitions": {
          "dataframes": {
           "enum": [],
           "type": "string"
          }
         },
         "description": "Add two tables with the same columns \"on top of each other\". If tables have different columns, they will be kept and populated with NaN for the tables that don't have that column.",
         "function": "append",
         "properties": {
          "new table name": {
           "type": "string"
          },
          "other": {
           "$ref": "#/definitions/dataframes",
           "codegenstyle": "variable",
           "description": "Table to append at the bottom.",
           "type": "string"
          }
         },
         "required": [
          "other"
         ],
         "title": "Append dataframes",
         "type": "object"
        },
        "keywords": [
         "stack"
        ],
        "library": {
         "importStatement": "import pandas as pd",
         "name": "pandas"
        },
        "uischema": {
         "new table name": {
          "ui:placeholder": "Leave blank to modify selected table"
         }
        }
       },
       "apply": {
        "form": {
         "callerObject": "DataFrame",
         "description": "Apply a function to all the dataframe columns",
         "function": "apply",
         "properties": {
          "func": {
           "codegenstyle": "variable",
           "enum": [
            "pd.to_numeric"
           ],
           "enumNames": [
            "to numeric"
           ],
           "type": "string"
          },
          "new table name": {
           "type": "string"
          }
         },
         "required": [
          "func"
         ],
         "title": "Apply function to all dataframe",
         "type": "object"
        },
        "keywords": [
         "convert",
         "numeric",
         "number"
        ],
        "library": {
         "importStatement": "import pandas as pd",
         "name": "pandas"
        },
        "uischema": {
         "new table name": {
          "ui:placeholder": "Leave blank to modify selected table"
         }
        }
       },
       "astype": {
        "form": {
         "callerObject": "DataFrame",
         "definitions": {
          "column": {
           "enum": [],
           "type": "string"
          }
         },
         "description": "Change the data type of columns.",
         "function": "astype",
         "properties": {
          "dtype": {
           "items": {
            "properties": {
             "column": {
              "$ref": "#/definitions/column",
              "title": "Column to rename"
             },
             "type": {
              "enum": [
               "int64",
               "float64",
               "string",
               "bool",
               "datetime64"
              ],
              "enumNames": [
               "Integer (e.g. 1, 2, 3)",
               "Decimal number (e.g. 49.99)",
               "Text",
               "Boolean (True/False)",
               "Date time"
              ],
              "type": "string"
             }
            },
            "type": "object"
           },
           "title": "Columns to reassign",
           "type": "array"
          },
          "new table name": {
           "type": "string"
          }
         },
         "required": [
          "dtype"
         ],
         "title": "Assign column types",
         "type": "object"
        },
        "keywords": [
         "convert",
         "data",
         "type",
         "datatype",
         "types",
         "change",
         "modify"
        ],
        "library": {
         "importStatement": "import pandas as pd",
         "name": "pandas"
        },
        "uischema": {
         "dtype": {
          "items": {
           "classNames": "side-by-side-fields",
           "column": {
            "classNames": "left-field"
           },
           "type": {
            "classNames": "right-field"
           }
          }
         },
         "new table name": {
          "ui:placeholder": "Leave blank to modify selected table"
         }
        }
       },
       "bar": {
        "form": {
         "callerObject": "px",
         "definitions": {
          "column": {
           "enum": [],
           "type": "string"
          }
         },
         "description": "Generate a line chart",
         "function": "bar",
         "properties": {
          "color": {
           "$ref": "#/definitions/column",
           "description": "Plot one line for each distinct value in the selected column (Group by).",
           "type": "string"
          },
          "facet_col": {
           "$ref": "#/definitions/column",
           "description": "Create one plot for each of the values in this variable as a column.",
           "type": "string"
          },
          "facet_row": {
           "$ref": "#/definitions/column",
           "description": "Create one plot for each of the values in this variable as a row.",
           "type": "string"
          },
          "x": {
           "$ref": "#/definitions/column",
           "description": "Column to use for the x axis.",
           "type": "string"
          },
          "y": {
           "$ref": "#/definitions/column",
           "description": "Column to use for the y axis.",
           "type": "string"
          }
         },
         "required": [
          "x",
          "y"
         ],
         "returnType": "none",
         "selectionAsParameter": true,
         "title": "[Charts] Bar chart",
         "type": "object"
        },
        "keywords": [
         "write"
        ],
        "library": {
         "importStatement": "import plotly.express as px",
         "name": "plotly.express"
        }
       },
       "bin_column": {
        "form": {
         "callerObject": "DataFrame[Series].fdt",
         "definitions": {
          "column": {
           "enum": [],
           "type": "string"
          }
         },
         "dependencies": {
          "mode": {
           "oneOf": [
            {
             "properties": {
              "end": {
               "description": "Inclusive: Number at which to end the buckets. E.g. if start = 5, size =10 and end is set to 17, it will only create a category (5,15]. The next valid end would be 25.",
               "type": "number"
              },
              "mode": {
               "enum": [
                "size"
               ]
              },
              "new column name": {
               "type": "string"
              },
              "size": {
               "description": "Inclusive: Take buckets of this size. For example, if start is set at 5, and size to 10, it will pick up elements from 6 to 15, including 15.",
               "type": "number"
              },
              "start": {
               "description": "Non-inclusive: Sart the bucket above this number. For example, if start is set at 5, bucketing will start at 6.",
               "type": "number"
              }
             }
            },
            {
             "properties": {
              "bin_number": {
               "description": "Number of equally spaced bins used. Bin width is then (max-min)/bin number.",
               "title": "bin number",
               "type": "number"
              },
              "mode": {
               "enum": [
                "number"
               ]
              },
              "new column name": {
               "type": "string"
              }
             }
            },
            {
             "properties": {
              "mode": {
               "enum": [
                "quantiles"
               ]
              },
              "new column name": {
               "type": "string"
              },
              "quantiles": {
               "description": "Number of quantiles. 10 for deciles, 4 for quartiles, etc.",
               "type": "number"
              }
             }
            },
            {
             "properties": {
              "breaks": {
               "description": "Set the break points for the custom ranges. Need to include start and end elements",
               "items": {
                "type": "number"
               },
               "type": "array"
              },
              "closed": {
               "description": "For example, breaks of [1, 3, 5 o] closed on the right implies that nubmer 3 will be part of the interval (1-3]. If closed on the let, then 3 would be part of interval [3-5)",
               "enum": [
                "left",
                "right",
                "both",
                "neither"
               ],
               "type": "string"
              },
              "mode": {
               "enum": [
                "custom"
               ]
              },
              "new column name": {
               "type": "string"
              }
             }
            }
           ]
          }
         },
         "description": "Creates bins/bukets for columns with numerical values.",
         "function": "bin_column",
         "properties": {
          "column": {
           "$ref": "#/definitions/column",
           "codegenstyle": "ignore",
           "title": "column"
          },
          "mode": {
           "default": "size",
           "enum": [
            "size",
            "number",
            "quantiles",
            "custom"
           ],
           "enumNames": [
            "Size of bin",
            "Number of bins",
            "Quantiles (e.g. quartiles)",
            "Custom interval ranges"
           ],
           "type": "string"
          }
         },
         "required": [
          "column",
          "mode"
         ],
         "returnType": "series",
         "title": "[Column] Bin columns",
         "type": "object"
        },
        "keywords": [
         "bin",
         "bucket",
         "group"
        ],
        "library": {
         "importStatement": "from fastdata.core import *",
         "name": "fastdata.core"
        },
        "uischema": {
         "mode": {
          "ui:widget": "radio"
         },
         "new column name": {
          "ui:placeholder": "Leave blank to modify selected column"
         }
        }
       },
       "clean_text_column": {
        "form": {
         "callerObject": "DataFrame[Series].fdt",
         "definitions": {
          "column": {
           "enum": [],
           "type": "string"
          }
         },
         "dependencies": {
          "mode": {
           "oneOf": [
            {
             "properties": {
              "keep_unmatched": {
               "codegenstyle": "variable",
               "default": "False",
               "enum": [
                "True",
                "False"
               ],
               "title": "keep unmatched",
               "type": "string"
              },
              "mode": {
               "enum": [
                "custom"
               ]
              },
              "new column name": {
               "type": "string"
              },
              "regex": {
               "description": "Regular expression to clean data.",
               "type": "string"
              }
             }
            },
            {
             "properties": {
              "character": {
               "description": "Keep the text before the entered character.",
               "type": "string"
              },
              "keep_unmatched": {
               "codegenstyle": "variable",
               "default": "False",
               "enum": [
                "True",
                "False"
               ],
               "title": "keep unmatched",
               "type": "string"
              },
              "mode": {
               "enum": [
                "before_character"
               ]
              },
              "new column name": {
               "type": "string"
              }
             }
            },
            {
             "properties": {
              "character": {
               "description": "Keep the text after the entered character.",
               "type": "string"
              },
              "keep_unmatched": {
               "codegenstyle": "variable",
               "default": "False",
               "enum": [
                "True",
                "False"
               ],
               "title": "keep unmatched",
               "type": "string"
              },
              "mode": {
               "enum": [
                "after_character"
               ]
              },
              "new column name": {
               "type": "string"
              }
             }
            },
            {
             "properties": {
              "keep_unmatched": {
               "codegenstyle": "variable",
               "default": "False",
               "enum": [
                "True",
                "False"
               ],
               "title": "keep unmatched",
               "type": "string"
              },
              "mode": {
               "enum": [
                "email"
               ]
              },
              "new column name": {
               "type": "string"
              }
             }
            },
            {
             "properties": {
              "digits": {
               "type": "string"
              },
              "keep_unmatched": {
               "codegenstyle": "variable",
               "default": "False",
               "enum": [
                "True",
                "False"
               ],
               "title": "keep unmatched",
               "type": "string"
              },
              "mode": {
               "enum": [
                "n_digits"
               ]
              },
              "new column name": {
               "type": "string"
              }
             }
            },
            {
             "properties": {
              "end": {
               "type": "string"
              },
              "keep_unmatched": {
               "codegenstyle": "variable",
               "default": "False",
               "enum": [
                "True",
                "False"
               ],
               "enumNames": [
                "Include index",
                "Exclude index"
               ],
               "title": "keep unmatched",
               "type": "string"
              },
              "mode": {
               "enum": [
                "between"
               ]
              },
              "new column name": {
               "type": "string"
              },
              "start": {
               "type": "string"
              }
             }
            }
           ]
          }
         },
         "description": "Clean text from column using regex or function.",
         "function": "clean_text_column",
         "properties": {
          "column": {
           "$ref": "#/definitions/column",
           "codegenstyle": "ignore",
           "title": "column"
          },
          "mode": {
           "description": "Use a preset to clean the text column or enter a custom regular expression.",
           "enum": [
            "custom",
            "before_character",
            "after_character",
            "email",
            "n_digits",
            "between"
           ],
           "enumNames": [
            "custom",
            "before character",
            "after character",
            "email",
            "n_digits",
            "between"
           ],
           "type": "string"
          }
         },
         "required": [
          "column",
          "mode"
         ],
         "returnType": "series",
         "title": "[Column] Clean text from column",
         "type": "object"
        },
        "keywords": [
         "substring",
         "extract",
         "clean"
        ],
        "library": {
         "importStatement": "from fastdata.core import *",
         "name": "fastdata.core"
        },
        "uischema": {
         "mode": {
          "ui:widget": "radio"
         },
         "new column name": {
          "ui:placeholder": "Leave blank to modify selected column"
         }
        }
       },
       "clean_text_columns": {
        "form": {
         "callerObject": "DataFrame.fdt",
         "definitions": {
          "columns": {
           "items": {
            "enum": [],
            "type": "string"
           },
           "type": "array",
           "uniqueItems": true
          }
         },
         "dependencies": {
          "mode": {
           "oneOf": [
            {
             "properties": {
              "keep_unmatched": {
               "codegenstyle": "variable",
               "default": "False",
               "enum": [
                "True",
                "False"
               ],
               "title": "keep unmatched",
               "type": "string"
              },
              "mode": {
               "enum": [
                "custom"
               ]
              },
              "new table name": {
               "type": "string"
              },
              "regex": {
               "description": "Regular expression to clean data.",
               "type": "string"
              }
             }
            },
            {
             "properties": {
              "character": {
               "description": "Keep the text before the entered character.",
               "type": "string"
              },
              "keep_unmatched": {
               "codegenstyle": "variable",
               "default": "False",
               "enum": [
                "True",
                "False"
               ],
               "title": "keep unmatched",
               "type": "string"
              },
              "mode": {
               "enum": [
                "before_character"
               ]
              },
              "new table name": {
               "type": "string"
              }
             }
            },
            {
             "properties": {
              "character": {
               "description": "Keep the text after the entered character.",
               "type": "string"
              },
              "keep_unmatched": {
               "codegenstyle": "variable",
               "default": "False",
               "enum": [
                "True",
                "False"
               ],
               "title": "keep unmatched",
               "type": "string"
              },
              "mode": {
               "enum": [
                "after_character"
               ]
              },
              "new table name": {
               "type": "string"
              }
             }
            },
            {
             "properties": {
              "keep_unmatched": {
               "codegenstyle": "variable",
               "default": "False",
               "enum": [
                "True",
                "False"
               ],
               "title": "keep unmatched",
               "type": "string"
              },
              "mode": {
               "enum": [
                "email"
               ]
              },
              "new table name": {
               "type": "string"
              }
             }
            },
            {
             "properties": {
              "digits": {
               "type": "string"
              },
              "keep_unmatched": {
               "codegenstyle": "variable",
               "default": "False",
               "enum": [
                "True",
                "False"
               ],
               "title": "keep unmatched",
               "type": "string"
              },
              "mode": {
               "enum": [
                "n_digits"
               ]
              },
              "new table name": {
               "type": "string"
              }
             }
            },
            {
             "properties": {
              "end": {
               "type": "string"
              },
              "keep_unmatched": {
               "codegenstyle": "variable",
               "default": "False",
               "enum": [
                "True",
                "False"
               ],
               "enumNames": [
                "Include index",
                "Exclude index"
               ],
               "title": "keep unmatched",
               "type": "string"
              },
              "mode": {
               "enum": [
                "between"
               ]
              },
              "new table name": {
               "type": "string"
              },
              "start": {
               "type": "string"
              }
             }
            }
           ]
          }
         },
         "description": "Clean text from column using regex or function.",
         "function": "clean_text_columns",
         "properties": {
          "columns": {
           "$ref": "#/definitions/columns"
          },
          "mode": {
           "description": "Use a preset to clean the text column or enter a custom regular expression.",
           "enum": [
            "custom",
            "before_character",
            "after_character",
            "email",
            "n_digits",
            "between"
           ],
           "enumNames": [
            "custom",
            "before character",
            "after character",
            "email",
            "n_digits",
            "between"
           ],
           "type": "string"
          }
         },
         "required": [
          "columns",
          "mode"
         ],
         "returnType": "dataframe",
         "title": "Clean text from multiple columns",
         "type": "object"
        },
        "keywords": [
         "substring",
         "extract",
         "clean"
        ],
        "library": {
         "importStatement": "from fastdata.core import *",
         "name": "fastdata.core"
        },
        "uischema": {
         "mode": {
          "ui:widget": "radio"
         },
         "new column name": {
          "ui:placeholder": "Leave blank to modify selected column"
         }
        }
       },
       "contains": {
        "form": {
         "callerObject": "DataFrame[Series].str",
         "definitions": {
          "column": {
           "enum": [],
           "type": "string"
          }
         },
         "description": "Check if the given pattern is contained in a text column. Returns true/false depending on if the text is found.",
         "function": "contains",
         "properties": {
          "case": {
           "codegenstyle": "variable",
           "default": "True",
           "enum": [
            "True",
            "False"
           ],
           "title": "case sensitive",
           "type": "string"
          },
          "column": {
           "$ref": "#/definitions/column",
           "codegenstyle": "ignore",
           "title": "column"
          },
          "new column name": {
           "type": "string"
          },
          "pat": {
           "description": "Find this pattern in the column (includes partial matches)",
           "title": "pattern",
           "type": "string"
          },
          "regex": {
           "codegenstyle": "variable",
           "default": "False",
           "description": "[Advanced] extraction using a regular expression.",
           "enum": [
            "True",
            "False"
           ],
           "title": "",
           "type": "string"
          }
         },
         "required": [
          "column",
          "pat"
         ],
         "title": "[Column] Find contained text",
         "type": "object"
        },
        "keywords": [
         "find",
         "locate",
         "check"
        ],
        "library": {
         "importStatement": "import pandas as pd",
         "name": "pandas"
        },
        "uischema": {
         "new column name": {
          "ui:placeholder": "Leave blank to modify selected column"
         }
        }
       },
       "day": {
        "form": {
         "callerObject": "DataFrame[Series].dt",
         "definitions": {
          "column": {
           "enum": [],
           "type": "string"
          }
         },
         "description": "Gets the day value from a datetime column.",
         "function": "day",
         "properties": {
          "column": {
           "$ref": "#/definitions/column",
           "codegenstyle": "ignore",
           "title": "column"
          },
          "new column name": {
           "type": "string"
          }
         },
         "required": [
          "column"
         ],
         "title": "[Column] Get day number",
         "transformationType": "property",
         "type": "object"
        },
        "library": {
         "importStatement": "import pandas as pd",
         "name": "pandas"
        },
        "uischema": {
         "new column name": {
          "ui:placeholder": "Leave blank to modify selected column"
         }
        }
       },
       "day_name": {
        "form": {
         "callerObject": "DataFrame[Series].dt",
         "definitions": {
          "column": {
           "enum": [],
           "type": "string"
          }
         },
         "description": "Gets the day name from a datetime column. Returns text ilke \"Monday\".",
         "function": "day_name",
         "properties": {
          "column": {
           "$ref": "#/definitions/column",
           "codegenstyle": "ignore",
           "title": "column"
          },
          "new column name": {
           "type": "string"
          }
         },
         "required": [
          "column"
         ],
         "title": "[Column] Get weekday name",
         "type": "object"
        },
        "library": {
         "importStatement": "import pandas as pd",
         "name": "pandas"
        },
        "uischema": {
         "new column name": {
          "ui:placeholder": "Leave blank to modify selected column"
         }
        }
       },
       "dayofweek": {
        "form": {
         "callerObject": "DataFrame[Series].dt",
         "definitions": {
          "column": {
           "enum": [],
           "type": "string"
          }
         },
         "description": "Gets the day value from a datetime column. Returns a number assuming Monday=0 and Sunday=6.",
         "function": "dayofweek",
         "properties": {
          "column": {
           "$ref": "#/definitions/column",
           "codegenstyle": "ignore",
           "title": "column"
          },
          "new column name": {
           "type": "string"
          }
         },
         "required": [
          "column"
         ],
         "title": "[Column] Get weekday number",
         "transformationType": "property",
         "type": "object"
        },
        "library": {
         "importStatement": "import pandas as pd",
         "name": "pandas"
        },
        "uischema": {
         "new column name": {
          "ui:placeholder": "Leave blank to modify selected column"
         }
        }
       },
       "describe": {
        "form": {
         "callerObject": "DataFrame",
         "description": "Get statistical distribution of columns.",
         "function": "describe",
         "returnType": "none",
         "title": "Overview: Column statistics",
         "type": "object"
        },
        "library": {
         "importStatement": "import pandas as pd",
         "name": "pandas"
        },
        "uischema": {
         "new table name": {
          "ui:placeholder": "Leave blank to modify selected table"
         }
        }
       },
       "df_to_airtable_base": {
        "form": {
         "definitions": {
          "dataframes": {
           "enum": [],
           "type": "string"
          }
         },
         "description": "Save table to airtable.",
         "function": "df_to_airtable_base",
         "properties": {
          "base": {
           "description": "You can get the id from airtable.com/api.",
           "title": "id of the base",
           "type": "string"
          },
          "data": {
           "$ref": "#/definitions/dataframes",
           "codegenstyle": "variable",
           "type": "string"
          },
          "key": {
           "description": "You can get the id from airtable.com/api (selecting show API key on the top right).",
           "title": "api key",
           "type": "string"
          },
          "table": {
           "description": "Name of the table as shown in Airtable UI.",
           "title": "name of the table",
           "type": "string"
          }
         },
         "required": [
          "data",
          "base",
          "table",
          "key"
         ],
         "returnType": "none",
         "title": "Save to Airtable",
         "type": "object"
        },
        "keywords": [
         "airtable",
         "base",
         "save",
         "write",
         "upload",
         "connect"
        ],
        "library": {
         "importStatement": "from fastdata.integrations import *",
         "name": "fastdata.integrations"
        },
        "uischema": {
         "new table name": {
          "ui:placeholder": "Leave blank to modify selected table"
         }
        }
       },
       "divide": {
        "form": {
         "callerObject": "DataFrame[Series]",
         "definitions": {
          "column": {
           "enum": [],
           "type": "string"
          }
         },
         "dependencies": {
          "mode": {
           "oneOf": [
            {
             "properties": {
              "mode": {
               "enum": [
                "value"
               ]
              },
              "new column name": {
               "type": "string"
              },
              "other": {
               "title": "value",
               "type": "number"
              }
             }
            },
            {
             "properties": {
              "mode": {
               "enum": [
                "column"
               ]
              },
              "new column name": {
               "type": "string"
              },
              "other": {
               "$ref": "#/definitions/column",
               "codegenstyle": "seriesColumn",
               "title": "column"
              }
             }
            }
           ]
          }
         },
         "description": "Element-wise division of values in a column.",
         "function": "divide",
         "properties": {
          "column": {
           "$ref": "#/definitions/column",
           "codegenstyle": "ignore",
           "title": "column"
          },
          "mode": {
           "codegenstyle": "ignore",
           "default": "value",
           "enum": [
            "value",
            "column"
           ],
           "enumNames": [
            "Divide by a value",
            "Divide by another column"
           ],
           "type": "string"
          }
         },
         "required": [
          "column",
          "mode"
         ],
         "returnType": "series",
         "title": "[Column] Divide column values",
         "type": "object"
        },
        "library": {
         "importStatement": "import pandas as pd",
         "name": "pandas"
        },
        "uischema": {
         "mode": {
          "ui:widget": "radio"
         },
         "new column name": {
          "ui:placeholder": "Leave blank to modify selected column"
         }
        }
       },
       "drop": {
        "form": {
         "callerObject": "DataFrame",
         "definitions": {
          "columns": {
           "items": {
            "enum": [],
            "type": "string"
           },
           "type": "array",
           "uniqueItems": true
          }
         },
         "description": "Drop columns from the table.",
         "function": "drop",
         "properties": {
          "columns": {
           "$ref": "#/definitions/columns",
           "description": "Select the columns that you want to remove."
          },
          "new table name": {
           "type": "string"
          }
         },
         "required": [
          "columns"
         ],
         "title": "Drop columns",
         "type": "object"
        },
        "keywords": [
         "remove",
         "exclude"
        ],
        "library": {
         "importStatement": "import pandas as pd",
         "name": "pandas"
        },
        "uischema": {
         "new table name": {
          "ui:placeholder": "Leave blank to modify selected table"
         }
        }
       },
       "dropna": {
        "form": {
         "callerObject": "DataFrame",
         "definitions": {
          "columns": {
           "items": {
            "enum": [],
            "type": "string"
           },
           "type": "array",
           "uniqueItems": true
          }
         },
         "description": "Drop rows or columns that contain blanks",
         "function": "dropna",
         "properties": {
          "axis": {
           "default": "index",
           "description": "Drop rows or columns",
           "enum": [
            "index",
            "columns"
           ],
           "enumNames": [
            "Rows",
            "Columns"
           ],
           "type": "string"
          },
          "how": {
           "default": "any",
           "description": "Elements that need to be blank to drop the column",
           "enum": [
            "any",
            "all"
           ],
           "type": "string"
          },
          "new table name": {
           "type": "string"
          },
          "subset": {
           "$ref": "#/definitions/columns",
           "description": "List of columns used to drop blanks. If not selected all columns are used. Only valid for axis=rows."
          }
         },
         "required": [
          "axis",
          "how"
         ],
         "title": "Drop blanks / NAs",
         "type": "object"
        },
        "keywords": [
         "nan",
         "na",
         "null",
         "empty",
         "remove"
        ],
        "library": {
         "importStatement": "import pandas as pd",
         "name": "pandas"
        },
        "uischema": {
         "columns": {
          "ui:widget": "checkboxes"
         },
         "new table name": {
          "ui:placeholder": "Leave blank to modify selected table"
         }
        }
       },
       "euclidean_distance": {
        "form": {
         "definitions": {
          "dataframes": {
           "enum": [],
           "type": "string"
          }
         },
         "description": "Calculate the row-wise euclidean distance between two dataframes with the same columns. Returns a dataframe with the index of the first dataframe and the corresponding euclidean distances.",
         "function": "euclidean_distance",
         "properties": {
          "df2": {
           "$ref": "#/definitions/dataframes",
           "codegenstyle": "variable",
           "description": "Second dataframe",
           "type": "string"
          },
          "new table name": {
           "type": "string"
          }
         },
         "required": [
          "df2"
         ],
         "returnType": "DataFrame",
         "selectionAsParameter": true,
         "title": "[Snippet] Euclidean distance",
         "type": "object"
        },
        "snippet": {
         "code": "def euclidean_distance(df1, df2):\n    import numpy as np\n    eucl_d = np.linalg.norm(df1.values - df2.values, axis=1)\n    return pd.DataFrame({'eucl_d':eucl_d}, index=df1.index).reset_index()",
         "name": "euclidean_distance"
        },
        "uischema": {
         "new table name": {
          "ui:placeholder": "Leave blank to modify selected table"
         }
        }
       },
       "factorize": {
        "form": {
         "append": "[0]",
         "callerObject": "DataFrame[Series]",
         "definitions": {
          "column": {
           "enum": [],
           "type": "string"
          }
         },
         "description": "Encode the object as an enumerated type or categorical variable. E.g. [male,female] -> [0,1].",
         "function": "factorize",
         "properties": {
          "column": {
           "$ref": "#/definitions/column",
           "codegenstyle": "ignore",
           "title": "column"
          },
          "na_sentinel": {
           "default": -1,
           "description": "Value used to replace missing values (NaN).",
           "title": "NaN value",
           "type": "number"
          },
          "new column name": {
           "type": "string"
          },
          "sort": {
           "codegenstyle": "variable",
           "default": "False",
           "description": "Sort the categories (ascending). ",
           "enum": [
            "True",
            "False"
           ],
           "title": "",
           "type": "string"
          }
         },
         "required": [
          "column",
          "sort"
         ],
         "title": "[Column] Encode labels to numbers",
         "type": "object"
        },
        "keywords": [
         "to",
         "numbers"
        ],
        "library": {
         "importStatement": "import pandas as pd",
         "name": "pandas"
        },
        "uischema": {
         "new column name": {
          "ui:placeholder": "Leave blank to modify selected column"
         }
        }
       },
       "fill_empty": {
        "form": {
         "callerObject": "DataFrame[Series].fdt",
         "definitions": {
          "column": {
           "enum": [],
           "type": "string"
          }
         },
         "dependencies": {
          "mode": {
           "oneOf": [
            {
             "properties": {
              "function": {
               "enum": [
                "ffill",
                "bfill",
                "most_frequent",
                "mean"
               ],
               "enumNames": [
                "forward fill (take the one above)",
                "backward fill (take the one below)",
                "most frequent",
                "average/mean"
               ],
               "type": "string"
              },
              "mode": {
               "enum": [
                "function"
               ]
              },
              "new column name": {
               "type": "string"
              }
             }
            },
            {
             "properties": {
              "mode": {
               "enum": [
                "value"
               ]
              },
              "new column name": {
               "type": "string"
              },
              "value": {
               "codegenstyle": "variable",
               "description": "",
               "type": "string"
              }
             }
            }
           ]
          }
         },
         "description": "Fill empty values in a column.",
         "function": "fill_empty",
         "properties": {
          "column": {
           "$ref": "#/definitions/column",
           "codegenstyle": "ignore",
           "title": "column"
          },
          "mode": {
           "default": "function",
           "enum": [
            "function",
            "value"
           ],
           "type": "string"
          }
         },
         "required": [
          "column",
          "mode"
         ],
         "returnType": "series",
         "title": "[Column] Fill empty values",
         "type": "object"
        },
        "keywords": [
         "nan",
         "na",
         "null",
         "empty",
         "replace"
        ],
        "library": {
         "importStatement": "from fastdata.core import *",
         "name": "fastdata.core"
        },
        "uischema": {
         "mode": {
          "ui:widget": "radio"
         },
         "new column name": {
          "ui:placeholder": "Leave blank to modify selected column"
         },
         "value": {
          "ui:placeholder": "E.g. \"text\" / 45"
         }
        }
       },
       "fillna": {
        "form": {
         "callerObject": "DataFrame",
         "definitions": {
          "column": {
           "enum": [],
           "type": "string"
          }
         },
         "dependencies": {
          "mode": {
           "oneOf": [
            {
             "properties": {
              "method": {
               "enum": [
                "ffill",
                "bfill"
               ],
               "enumNames": [
                "forward fill (take the one above)",
                "backward fill (take the one below)"
               ],
               "type": "string"
              },
              "mode": {
               "enum": [
                "function"
               ]
              },
              "new table name": {
               "type": "string"
              }
             }
            },
            {
             "properties": {
              "mode": {
               "enum": [
                "value"
               ]
              },
              "new table name": {
               "type": "string"
              },
              "value": {
               "codegenstyle": "variable",
               "description": "",
               "type": "string"
              }
             }
            }
           ]
          }
         },
         "description": "Fill empty values in all columns.",
         "function": "fillna",
         "properties": {
          "mode": {
           "codegenstyle": "ignore",
           "default": "value",
           "enum": [
            "function",
            "value"
           ],
           "type": "string"
          }
         },
         "required": [
          "mode"
         ],
         "returnType": "dataframe",
         "title": "Fill empty values in all columns",
         "type": "object"
        },
        "keywords": [
         "nan",
         "na",
         "null",
         "empty",
         "replace"
        ],
        "library": {
         "importStatement": "import pandas as pd",
         "name": "pandas"
        },
        "uischema": {
         "mode": {
          "ui:widget": "radio"
         },
         "new table name": {
          "ui:placeholder": "Leave blank to modify selected table"
         },
         "value": {
          "ui:placeholder": "E.g. \"text\" / 45"
         }
        }
       },
       "filter": {
        "form": {
         "callerObject": "DataFrame",
         "definitions": {
          "columns": {
           "items": {
            "enum": [],
            "type": "string"
           },
           "type": "array",
           "uniqueItems": true
          }
         },
         "description": "Keep only specific columns from the table.",
         "function": "filter",
         "properties": {
          "items": {
           "$ref": "#/definitions/columns",
           "description": "Select the columns that you want to keep."
          },
          "new table name": {
           "type": "string"
          }
         },
         "required": [
          "items"
         ],
         "title": "Keep columns",
         "type": "object"
        },
        "keywords": [
         "keep",
         "columns",
         "column"
        ],
        "library": {
         "importStatement": "import pandas as pd",
         "name": "pandas"
        },
        "uischema": {
         "new table name": {
          "ui:placeholder": "Leave blank to modify selected table"
         }
        }
       },
       "find": {
        "form": {
         "callerObject": "DataFrame[Series].str",
         "definitions": {
          "column": {
           "enum": [],
           "type": "string"
          }
         },
         "description": "Find the position of a text fragment within a column. Return a position number or -1 if the text is not found.",
         "function": "find",
         "properties": {
          "column": {
           "$ref": "#/definitions/column",
           "codegenstyle": "ignore",
           "title": "column"
          },
          "end": {
           "description": "Optional. Position at which to start searching (starting at 0). Exclusive.",
           "type": "number"
          },
          "new column name": {
           "type": "string"
          },
          "start": {
           "description": "Optional. Position at which to start searching (starting at 0). Inclusive.",
           "type": "number"
          },
          "sub": {
           "description": "Find this pattern in the column (includes partial matches)",
           "title": "pattern",
           "type": "string"
          }
         },
         "required": [
          "column",
          "sub"
         ],
         "title": "[Column] Find text position",
         "type": "object"
        },
        "keywords": [
         "position",
         "locate"
        ],
        "library": {
         "importStatement": "import pandas as pd",
         "name": "pandas"
        },
        "uischema": {
         "new column name": {
          "ui:placeholder": "Leave blank to modify selected column"
         }
        }
       },
       "get_dummies": {
        "form": {
         "callerObject": "pd",
         "definitions": {
          "columns": {
           "items": {
            "enum": [],
            "type": "string"
           },
           "type": "array",
           "uniqueItems": true
          }
         },
         "description": "Create new columns with 0/1 for each unique value in a column. Returns table with additional columns.",
         "function": "get_dummies",
         "properties": {
          "columns": {
           "$ref": "#/definitions/columns",
           "description": "Column(s) expanded into several columns for each distinct value with 0/1 indicators.",
           "title": "expand columns"
          },
          "dummy_na": {
           "codegenstyle": "variable",
           "default": "False",
           "description": "Include a column called NaN that indicates if the value is missing.",
           "enum": [
            "True",
            "False"
           ],
           "title": "NaN column",
           "type": "string"
          },
          "new table name": {
           "type": "string"
          }
         },
         "required": [
          "columns"
         ],
         "selectionAsParameter": true,
         "title": "Create 0/1 indicators for a column",
         "type": "object"
        },
        "keywords": [
         "1",
         "0",
         "columns"
        ],
        "library": {
         "importStatement": "import pandas as pd",
         "name": "pandas"
        },
        "uischema": {
         "new table name": {
          "ui:placeholder": "Leave blank to modify selected table"
         }
        }
       },
       "gsheet_to_df": {
        "form": {
         "description": "Load airtable base",
         "function": "gsheet_to_df",
         "properties": {
          "new table name": {
           "type": "string"
          },
          "sheet": {
           "default": 0,
           "description": "Sheet number that will be pulled as a table.",
           "title": "sheet number",
           "type": "number"
          },
          "start_row": {
           "default": 1,
           "description": "Row number for first row of headers or data.",
           "title": "start row number",
           "type": "number"
          },
          "url": {
           "title": "URL of the sheet",
           "type": "string"
          }
         },
         "required": [
          "url"
         ],
         "title": "Read Google Sheets",
         "transformationType": "dataLoading",
         "type": "object"
        },
        "keywords": [
         "sheet",
         "google",
         "load",
         "read"
        ],
        "library": {
         "importStatement": "from fastdata.integrations import *",
         "name": "fastdata.integrations"
        },
        "uischema": {
         "new table name": {
          "ui:placeholder": "Leave blank to modify selected table"
         }
        }
       },
       "hour": {
        "form": {
         "callerObject": "DataFrame[Series].dt",
         "definitions": {
          "column": {
           "enum": [],
           "type": "string"
          }
         },
         "description": "Gets the hour value from a datetime column.",
         "function": "hour",
         "properties": {
          "column": {
           "$ref": "#/definitions/column",
           "codegenstyle": "ignore",
           "title": "column"
          },
          "new column name": {
           "type": "string"
          }
         },
         "required": [
          "column"
         ],
         "title": "[Column] Get datetime hour",
         "transformationType": "property",
         "type": "object"
        },
        "library": {
         "importStatement": "import pandas as pd",
         "name": "pandas"
        },
        "uischema": {
         "new column name": {
          "ui:placeholder": "Leave blank to modify selected column"
         }
        }
       },
       "info": {
        "form": {
         "callerObject": "DataFrame",
         "description": "Get the number of non-null values and datatypes of all columns.",
         "function": "info",
         "returnType": "none",
         "title": "Overview: Null values and types",
         "type": "object"
        },
        "library": {
         "importStatement": "import pandas as pd",
         "name": "pandas"
        },
        "uischema": {
         "new table name": {
          "ui:placeholder": "Leave blank to modify selected table"
         }
        }
       },
       "insert": {
        "form": {
         "callerObject": "DataFrame",
         "description": "Insert new column with a constant value (same value in all rows).",
         "function": "insert",
         "properties": {
          "column": {
           "description": "",
           "title": "new column name",
           "type": "string"
          },
          "loc": {
           "default": 0,
           "description": "Position at which the column will be created (0 is to the left). If the number is larger than number of columns it will return an error.",
           "type": "number"
          },
          "value": {
           "codegenstyle": "variable",
           "description": "Value to be inserted in the column. Use quotation marks for text.",
           "type": "string"
          }
         },
         "required": [
          "loc",
          "column",
          "value"
         ],
         "returnType": "none",
         "title": "[Column] Insert column with constant value",
         "type": "object"
        },
        "keywords": [
         "add",
         "append",
         "insert",
         "create",
         "new",
         "static",
         "constant"
        ],
        "library": {
         "importStatement": "import pandas as pd",
         "name": "pandas"
        },
        "uischema": {
         "value": {
          "ui:placeholder": "E.g. \"text\" / 45"
         }
        }
       },
       "line": {
        "form": {
         "callerObject": "px",
         "definitions": {
          "column": {
           "enum": [],
           "type": "string"
          }
         },
         "description": "Generate a line chart",
         "function": "line",
         "properties": {
          "color": {
           "$ref": "#/definitions/column",
           "description": "Plot one line for each distinct value in the selected column (Group by).",
           "type": "string"
          },
          "facet_col": {
           "$ref": "#/definitions/column",
           "description": "Create one plot for each of the values in this variable as a column.",
           "type": "string"
          },
          "facet_row": {
           "$ref": "#/definitions/column",
           "description": "Create one plot for each of the values in this variable as a row.",
           "type": "string"
          },
          "x": {
           "$ref": "#/definitions/column",
           "description": "Column to use for the x axis.",
           "type": "string"
          },
          "y": {
           "$ref": "#/definitions/column",
           "description": "Column to use for the y axis.",
           "type": "string"
          }
         },
         "required": [
          "x",
          "y"
         ],
         "returnType": "none",
         "selectionAsParameter": true,
         "title": "[Charts] Line chart",
         "type": "object"
        },
        "keywords": [
         "write"
        ],
        "library": {
         "importStatement": "import plotly.express as px",
         "name": "plotly.express"
        }
       },
       "lowercase": {
        "form": {
         "callerObject": "DataFrame[Series].str",
         "definitions": {
          "column": {
           "enum": [],
           "type": "string"
          }
         },
         "description": "Set the text in a column to lower case.",
         "function": "lower",
         "properties": {
          "column": {
           "$ref": "#/definitions/column",
           "codegenstyle": "ignore",
           "title": "column"
          },
          "new column name": {
           "type": "string"
          }
         },
         "required": [
          "column"
         ],
         "title": "[Column] Set text to lower case",
         "type": "object"
        },
        "library": {
         "importStatement": "import pandas as pd",
         "name": "pandas"
        },
        "uischema": {
         "new column name": {
          "ui:placeholder": "Leave blank to modify selected column"
         }
        }
       },
       "lstrip": {
        "form": {
         "callerObject": "DataFrame[Series].str",
         "definitions": {
          "column": {
           "enum": [],
           "type": "string"
          }
         },
         "description": "Remove leading characters of a text column.",
         "function": "lstrip",
         "properties": {
          "column": {
           "$ref": "#/definitions/column",
           "codegenstyle": "ignore",
           "title": "column"
          },
          "new column name": {
           "type": "string"
          },
          "to_strip": {
           "description": "Leave blank to remove spaces.",
           "title": "characters",
           "type": "string"
          }
         },
         "required": [
          "column"
         ],
         "title": "[Column] Remove leading characters",
         "type": "object"
        },
        "keywords": [
         "left",
         "from"
        ],
        "library": {
         "importStatement": "import pandas as pd",
         "name": "pandas"
        },
        "uischema": {
         "new column name": {
          "ui:placeholder": "Leave blank to modify selected column"
         }
        }
       },
       "mean": {
        "form": {
         "callerObject": "DataFrame[Series]",
         "definitions": {
          "column": {
           "enum": [],
           "type": "string"
          }
         },
         "description": "Returns a variable with the mean of all values from a column.",
         "function": "mean",
         "properties": {
          "column": {
           "$ref": "#/definitions/column",
           "codegenstyle": "ignore",
           "title": "column"
          },
          "new variable name": {
           "type": "string"
          }
         },
         "required": [
          "column"
         ],
         "title": "[Column] Mean of a column",
         "type": "object"
        },
        "keywords": [
         "average"
        ],
        "library": {
         "importStatement": "import pandas as pd",
         "name": "pandas"
        },
        "uischema": {
         "new variable name": {
          "ui:placeholder": "Leave blank to modify selected column"
         }
        }
       },
       "merge": {
        "form": {
         "callerObject": "DataFrame",
         "definitions": {
          "columns": {
           "items": {
            "enum": [],
            "type": "string"
           },
           "type": "array",
           "uniqueItems": true
          },
          "dataframes": {
           "enum": [],
           "type": "string"
          },
          "right_columns": {
           "items": {
            "enum": [],
            "type": "string"
           },
           "type": "array",
           "uniqueItems": true
          }
         },
         "description": "Join the selected table with another table.",
         "function": "merge",
         "properties": {
          "how": {
           "default": "inner",
           "description": "Type of join to be performed.",
           "enum": [
            "inner",
            "left",
            "right",
            "outer"
           ],
           "enumNames": [
            "Inner: Keep only when left and right match",
            "Left: Return all rows from the left",
            "Right: Keep all rows from the right",
            "Outer: Return all rows from left & right"
           ],
           "type": "string"
          },
          "left_on": {
           "$ref": "#/definitions/columns",
           "title": "left column"
          },
          "new table name": {
           "type": "string"
          },
          "right": {
           "$ref": "#/definitions/dataframes",
           "codegenstyle": "variable",
           "description": "Table to be used to join on the right.",
           "type": "string"
          },
          "right_on": {
           "$ref": "#/definitions/right_columns",
           "title": "right column"
          },
          "suffixes": {
           "codegenstyle": "variable",
           "description": "Add suffixes to the column names after the join. Format needs to be like  (“_x”, “_y”)",
           "type": "string"
          }
         },
         "required": [
          "right",
          "how",
          "left_on",
          "right_on"
         ],
         "title": "Join tables",
         "type": "object"
        },
        "keywords": [
         "vlookup",
         "index",
         "match",
         "lookup"
        ],
        "library": {
         "importStatement": "import pandas as pd",
         "name": "pandas"
        },
        "uischema": {
         "classNames": "side-by-side-fields",
         "how": {
          "classNames": "right-field"
         },
         "left_on": {
          "classNames": "left-field"
         },
         "new table name": {
          "classNames": "full-width",
          "ui:placeholder": "Leave blank to modify selected table"
         },
         "right": {
          "String": "",
          "classNames": "left-field"
         },
         "right_on": {
          "classNames": "right-field"
         }
        }
       },
       "minute": {
        "form": {
         "callerObject": "DataFrame[Series].dt",
         "definitions": {
          "column": {
           "enum": [],
           "type": "string"
          }
         },
         "description": "Gets the minute value from a datetime column.",
         "function": "minute",
         "properties": {
          "column": {
           "$ref": "#/definitions/column",
           "codegenstyle": "ignore",
           "title": "column"
          },
          "new column name": {
           "type": "string"
          }
         },
         "required": [
          "column"
         ],
         "title": "[Column] Get datetime minute",
         "transformationType": "property",
         "type": "object"
        },
        "library": {
         "importStatement": "import pandas as pd",
         "name": "pandas"
        },
        "uischema": {
         "new column name": {
          "ui:placeholder": "Leave blank to modify selected column"
         }
        }
       },
       "month": {
        "form": {
         "callerObject": "DataFrame[Series].dt",
         "definitions": {
          "column": {
           "enum": [],
           "type": "string"
          }
         },
         "description": "Gets the month value from a datetime column.",
         "function": "month",
         "properties": {
          "column": {
           "$ref": "#/definitions/column",
           "codegenstyle": "ignore",
           "title": "column"
          },
          "new column name": {
           "type": "string"
          }
         },
         "required": [
          "column"
         ],
         "title": "[Column] Get month number",
         "transformationType": "property",
         "type": "object"
        },
        "library": {
         "importStatement": "import pandas as pd",
         "name": "pandas"
        },
        "uischema": {
         "new column name": {
          "ui:placeholder": "Leave blank to modify selected column"
         }
        }
       },
       "multiply": {
        "form": {
         "callerObject": "DataFrame[Series]",
         "definitions": {
          "column": {
           "enum": [],
           "type": "string"
          }
         },
         "dependencies": {
          "mode": {
           "oneOf": [
            {
             "properties": {
              "mode": {
               "enum": [
                "value"
               ]
              },
              "new column name": {
               "type": "string"
              },
              "other": {
               "title": "value",
               "type": "number"
              }
             }
            },
            {
             "properties": {
              "mode": {
               "enum": [
                "column"
               ]
              },
              "new column name": {
               "type": "string"
              },
              "other": {
               "$ref": "#/definitions/column",
               "codegenstyle": "seriesColumn",
               "title": "column"
              }
             }
            }
           ]
          }
         },
         "description": "Element-wise multiplication of values in a column.",
         "function": "multiply",
         "properties": {
          "column": {
           "$ref": "#/definitions/column",
           "codegenstyle": "ignore",
           "title": "column"
          },
          "mode": {
           "codegenstyle": "ignore",
           "default": "value",
           "enum": [
            "value",
            "column"
           ],
           "enumNames": [
            "Multiply by a value",
            "Multiply by another column"
           ],
           "type": "string"
          }
         },
         "required": [
          "column",
          "mode"
         ],
         "returnType": "series",
         "title": "[Column] Multiply column values",
         "type": "object"
        },
        "library": {
         "importStatement": "import pandas as pd",
         "name": "pandas"
        },
        "uischema": {
         "mode": {
          "ui:widget": "radio"
         },
         "new column name": {
          "ui:placeholder": "Leave blank to modify selected column"
         }
        }
       },
       "notfound": {
        "form": {
         "properties": {
          "description": {
           "description": "Tell us which functionality you are missing.",
           "type": "string"
          }
         },
         "title": "Can't find what you want?",
         "type": "object"
        },
        "uischema": {
         "description": {
          "ui:widget": "textarea"
         }
        }
       },
       "pivot_table": {
        "form": {
         "callerObject": "DataFrame.fdt",
         "definitions": {
          "column": {
           "enum": [],
           "type": "string"
          },
          "columns": {
           "items": {
            "enum": [],
            "type": "string"
           },
           "type": "array",
           "uniqueItems": true
          }
         },
         "dependencies": {
          "mode": {
           "oneOf": [
            {
             "properties": {
              "aggfunc": {
               "description": "Aggregations to perform in the pivot table (e.g. calculating the average).",
               "items": {
                "properties": {
                 "column": {
                  "$ref": "#/definitions/column",
                  "title": "column"
                 },
                 "function": {
                  "items": {
                   "codegenstyle": "variable",
                   "default": "Count (excl. missing values)",
                   "enum": [
                    "\"size\"",
                    "\"count\"",
                    "\"nunique\"",
                    "\"mean\"",
                    "\"sum\"",
                    "\"max\"",
                    "\"min\"",
                    "\"median\"",
                    "\"first\"",
                    "\"last\"",
                    "\"std\"",
                    "\"var\""
                   ],
                   "enumNames": [
                    "Count (incl. missing values)",
                    "Count (excl. missing values)",
                    "Count unique",
                    "Mean",
                    "Sum",
                    "Maximum",
                    "Minimum",
                    "Median",
                    "First value",
                    "Last value",
                    "Standard deviation",
                    "Variance"
                   ],
                   "type": "string"
                  },
                  "title": "aggregations",
                  "type": "array",
                  "uniqueItems": true
                 }
                },
                "type": "object"
               },
               "title": "aggregations",
               "type": "array"
              },
              "mode": {
               "enum": [
                "array"
               ]
              },
              "new table name": {
               "default": "pivot",
               "type": "string"
              }
             }
            },
            {
             "properties": {
              "aggfunc": {
               "items": {
                "codegenstyle": "variable",
                "default": "Count (excl. missing values)",
                "enum": [
                 "\"size\"",
                 "\"count\"",
                 "\"nunique\"",
                 "\"mean\"",
                 "\"sum\"",
                 "\"max\"",
                 "\"min\"",
                 "\"median\"",
                 "\"first\"",
                 "\"last\"",
                 "\"std\"",
                 "\"var\""
                ],
                "enumNames": [
                 "Count (incl. missing values)",
                 "Count (excl. missing values)",
                 "Count unique",
                 "Mean",
                 "Sum",
                 "Maximum",
                 "Minimum",
                 "Median",
                 "First value",
                 "Last value",
                 "Standard deviation",
                 "Variance"
                ],
                "type": "string"
               },
               "title": "aggregations",
               "type": "array",
               "uniqueItems": true
              },
              "mode": {
               "enum": [
                "single"
               ]
              },
              "new table name": {
               "default": "pivot",
               "type": "string"
              }
             }
            }
           ]
          }
         },
         "description": "Returns a table with aggregations grouped by elements selected in the rows and columns.",
         "function": "pivot_table",
         "properties": {
          "columns": {
           "$ref": "#/definitions/columns",
           "description": "Columns used in the pivot table. Leave blank gor a simple aggregation without columns."
          },
          "index": {
           "$ref": "#/definitions/columns",
           "description": "Rows used in the pivot table."
          },
          "index_type": {
           "default": "flat",
           "description": "Enable or disable pandas hierarchical indexes.",
           "enum": [
            "flat",
            "hierarchical"
           ],
           "enumNames": [
            "Flat",
            "Hierarchical indexes"
           ],
           "title": "index type",
           "type": "string"
          },
          "mode": {
           "codegenstyle": "ignore",
           "default": "array",
           "enum": [
            "array",
            "single"
           ],
           "enumNames": [
            "Aggregate over individual columns",
            "Aggregate over all columns"
           ],
           "type": "string"
          }
         },
         "required": [
          "index",
          "aggfunc"
         ],
         "title": "Pivot table",
         "type": "object"
        },
        "keywords": [
         "count",
         "mean",
         "sum",
         "maximum",
         "minimum",
         "median",
         "first",
         "last",
         "standard",
         "variance",
         "unique",
         "deviation",
         "value",
         "for",
         "each",
         "group",
         "by"
        ],
        "library": {
         "importStatement": "from fastdata.core import *",
         "name": "fastdata.core"
        },
        "uischema": {
         "aggfunc": {
          "items": {
           "classNames": "side-by-side-fields",
           "column": {
            "classNames": "left-field"
           },
           "function": {
            "classNames": "right-field"
           }
          }
         },
         "mode": {
          "ui:widget": "radio"
         },
         "new table name": {
          "ui:placeholder": "Leave blank to modify selected table"
         }
        }
       },
       "pow": {
        "form": {
         "callerObject": "DataFrame[Series]",
         "definitions": {
          "column": {
           "enum": [],
           "type": "string"
          }
         },
         "dependencies": {
          "mode": {
           "oneOf": [
            {
             "properties": {
              "mode": {
               "enum": [
                "value"
               ]
              },
              "new column name": {
               "type": "string"
              },
              "other": {
               "title": "value",
               "type": "number"
              }
             }
            },
            {
             "properties": {
              "mode": {
               "enum": [
                "column"
               ]
              },
              "new column name": {
               "type": "string"
              },
              "other": {
               "$ref": "#/definitions/column",
               "codegenstyle": "seriesColumn",
               "title": "column"
              }
             }
            }
           ]
          }
         },
         "description": "Element-wise exponentiation of values in a column.",
         "function": "pow",
         "properties": {
          "column": {
           "$ref": "#/definitions/column",
           "codegenstyle": "ignore",
           "title": "column"
          },
          "mode": {
           "codegenstyle": "ignore",
           "default": "value",
           "enum": [
            "value",
            "column"
           ],
           "enumNames": [
            "Exponentiate by a value",
            "Exponentiate by another column"
           ],
           "type": "string"
          }
         },
         "required": [
          "column",
          "mode"
         ],
         "returnType": "series",
         "title": "[Column] Exponentiate column values",
         "type": "object"
        },
        "library": {
         "importStatement": "import pandas as pd",
         "name": "pandas"
        },
        "uischema": {
         "mode": {
          "ui:widget": "radio"
         },
         "new column name": {
          "ui:placeholder": "Leave blank to modify selected column"
         }
        }
       },
       "read_csv": {
        "form": {
         "callerObject": "pd",
         "description": "Load the csv in a table.",
         "function": "read_csv",
         "properties": {
          "decimal": {
           "default": ".",
           "description": "Character used to indicate decimals.",
           "title": "decimal",
           "type": "string"
          },
          "filepath_or_buffer": {
           "description": "Location of the file relative to the notebook. E.g. /Documents/Data/testdata.csv.",
           "title": "file path",
           "type": "string"
          },
          "new table name": {
           "type": "string"
          },
          "sep": {
           "default": ",",
           "description": "Character used to separate columns (e.g. commas, semicolons, etc.).",
           "title": "separator",
           "type": "string"
          }
         },
         "required": [
          "filepath_or_buffer"
         ],
         "title": "Read CSV",
         "transformationType": "dataLoading",
         "type": "object"
        },
        "keywords": [
         "csv",
         "load",
         "read"
        ],
        "library": {
         "importStatement": "import pandas as pd",
         "name": "pandas",
         "namespace": "pd"
        },
        "uischema": {
         "new table name": {
          "ui:placeholder": "Leave blank to modify selected table"
         }
        }
       },
       "read_excel": {
        "form": {
         "callerObject": "pd",
         "dependencies": {
          "mode": {
           "oneOf": [
            {
             "properties": {
              "mode": {
               "enum": [
                "number"
               ]
              },
              "new table name": {
               "type": "string"
              },
              "sheet_name": {
               "default": 0,
               "description": "Number of the sheet (first sheet is 0).",
               "title": "sheet number",
               "type": "number"
              }
             }
            },
            {
             "properties": {
              "mode": {
               "enum": [
                "name"
               ]
              },
              "new table name": {
               "type": "string"
              },
              "sheet_name": {
               "description": "Name of the sheet to load.",
               "title": "sheet name",
               "type": "string"
              }
             }
            }
           ]
          }
         },
         "description": "Load an excel sheet in a table.",
         "function": "read_excel",
         "properties": {
          "header": {
           "default": 0,
           "description": "Row to use for the column labels (first row is 0).",
           "type": "number"
          },
          "io": {
           "description": "Location of the file relative to the notebook. E.g. /Documents/Data/testdata.csv.",
           "title": "file path",
           "type": "string"
          },
          "mode": {
           "codegenstyle": "ignore",
           "default": "number",
           "enum": [
            "number",
            "name"
           ],
           "enumNames": [
            "Load using sheet number",
            "Load using sheet name"
           ],
           "type": "string"
          }
         },
         "required": [
          "io",
          "mode"
         ],
         "title": "Read Excel Sheet",
         "transformationType": "dataLoading",
         "type": "object"
        },
        "keywords": [
         "excel",
         "load",
         "xlsx",
         "xls",
         "read"
        ],
        "library": {
         "importStatement": "import pandas as pd",
         "name": "pandas"
        },
        "uischema": {
         "mode": {
          "ui:widget": "radio"
         },
         "new table name": {
          "ui:placeholder": "Leave blank to modify selected table"
         }
        }
       },
       "remove_indexes": {
        "form": {
         "callerObject": "DataFrame.fdt",
         "description": "Flatten multi-index in columns and rows.",
         "function": "remove_indexes",
         "properties": {
          "axis": {
           "default": "all",
           "enum": [
            "all",
            "index",
            "columns"
           ],
           "enumNames": [
            "Rows and columns",
            "Rows",
            "Columns"
           ],
           "type": "string"
          },
          "new table name": {
           "type": "string"
          }
         },
         "required": [
          "axis"
         ],
         "title": "Remove indexes",
         "type": "object"
        },
        "keywords": [
         "hierarchical",
         "index"
        ],
        "library": {
         "importStatement": "from fastdata.core import *",
         "name": "fastdata.core"
        },
        "uischema": {
         "new table name": {
          "ui:placeholder": "Leave blank to modify selected table"
         }
        }
       },
       "rename": {
        "form": {
         "callerObject": "DataFrame",
         "definitions": {
          "column": {
           "enum": [],
           "type": "string"
          }
         },
         "description": "Change the name of the columns in a table",
         "function": "rename",
         "properties": {
          "columns": {
           "items": {
            "properties": {
             "column": {
              "$ref": "#/definitions/column",
              "title": "Column to rename"
             },
             "newname": {
              "title": "New name",
              "type": "string"
             }
            },
            "type": "object"
           },
           "title": "Columns to rename",
           "type": "array"
          },
          "new table name": {
           "type": "string"
          }
         },
         "required": [
          "columns"
         ],
         "title": "Rename columns",
         "type": "object"
        },
        "keywords": [
         "change",
         "rename"
        ],
        "library": {
         "importStatement": "import pandas as pd",
         "name": "pandas"
        },
        "uischema": {
         "columns": {
          "items": {
           "classNames": "side-by-side-fields",
           "column": {
            "classNames": "left-field"
           },
           "newname": {
            "classNames": "right-field"
           }
          }
         },
         "new table name": {
          "ui:placeholder": "Leave blank to modify selected table"
         }
        }
       },
       "rename_categories": {
        "form": {
         "callerObject": "DataFrame[Series].cat",
         "definitions": {
          "column": {
           "enum": [],
           "type": "string"
          }
         },
         "description": "Change the names of categories (for example after creating buckets).",
         "function": "rename_categories",
         "properties": {
          "column": {
           "$ref": "#/definitions/column",
           "codegenstyle": "ignore",
           "title": "column"
          },
          "new column name": {
           "type": "string"
          },
          "new_categories": {
           "description": "Enter the name of the categories, from small to large.",
           "items": {
            "type": "string"
           },
           "title": "new categories",
           "type": "array"
          }
         },
         "required": [
          "column",
          "new_categories"
         ],
         "title": "[Column] Rename categories",
         "type": "object"
        },
        "keywords": [
         "change",
         "name",
         "category"
        ],
        "library": {
         "importStatement": "import pandas as pd",
         "name": "pandas"
        },
        "uischema": {
         "new column name": {
          "ui:placeholder": "Leave blank to modify selected column"
         }
        }
       },
       "replace": {
        "form": {
         "callerObject": "DataFrame[Series].str",
         "definitions": {
          "column": {
           "enum": [],
           "type": "string"
          }
         },
         "description": "Replace text contained in a text column with new text.",
         "function": "replace",
         "properties": {
          "case": {
           "codegenstyle": "variable",
           "default": "True",
           "enum": [
            "True",
            "False"
           ],
           "title": "case sensitive",
           "type": "string"
          },
          "column": {
           "$ref": "#/definitions/column",
           "codegenstyle": "ignore",
           "title": "column"
          },
          "n": {
           "default": -1,
           "description": "Number of replacements to perform if there is more than 1 match. To replace all leave as -1.",
           "title": "Number of replacements",
           "type": "number"
          },
          "new column name": {
           "type": "string"
          },
          "pat": {
           "title": "text to replace",
           "type": "string"
          },
          "regex": {
           "codegenstyle": "variable",
           "default": "False",
           "description": "[Advanced] extraction using a regular expression.",
           "enum": [
            "True",
            "False"
           ],
           "title": "",
           "type": "string"
          },
          "repl": {
           "title": "replacement text",
           "type": "string"
          }
         },
         "required": [
          "column",
          "pat",
          "repl"
         ],
         "title": "[Column] Replace text",
         "type": "object"
        },
        "keywords": [
         "change"
        ],
        "library": {
         "importStatement": "import pandas as pd",
         "name": "pandas"
        },
        "uischema": {
         "new column name": {
          "ui:placeholder": "Leave blank to modify selected column"
         }
        }
       },
       "replace_based_on_condition": {
        "form": {
         "callerObject": "DataFrame[Series].fdt",
         "definitions": {
          "column": {
           "enum": [],
           "type": "string"
          }
         },
         "description": "Use a column indicator to set a new value. Indicators need to be true/false. If they are 0/1 you need to change the type to boolean first.",
         "function": "replace_based_on_condition",
         "properties": {
          "column": {
           "$ref": "#/definitions/column",
           "codegenstyle": "ignore",
           "title": "column to change"
          },
          "cond": {
           "$ref": "#/definitions/column",
           "codegenstyle": "seriesColumn",
           "description": "Boolean column condaining True/False indicators.",
           "title": "indicator column"
          },
          "new column name": {
           "type": "string"
          },
          "replace_with": {
           "codegenstyle": "variable",
           "description": "Value if the condition is true. Use quotation marks for text.",
           "title": "replace with",
           "type": "string"
          },
          "when": {
           "codegenstyle": "variable",
           "default": "True",
           "description": "Replace when the indicator column is True/False.",
           "enum": [
            "True",
            "False"
           ],
           "type": "string"
          }
         },
         "required": [
          "column",
          "cond",
          "replace_with",
          "when"
         ],
         "title": "[Column] Change value based on indicator",
         "type": "object"
        },
        "keywords": [
         "new",
         "true",
         "false"
        ],
        "library": {
         "importStatement": "from fastdata.core import *",
         "name": "fastdata.core"
        },
        "uischema": {
         "new column name": {
          "ui:placeholder": "Leave blank to modify selected column"
         },
         "replace_with": {
          "ui:placeholder": "E.g. \"text\" / 45"
         }
        }
       },
       "reset_index": {
        "form": {
         "callerObject": "DataFrame",
         "description": "Reset the index of a dataframe",
         "function": "reset_index",
         "properties": {
          "new table name": {
           "type": "string"
          }
         },
         "title": "Reset index",
         "type": "object"
        },
        "keywords": [
         "index",
         "remove"
        ],
        "library": {
         "importStatement": "import pandas as pd",
         "name": "pandas"
        },
        "uischema": {
         "new table name": {
          "ui:placeholder": "Leave blank to modify selected table"
         }
        }
       },
       "round": {
        "form": {
         "callerObject": "DataFrame[Series]",
         "definitions": {
          "column": {
           "enum": [],
           "type": "string"
          }
         },
         "description": "Round the values in a numerical column.",
         "function": "round",
         "properties": {
          "column": {
           "$ref": "#/definitions/column",
           "codegenstyle": "ignore"
          },
          "decimals": {
           "type": "number"
          },
          "new column name": {
           "type": "string"
          }
         },
         "required": [
          "column",
          "decimals"
         ],
         "title": "[Column] Round column",
         "type": "object"
        },
        "library": {
         "importStatement": "import pandas as pd",
         "name": "pandas"
        },
        "uischema": {
         "new column name": {
          "ui:placeholder": "Leave blank to modify selected column"
         }
        }
       },
       "rstrip": {
        "form": {
         "callerObject": "DataFrame[Series].str",
         "definitions": {
          "column": {
           "enum": [],
           "type": "string"
          }
         },
         "description": "Remove trailing characters of a text column.",
         "function": "rstrip",
         "properties": {
          "column": {
           "$ref": "#/definitions/column",
           "codegenstyle": "ignore",
           "title": "column"
          },
          "new column name": {
           "type": "string"
          },
          "to_strip": {
           "description": "Leave blank to remove spaces.",
           "title": "characters",
           "type": "string"
          }
         },
         "required": [
          "column"
         ],
         "title": "[Column] Remove trailing characters",
         "type": "object"
        },
        "keywords": [
         "right",
         "from"
        ],
        "library": {
         "importStatement": "import pandas as pd",
         "name": "pandas"
        },
        "uischema": {
         "new column name": {
          "ui:placeholder": "Leave blank to modify selected column"
         }
        }
       },
       "scatter": {
        "form": {
         "callerObject": "px",
         "definitions": {
          "column": {
           "enum": [],
           "type": "string"
          }
         },
         "description": "Generate a line chart",
         "function": "scatter",
         "properties": {
          "color": {
           "$ref": "#/definitions/column",
           "description": "Plot one line for each distinct value in the selected column (Group by).",
           "type": "string"
          },
          "facet_col": {
           "$ref": "#/definitions/column",
           "description": "Create one plot for each of the values in this variable as a column.",
           "type": "string"
          },
          "facet_row": {
           "$ref": "#/definitions/column",
           "description": "Create one plot for each of the values in this variable as a row.",
           "type": "string"
          },
          "size": {
           "$ref": "#/definitions/column",
           "description": "Size of the scatter points based on a variable.",
           "type": "string"
          },
          "x": {
           "$ref": "#/definitions/column",
           "description": "Column to use for the x axis.",
           "type": "string"
          },
          "y": {
           "$ref": "#/definitions/column",
           "description": "Column to use for the y axis.",
           "type": "string"
          }
         },
         "required": [
          "x",
          "y"
         ],
         "returnType": "none",
         "selectionAsParameter": true,
         "title": "[Charts] Scatter plot",
         "type": "object"
        },
        "keywords": [
         "write"
        ],
        "library": {
         "importStatement": "import plotly.express as px",
         "name": "plotly.express"
        }
       },
       "set_index": {
        "form": {
         "callerObject": "DataFrame",
         "definitions": {
          "columns": {
           "items": {
            "enum": [],
            "type": "string"
           },
           "type": "array",
           "uniqueItems": true
          }
         },
         "description": "Set a column as a dataframe index (e.g. unique identifier for rows).",
         "function": "set_index",
         "properties": {
          "keys": {
           "$ref": "#/definitions/columns",
           "description": "Columns used in the pivot table. Leave blank gor a simple aggregation without columns."
          },
          "new table name": {
           "type": "string"
          }
         },
         "required": [
          "keys"
         ],
         "title": "Set index",
         "type": "object"
        },
        "keywords": [
         "index"
        ],
        "library": {
         "importStatement": "import pandas as pd",
         "name": "pandas"
        },
        "uischema": {
         "new table name": {
          "ui:placeholder": "Leave blank to modify selected table"
         }
        }
       },
       "slice": {
        "form": {
         "callerObject": "DataFrame[Series].str",
         "definitions": {
          "column": {
           "enum": [],
           "type": "string"
          }
         },
         "description": "Get a subset of a string using position indexes.",
         "function": "slice",
         "properties": {
          "column": {
           "$ref": "#/definitions/column",
           "codegenstyle": "ignore",
           "title": "column"
          },
          "new column name": {
           "type": "string"
          },
          "start": {
           "description": "Start position (counting from 0). Inclusive.",
           "type": "number"
          },
          "step": {
           "description": "Only get X characters. If left empty gets all the characters. E.g. step 2 for \"koala\" would extract \"k\" , \"a\" and \"a\".",
           "type": "number"
          },
          "stop": {
           "description": "End position. Exclusive.",
           "type": "number"
          }
         },
         "required": [
          "column"
         ],
         "title": "[Column] Get text by position",
         "type": "object"
        },
        "keywords": [
         "substring",
         "mid",
         "left",
         "right"
        ],
        "library": {
         "importStatement": "import pandas as pd",
         "name": "pandas"
        },
        "uischema": {
         "new column name": {
          "ui:placeholder": "Leave blank to modify selected column"
         }
        }
       },
       "sort_values": {
        "form": {
         "callerObject": "DataFrame",
         "definitions": {
          "column": {
           "enum": [],
           "type": "string"
          }
         },
         "description": "Sort the table based on one column. ",
         "function": "sort_values",
         "properties": {
          "ascending": {
           "codegenstyle": "variable",
           "default": "True",
           "enum": [
            "True",
            "False"
           ],
           "enumNames": [
            "Ascending",
            "Descending"
           ],
           "title": "sorting type",
           "type": "string"
          },
          "by": {
           "$ref": "#/definitions/column",
           "title": "column",
           "type": "string"
          },
          "new table name": {
           "type": "string"
          }
         },
         "required": [
          "by",
          "ascending"
         ],
         "title": "Sort data",
         "type": "object"
        },
        "keywords": [
         "arrange"
        ],
        "library": {
         "importStatement": "import pandas as pd",
         "name": "pandas"
        },
        "uischema": {
         "new table name": {
          "ui:placeholder": "Leave blank to modify selected table"
         }
        }
       },
       "split_list_to_columns": {
        "form": {
         "callerObject": "DataFrame.fdt",
         "definitions": {
          "column": {
           "enum": [],
           "type": "string"
          }
         },
         "description": "Create new columns with 0/1 for each unique value in a column with a list (e.g. rows are like [1,2,3]. Returns table with additional columns.",
         "function": "split_list_to_columns",
         "properties": {
          "column": {
           "$ref": "#/definitions/column"
          },
          "list_marker": {
           "default": "na",
           "description": "Item that surounds the elements. E.g. in [1,2,3] it would be a square brackets, in (1;2;3) parentheses.",
           "enum": [
            "na",
            "square_brackets",
            "parentheses"
           ],
           "enumNames": [
            "No brackets/parentheses",
            "Square brackets []",
            "Parentheses ()"
           ],
           "title": "list marker",
           "type": "string"
          },
          "new table name": {
           "type": "string"
          },
          "separator": {
           "default": ",",
           "description": "Item that separates the elements. E.g. in [1,2,3] it would be a comma (,), in [1;2;3] a semicolon (;).",
           "type": "string"
          },
          "split_type": {
           "default": "unique",
           "description": "Define how to split the list in the rows to columns.",
           "enum": [
            "unique",
            "order"
           ],
           "enumNames": [
            "Indicators for each unique element (0/1)",
            "Split items in order",
            "split_type"
           ],
           "title": "split type",
           "type": "string"
          }
         },
         "required": [
          "column",
          "separator",
          "list_marker"
         ],
         "title": "Split list to columns",
         "type": "object"
        },
        "keywords": [
         "expand",
         "explode",
         "separate"
        ],
        "library": {
         "importStatement": "from fastdata.core import *",
         "name": "fastdata.core"
        },
        "uischema": {
         "aggfunc": {
          "items": {
           "classNames": "side-by-side-fields",
           "column": {
            "classNames": "left-field"
           },
           "function": {
            "classNames": "right-field"
           }
          }
         },
         "new table name": {
          "ui:placeholder": "Leave blank to modify selected table"
         }
        }
       },
       "std": {
        "form": {
         "callerObject": "DataFrame[Series]",
         "definitions": {
          "column": {
           "enum": [],
           "type": "string"
          }
         },
         "description": "Returns a variable with the standard deviation of all values from a column.",
         "function": "std",
         "properties": {
          "column": {
           "$ref": "#/definitions/column",
           "codegenstyle": "ignore",
           "title": "column"
          },
          "new variable name": {
           "type": "string"
          }
         },
         "required": [
          "column"
         ],
         "title": "[Column] Standard deviation",
         "type": "object"
        },
        "library": {
         "importStatement": "import pandas as pd",
         "name": "pandas"
        },
        "uischema": {
         "new variable name": {
          "ui:placeholder": "Leave blank to modify selected column"
         }
        }
       },
       "strip": {
        "form": {
         "callerObject": "DataFrame[Series].str",
         "definitions": {
          "column": {
           "enum": [],
           "type": "string"
          }
         },
         "description": "Remove leading and trailing characters of a text column.",
         "function": "strip",
         "properties": {
          "column": {
           "$ref": "#/definitions/column",
           "codegenstyle": "ignore",
           "title": "column"
          },
          "new column name": {
           "type": "string"
          },
          "to_strip": {
           "description": "Leave blank to remove spaces.",
           "title": "characters",
           "type": "string"
          }
         },
         "required": [
          "column"
         ],
         "title": "[Column] Remove leading and trailing characters",
         "type": "object"
        },
        "library": {
         "importStatement": "import pandas as pd",
         "name": "pandas"
        },
        "uischema": {
         "new column name": {
          "ui:placeholder": "Leave blank to modify selected column"
         }
        }
       },
       "subtract": {
        "form": {
         "callerObject": "DataFrame[Series]",
         "definitions": {
          "column": {
           "enum": [],
           "type": "string"
          }
         },
         "dependencies": {
          "mode": {
           "oneOf": [
            {
             "properties": {
              "mode": {
               "enum": [
                "value"
               ]
              },
              "new column name": {
               "type": "string"
              },
              "other": {
               "title": "value",
               "type": "number"
              }
             }
            },
            {
             "properties": {
              "mode": {
               "enum": [
                "column"
               ]
              },
              "new column name": {
               "type": "string"
              },
              "other": {
               "$ref": "#/definitions/column",
               "codegenstyle": "seriesColumn",
               "title": "column"
              }
             }
            }
           ]
          }
         },
         "description": "Element-wise subtraction of values in a column.",
         "function": "subtract",
         "properties": {
          "column": {
           "$ref": "#/definitions/column",
           "codegenstyle": "ignore",
           "title": "column"
          },
          "mode": {
           "codegenstyle": "ignore",
           "default": "value",
           "enum": [
            "value",
            "column"
           ],
           "enumNames": [
            "Subtract a value",
            "Subtract another column"
           ],
           "type": "string"
          }
         },
         "required": [
          "column",
          "mode"
         ],
         "returnType": "series",
         "title": "[Column] Subtract from column values",
         "type": "object"
        },
        "keywords": [
         "minus"
        ],
        "library": {
         "importStatement": "import pandas as pd",
         "name": "pandas"
        },
        "uischema": {
         "mode": {
          "ui:widget": "radio"
         },
         "new column name": {
          "ui:placeholder": "Leave blank to modify selected column"
         }
        }
       },
       "sum": {
        "form": {
         "callerObject": "DataFrame[Series]",
         "definitions": {
          "column": {
           "enum": [],
           "type": "string"
          }
         },
         "description": "Returns a variable with the sum of all values from a column.",
         "function": "sum",
         "properties": {
          "column": {
           "$ref": "#/definitions/column",
           "codegenstyle": "ignore",
           "title": "column"
          },
          "new variable name": {
           "type": "string"
          }
         },
         "required": [
          "column"
         ],
         "title": "[Column] Sum of a column",
         "type": "object"
        },
        "library": {
         "importStatement": "import pandas as pd",
         "name": "pandas"
        },
        "uischema": {
         "new variable name": {
          "ui:placeholder": "Leave blank to modify selected column"
         }
        }
       },
       "to_csv": {
        "form": {
         "callerObject": "DataFrame",
         "description": "Save selected table to csv file.",
         "function": "to_csv",
         "properties": {
          "index": {
           "codegenstyle": "variable",
           "default": "False",
           "enum": [
            "True",
            "False"
           ],
           "enumNames": [
            "Include index",
            "Exclude index"
           ],
           "type": "string"
          },
          "path_or_buf": {
           "description": "Location of the file. You can also indicate a path to save it in a specific folder.",
           "title": "filename or path",
           "type": "string"
          }
         },
         "required": [
          "path_or_buf",
          "index"
         ],
         "returnType": "none",
         "title": "Save to CSV",
         "type": "object"
        },
        "keywords": [
         "write"
        ],
        "library": {
         "importStatement": "import pandas as pd",
         "name": "pandas"
        }
       },
       "to_datetime": {
        "form": {
         "callerObject": "pd",
         "definitions": {
          "column": {
           "enum": [],
           "type": "string"
          }
         },
         "dependencies": {
          "mode": {
           "oneOf": [
            {
             "properties": {
              "format": {
               "description": "Examples: %d/%m/%Y (day/month/year), %H:%M:%S (hour:minute:second)",
               "type": "string"
              },
              "mode": {
               "enum": [
                "string"
               ]
              },
              "new column name": {
               "type": "string"
              }
             },
             "title": "From date text"
            },
            {
             "String": "From number",
             "properties": {
              "mode": {
               "enum": [
                "number"
               ]
              },
              "new column name": {
               "type": "string"
              },
              "unit": {
               "default": "ns",
               "description": "Unit of the date column.",
               "enum": [
                "D",
                "s",
                "ms",
                "us",
                "ns"
               ],
               "enumNames": [
                "Day",
                "Second",
                "Milisecond",
                "Microsecond",
                "Nanosecond"
               ],
               "type": "string"
              }
             }
            }
           ]
          }
         },
         "description": "Converts a column to a date-time format using the specified rules.",
         "function": "to_datetime",
         "properties": {
          "arg": {
           "$ref": "#/definitions/column",
           "codegenstyle": "seriesColumn",
           "title": "column"
          },
          "mode": {
           "codegenstyle": "ignore",
           "default": "string",
           "enum": [
            "string",
            "number"
           ],
           "enumNames": [
            "From text (e.g. 20-02-2020)",
            "From number (e.g. 1605552766)"
           ],
           "type": "string"
          }
         },
         "required": [
          "arg",
          "mode"
         ],
         "returnType": "series",
         "title": "[Column] Convert column to datetime",
         "type": "object"
        },
        "keywords": [
         "convert",
         "date"
        ],
        "library": {
         "importStatement": "import pandas as pd",
         "name": "pandas"
        },
        "uischema": {
         "mode": {
          "ui:widget": "radio"
         },
         "new column name": {
          "ui:placeholder": "Leave blank to modify selected column"
         }
        }
       },
       "transpose": {
        "form": {
         "callerObject": "DataFrame",
         "description": "Reflect the table over its main diagonal by writing rows as columns and vice-versa.",
         "function": "transpose",
         "properties": {
          "new table name": {
           "default": "transposed",
           "type": "string"
          }
         },
         "required": [],
         "title": "Transpose table",
         "type": "object"
        },
        "keywords": [
         "switch",
         "rows",
         "columns"
        ],
        "library": {
         "importStatement": "import pandas as pd",
         "name": "pandas"
        },
        "uischema": {
         "aggfunc": {
          "items": {
           "classNames": "side-by-side-fields",
           "column": {
            "classNames": "left-field"
           },
           "function": {
            "classNames": "right-field"
           }
          }
         },
         "new table name": {
          "ui:placeholder": "Leave blank to modify selected table"
         }
        }
       },
       "uppercase": {
        "form": {
         "callerObject": "DataFrame[Series].str",
         "definitions": {
          "column": {
           "enum": [],
           "type": "string"
          }
         },
         "description": "Set the text in a column to upper case.",
         "function": "upper",
         "properties": {
          "column": {
           "$ref": "#/definitions/column",
           "codegenstyle": "ignore",
           "title": "column"
          },
          "new column name": {
           "type": "string"
          }
         },
         "required": [
          "column"
         ],
         "title": "[Column] Set text to upper case",
         "type": "object"
        },
        "library": {
         "importStatement": "import pandas as pd",
         "name": "pandas"
        },
        "uischema": {
         "new column name": {
          "ui:placeholder": "Leave blank to modify selected column"
         }
        }
       },
       "var": {
        "form": {
         "callerObject": "DataFrame[Series]",
         "definitions": {
          "column": {
           "enum": [],
           "type": "string"
          }
         },
         "description": "Returns a variable with the variance of all values from a column.",
         "function": "var",
         "properties": {
          "column": {
           "$ref": "#/definitions/column",
           "codegenstyle": "ignore",
           "title": "column"
          },
          "new variable name": {
           "type": "string"
          }
         },
         "required": [
          "column"
         ],
         "title": "[Column] Variance",
         "type": "object"
        },
        "library": {
         "importStatement": "import pandas as pd",
         "name": "pandas"
        },
        "uischema": {
         "new variable name": {
          "ui:placeholder": "Leave blank to modify selected column"
         }
        }
       },
       "year": {
        "form": {
         "callerObject": "DataFrame[Series].dt",
         "definitions": {
          "column": {
           "enum": [],
           "type": "string"
          }
         },
         "description": "Gets the year value from a datetime column.",
         "function": "year",
         "properties": {
          "column": {
           "$ref": "#/definitions/column",
           "codegenstyle": "ignore",
           "title": "column"
          },
          "new column name": {
           "type": "string"
          }
         },
         "required": [
          "column"
         ],
         "title": "[Column] Get year",
         "transformationType": "property",
         "type": "object"
        },
        "library": {
         "importStatement": "import pandas as pd",
         "name": "pandas"
        },
        "uischema": {
         "new column name": {
          "ui:placeholder": "Leave blank to modify selected column"
         }
        }
       }
      },
      "text/plain": [
       "<IPython.core.display.JSON object>"
      ]
     },
     "execution_count": 3,
     "metadata": {
      "application/json": {
       "expanded": false,
       "root": "root"
      }
     },
     "output_type": "execute_result"
    }
   ],
   "source": [
    "JSON(data)"
   ]
  },
  {
   "cell_type": "markdown",
   "metadata": {},
   "source": [
    "**Each function has two objects**\n",
    "- **Form object**: This follows the structure defined in [reat-jsonschema-form](https://react-jsonschema-form.readthedocs.io/en/latest/) for auto-creating forms out of JSON schemas. Additionally, we have added a few custom fields for our implementation (labeled as custom), which are required for generating the code\n",
    "- **UI schema:** This defines the UI aspects of the form we are generating, according to the [react-jsonschema-form UI reference](https://react-jsonschema-form.readthedocs.io/en/latest/api-reference/uiSchema/)."
   ]
  },
  {
   "cell_type": "code",
   "execution_count": null,
   "metadata": {},
   "outputs": [],
   "source": [
    "JSON(data['read_csv'])"
   ]
  },
  {
   "cell_type": "markdown",
   "metadata": {},
   "source": [
    "Let's look at the form object"
   ]
  },
  {
   "cell_type": "code",
   "execution_count": 4,
   "metadata": {
    "execution": {
     "iopub.execute_input": "2021-02-04T13:33:45.570529Z",
     "iopub.status.busy": "2021-02-04T13:33:45.570157Z",
     "iopub.status.idle": "2021-02-04T13:33:45.583294Z",
     "shell.execute_reply": "2021-02-04T13:33:45.581833Z",
     "shell.execute_reply.started": "2021-02-04T13:33:45.570497Z"
    }
   },
   "outputs": [
    {
     "data": {
      "application/json": {
       "callerObject": "pd",
       "description": "Load the csv in a table.",
       "function": "read_csv",
       "properties": {
        "decimal": {
         "default": ".",
         "description": "Character used to indicate decimals.",
         "title": "decimal",
         "type": "string"
        },
        "filepath_or_buffer": {
         "description": "Location of the file relative to the notebook. E.g. /Documents/Data/testdata.csv.",
         "title": "file path",
         "type": "string"
        },
        "new table name": {
         "type": "string"
        },
        "sep": {
         "default": ",",
         "description": "Character used to separate columns (e.g. commas, semicolons, etc.).",
         "title": "separator",
         "type": "string"
        }
       },
       "required": [
        "filepath_or_buffer"
       ],
       "title": "Read CSV",
       "transformationType": "dataLoading",
       "type": "object"
      },
      "text/plain": [
       "<IPython.core.display.JSON object>"
      ]
     },
     "execution_count": 4,
     "metadata": {
      "application/json": {
       "expanded": false,
       "root": "root"
      }
     },
     "output_type": "execute_result"
    }
   ],
   "source": [
    "JSON(data['read_csv']['form'])"
   ]
  },
  {
   "cell_type": "markdown",
   "metadata": {},
   "source": [
    "**We see the following keys:**\n",
    "1. **properties**: Contains one element for each form field. Each field here will map to a parameter in a python function\n",
    "2. **required**: Which of the parameters defined in properties is required (if not filled, returns a validation error)\n",
    "3. **title**: The title of the function that is displayed in the UI. This should be easy to understand for a non-technical user. We follow a few conventions here:\n",
    "    1. No underscores\n",
    "    2. First letter is capital\n",
    "3. **type**: Given JSONschema is used, we need to define the type of each element in the json tree. In this case, form is an object\n",
    "4. **(custom) callerObject**: The object that can call this function \n",
    "    1. For example, read_csv is called from a pandas object, which we import as pd (a common way to import pandas, which we take as a convention). Thus we set the callerObject as pd\n",
    "    2. [Learn more about how it is used in code generation](#understanding-code-generation)\n",
    "5. **(custom) function**: function name in python (same as the outermost property)\n",
    "6. **(custom) transformationType**: Shows the transformations when there is no data loaded. See reference for other options for transformationType\n",
    "\n",
    "**Note that the keys labeled as custom are not part of react-jsonschema-form**"
   ]
  },
  {
   "cell_type": "markdown",
   "metadata": {},
   "source": [
    "Let's see the properties object in more detail"
   ]
  },
  {
   "cell_type": "code",
   "execution_count": null,
   "metadata": {},
   "outputs": [],
   "source": [
    "JSON(data['read_csv']['form']['properties'])"
   ]
  },
  {
   "cell_type": "markdown",
   "metadata": {},
   "source": [
    "Fist we will look at the **new table name** field:\n",
    "\n",
    " **All of the transformations have a field called `New table name`**. This is a special field of type string (a simple text input) that will determine if the result of a transformation is save in a new variable (`df2 = df1.function(params)`) or not (`df1 = df1.function(params)`)"
   ]
  },
  {
   "cell_type": "code",
   "execution_count": null,
   "metadata": {},
   "outputs": [],
   "source": [
    "JSON(data['read_csv']['form']['properties']['New table name'])"
   ]
  },
  {
   "cell_type": "markdown",
   "metadata": {},
   "source": [
    "This is rendered as a simple text input"
   ]
  },
  {
   "cell_type": "markdown",
   "metadata": {},
   "source": [
    "![alt text](img/transformation_guide_string_input.png)"
   ]
  },
  {
   "cell_type": "markdown",
   "metadata": {},
   "source": [
    "We see that it has some placeholder text \"Leave blank to modify selected table\". This is defined in the UI schema"
   ]
  },
  {
   "cell_type": "code",
   "execution_count": null,
   "metadata": {},
   "outputs": [],
   "source": [
    "JSON(data['read_csv']['uischema'],expanded=True)"
   ]
  },
  {
   "cell_type": "markdown",
   "metadata": {},
   "source": [
    " Each property in the form object can have UI schema attached to it. By default, the New table name has a UI placeholder that explains how it works."
   ]
  },
  {
   "cell_type": "markdown",
   "metadata": {},
   "source": [
    "## Adding more fields "
   ]
  },
  {
   "cell_type": "markdown",
   "metadata": {},
   "source": [
    "**properties:** If we review the [read_csv pandas documentation](https://pandas.pydata.org/pandas-docs/stable/reference/api/pandas.read_csv.html), we see it takes many parameters. Our approach here is to add the minimum numbers of parameters and only extend if we get user requests. In our case, we have decided to only keep three parameters: the filepath (a mandatory parameter), the separator and the decimal character. In the example below, you will see we set two additional fields\n",
    "1. **type**: Next we need to define which types of parameters we have. In this case, we will use the string types, which just creates a string input\n",
    "2. **title**: Creating a GUI gives us flexibility to override the pandas api and make it more user friendly, without worrying about creating long parameter names. Here the main goal is for the end-user to understand what that field does.\n",
    "    1. Only define if it is not clear (e.g. by parameter is not easy to understand)\n",
    "    2. Always lowercase (except new table name)\n",
    "    3. Avoid underscores\n",
    "    4. Keep it short, if too long use the description field\n",
    "3. **description**: Provide additional information on what that function is doing \n",
    "4. **default**: Define a default value for the parameter"
   ]
  },
  {
   "cell_type": "code",
   "execution_count": null,
   "metadata": {},
   "outputs": [],
   "source": [
    "JSON(data['read_csv']['form']['properties'], expanded=True)"
   ]
  },
  {
   "cell_type": "markdown",
   "metadata": {},
   "source": [
    "**required**: **Here we mark that the filepath_or_buffer is a required parameter. This will trigger a validation error if not filled"
   ]
  },
  {
   "cell_type": "code",
   "execution_count": null,
   "metadata": {},
   "outputs": [],
   "source": [
    "JSON(data['read_csv']['form']['required'], expanded=True)"
   ]
  },
  {
   "cell_type": "markdown",
   "metadata": {},
   "source": [
    "<a id='understanding-code-generation' a>"
   ]
  },
  {
   "cell_type": "markdown",
   "metadata": {},
   "source": [
    "## Understanding code generation \n",
    "When you run the transformation clicking submit, the code is mapped from a json object to a python function call:\n",
    "\n",
    "**Input: Form data**\n",
    "\n",
    "\n",
    "```json\n",
    "{sep: \",\", decimal: \".\", filepath_or_buffer: \"titanic.csv\"}\n",
    "```\n",
    "\n",
    "\n",
    "**Output: Generated code**\n",
    "\n",
    "```python\n",
    "data = pd.read_csv(\n",
    "    sep=\",\", \n",
    "    decimal=\".\", \n",
    "    filepath_or_buffer=\"titanic.csv\")\n",
    "```"
   ]
  },
  {
   "cell_type": "markdown",
   "metadata": {},
   "source": [
    "**Formula:** result_object = caller_object dot function (parameters)\n",
    "\n",
    "\n",
    "In this case, the ojbect is a dataframe\n",
    "1. **result_object**: This comes from the “New table name” parameter. If empty, it overwrites the object that called it(`df1 = df1.function(params)`). If it is called from Pandas directly (i.e. not from a dataframe), it creates a dataframe called data as a default\n",
    "2. **caller_object** : This is the caller-object defined before in the json schema\n",
    "3. **function**: This is the function defined above in the json schema\n",
    "4. **parameters**: These are the parameters passed from the form\n",
    "    1. The way these are transformed is that it combines the key of the parameter with the value coming from the user input, using the equal sign that python functions use to specify parameters\n",
    "    2. For example, <code>sep: \",\"</code>, becomes <code>sep=\",\" </code>\n",
    "    3. For readability, we format a parameter in each line\n",
    "    4. Also notice that some parameters are implicit in python, meaning you don’t need to specify the <code>parametername=</code>. We nevertheless decide to do so to improve understanding of what the function is doing"
   ]
  },
  {
   "cell_type": "markdown",
   "metadata": {},
   "source": [
    "## Test the transformation\n",
    "\n",
    "Full code can be found [here](https://github.com/molinsp/eigendata/blob/0a23c3fee13846b90ff4af08c0a52d57696e9035/src/transformations.json#L160)\n",
    "\n",
    "\n",
    "\n",
    "1. You can make changes to the JSON object and recompile the project (jlpm run build) to see changes in the UI. For example:\n",
    "    1. Try adding a description to the filepath parameter\n",
    "    2. Try adding an index_col parameter (see pandas reference)\n",
    "    3. Try changing the defaults\n",
    "2. Remember, the read_csv transformation is only visible when no data has been loaded"
   ]
  },
  {
   "cell_type": "markdown",
   "metadata": {
    "toc-hr-collapsed": true,
    "toc-nb-collapsed": true
   },
   "source": [
    "Adding a select dropdown in the sort function"
   ]
  },
  {
   "cell_type": "markdown",
   "metadata": {},
   "source": [
    "## Preparing template for sort transformation\n",
    "1. Based on the example above, we first prepare the boilerplate for the sort transformation\n",
    "2. Notice how we are using a callerObject of type dataframe. This is because sort_values is a function available to Dataframe objects, so we define the callerObject as Dataframe (See code-generation to learn more) "
   ]
  },
  {
   "cell_type": "code",
   "execution_count": null,
   "metadata": {},
   "outputs": [],
   "source": [
    "boilerplate = {'sort_values':{'form': {}, 'uischema':{}}}\n",
    "boilerplate['sort_values']['form'] = {\n",
    "        'properties': {'New table name' :{'type': 'string'}},\n",
    "        'title': 'Sort data',\n",
    "        'description': 'Sort values based on a column',\n",
    "        'type' : 'object',\n",
    "        'required' : [],\n",
    "        'callerObject': 'Dataframe',\n",
    "        'function' : 'sort_values'\n",
    "}\n",
    "\n",
    "boilerplate['sort_values']['uischema'] = data['read_csv']['uischema']\n",
    "\n",
    "JSON(boilerplate,expanded=True)"
   ]
  },
  {
   "cell_type": "markdown",
   "metadata": {},
   "source": [
    "# Adding UI elements: dropdown"
   ]
  },
  {
   "cell_type": "markdown",
   "metadata": {},
   "source": [
    "## Adding a simple dropdown\n",
    "\n",
    "Here we will create a single select property:\n",
    "\n",
    "\n",
    "\n",
    "1. enum: Define the values in the dropdown\n",
    "2. enumNames: This is optional and allows you to give custom names in a dropdown. In this case, it is easier to read sorting type ascending than ascending=True\n",
    "3. codegenstyle: This is not part of react-jsonschmea-form. This is a custom parameter that allows us to customize how we map the form response to the python code. As we saw in the example above, the default is pass adding string characters. In this case, that would result in somethinglike: ascending = “True”. Passing the codegenstyle=”variable” flag will remove the quotation marks form the user input, processing ascending=True instead.\n",
    "4. default: This is the default value that will be populated in the UI. When there is both enum and enumNames, the default is taken from the enum."
   ]
  },
  {
   "cell_type": "code",
   "execution_count": null,
   "metadata": {},
   "outputs": [],
   "source": [
    "JSON(data['sort_values']['form']['properties']['ascending'], expanded=True)"
   ]
  },
  {
   "cell_type": "markdown",
   "metadata": {},
   "source": [
    "![alt text](img/transformation_guide_select_field.png)"
   ]
  },
  {
   "cell_type": "markdown",
   "metadata": {
    "toc-hr-collapsed": true,
    "toc-nb-collapsed": true
   },
   "source": [
    "## Adding a dropdown with the names of the columns"
   ]
  },
  {
   "cell_type": "markdown",
   "metadata": {},
   "source": [
    "Now sometimes, the dropdown values can not be defined in the jsonschema, because they depend on runtime information (e.g. which data frames have been loaded, what are the columns of a dataframe, etc.). In this case, we create a placeholder jsonschema and we auto-populate. Let’s see an example:\n",
    "\n",
    "\n",
    "\n",
    "1. properties.by\n",
    "    1. $ref: Here we are creating a reference to a definition object called columns. The idea is that if several parameters use the columns, we only have to define them once (learn more about definitions [here](https://react-jsonschema-form.readthedocs.io/en/latest/usage/definitions/)). \n",
    "    2. title: Here we may want to give a different name. We will always use the same standard reference to columns definition, and if needed change the name through the title\n",
    "2. definitions: This holds the skeleton to populate the column dropdown. The empty enum will be populated with a list of all string names automatically"
   ]
  },
  {
   "cell_type": "code",
   "execution_count": null,
   "metadata": {},
   "outputs": [],
   "source": [
    "JSON(data['sort_values']['form']['properties']['by'], expanded=True)"
   ]
  },
  {
   "cell_type": "code",
   "execution_count": null,
   "metadata": {},
   "outputs": [],
   "source": [
    "JSON(data['sort_values']['form']['definitions'], expanded=True)"
   ]
  },
  {
   "cell_type": "markdown",
   "metadata": {},
   "source": [
    "![alt text](img/transformation_guide_select_columns.png)"
   ]
  },
  {
   "cell_type": "markdown",
   "metadata": {},
   "source": [
    "If we look at the code generation, we see that althrough we load the definitions of a parameter called column, the parameter we have rendered is called \"by\"\n",
    "```python\n",
    "data = data.sort_values(\n",
    "    ascending=False, \n",
    "    by=\"Age\")\n",
    "```"
   ]
  },
  {
   "cell_type": "markdown",
   "metadata": {
    "toc-hr-collapsed": true,
    "toc-nb-collapsed": true
   },
   "source": [
    "# Adding a multi-select dropdown"
   ]
  },
  {
   "cell_type": "markdown",
   "metadata": {},
   "source": [
    "The example below describes how to create a GUI for a multi-select using the column-names:\n",
    "\n",
    "\n",
    "\n",
    "1. Add a reference to definitions/columns (notice the s at the end)\n",
    "2. Add the columns definition code as-is"
   ]
  },
  {
   "cell_type": "code",
   "execution_count": null,
   "metadata": {},
   "outputs": [],
   "source": [
    "JSON(data['get_dummies']['form']['properties']['columns'], expanded=True)"
   ]
  },
  {
   "cell_type": "code",
   "execution_count": null,
   "metadata": {},
   "outputs": [],
   "source": [
    "JSON(data['get_dummies']['form']['definitions'], expanded=True)"
   ]
  },
  {
   "cell_type": "markdown",
   "metadata": {},
   "source": [
    "![alt text](img/transformation_guide_multiselect_columns.png)"
   ]
  },
  {
   "cell_type": "markdown",
   "metadata": {},
   "source": [
    "### Styling the multi-select differently\n",
    "We can also use the UI-schema to style a multi-select differently"
   ]
  },
  {
   "cell_type": "code",
   "execution_count": null,
   "metadata": {},
   "outputs": [],
   "source": [
    "JSON(data['drop']['form']['properties'],expanded=True)"
   ]
  },
  {
   "cell_type": "code",
   "execution_count": null,
   "metadata": {},
   "outputs": [],
   "source": [
    "JSON(data['drop']['form']['definitions'], expanded=True)"
   ]
  },
  {
   "cell_type": "code",
   "execution_count": null,
   "metadata": {},
   "outputs": [],
   "source": [
    "JSON(data['drop']['uischema']['columns'], expanded=True)"
   ]
  },
  {
   "cell_type": "markdown",
   "metadata": {},
   "source": [
    "Here we have the same functionality but styled differently"
   ]
  },
  {
   "cell_type": "markdown",
   "metadata": {},
   "source": [
    "![alt text](img/transformation_guide_multiselect_checkboxes.png)"
   ]
  },
  {
   "cell_type": "markdown",
   "metadata": {},
   "source": [
    "### Understanding the code generation"
   ]
  },
  {
   "cell_type": "markdown",
   "metadata": {},
   "source": [
    "**Input:** **Form data & selected dataframe**\n",
    "\n",
    "\n",
    "\n",
    "1. Form data: \n",
    "```json\n",
    "{columns: [\"Parents/Children Aboard\", \"Siblings/Spouses Aboard\"]}\n",
    "```\n",
    "2. Selected dataframe: data\n",
    "\n",
    "<strong>Output: Generated code</strong>\n",
    "\n",
    "\n",
    "```python\n",
    "data = data.drop(\n",
    "    columns=[\"Parents/Children Aboard\",\"Siblings/Spouses Aboard\"])\n",
    "```\n",
    "\n"
   ]
  },
  {
   "cell_type": "markdown",
   "metadata": {},
   "source": [
    "The input from the form is mapped to a generic formula in the following way:\n",
    "\n",
    "Formula: dataframe = object dot function (parameters)\n",
    "1. **dataframe**: Set to be the same than the selected datafreme given there is no input in New table name\n",
    "2. **object** : Here, the callerObject DataFrame is replaced by the selected dataframe that is passed\n",
    "3. **function**: This is the function defined above in the json schema"
   ]
  },
  {
   "cell_type": "markdown",
   "metadata": {},
   "source": [
    "# Adding complex fields to the form"
   ]
  },
  {
   "cell_type": "markdown",
   "metadata": {},
   "source": [
    "This example describes how to create UIs that are rendered as dictionaries in python\n",
    "```python\n",
    "property={'input1_field1' : 'input1_field2', 'input2_field1' : 'input2_field2'}`\n",
    "```"
   ]
  },
  {
   "cell_type": "markdown",
   "metadata": {},
   "source": [
    "\n",
    "The way this is implemented is using an array that has two sub-fields. The sub-fields are implementes nested property, i.e. a property inside another property:\n",
    "1. In the example below, you see a property named dtype\n",
    "2. The type is set to array\n",
    "3. We defined an **items** element of type object\n",
    "4. We define another properties element inside items (here is where the nesting takes place)"
   ]
  },
  {
   "cell_type": "code",
   "execution_count": null,
   "metadata": {},
   "outputs": [],
   "source": [
    "JSON(data['astype']['form']['properties'], expanded=True)"
   ]
  },
  {
   "cell_type": "markdown",
   "metadata": {},
   "source": [
    "# Transformations that return series"
   ]
  },
  {
   "cell_type": "markdown",
   "metadata": {},
   "source": [
    "A series transformation is a transformation that return a [series](https://pandas.pydata.org/pandas-docs/stable/reference/api/pandas.Series.html)\n",
    "\n",
    "Thus, the code we generate is of the type\n",
    "```python\n",
    "dataframe['Series name'] = dataframe['Series name'] dot function (parameters)\n",
    "```\n",
    "\n",
    "When we write a series transformation, we need to:\n",
    "\n",
    "1. Specify an additional column parameter\n",
    "2. Set the caller object to DataFrame[Series]\n",
    "2. **Set codegenstyle: ignore, given that the column is not a real parameter of the function that nees to be rendered!**\n",
    "3. The `new table property` is converted into a `new column property`, allowing us either to replace the column or define a new column"
   ]
  },
  {
   "cell_type": "code",
   "execution_count": 2,
   "metadata": {
    "execution": {
     "iopub.execute_input": "2021-02-04T19:07:32.918477Z",
     "iopub.status.busy": "2021-02-04T19:07:32.918083Z",
     "iopub.status.idle": "2021-02-04T19:07:32.933326Z",
     "shell.execute_reply": "2021-02-04T19:07:32.931728Z",
     "shell.execute_reply.started": "2021-02-04T19:07:32.918440Z"
    }
   },
   "outputs": [
    {
     "data": {
      "application/json": {
       "form": {
        "callerObject": "DataFrame[Series]",
        "definitions": {
         "column": {
          "enum": [],
          "type": "string"
         }
        },
        "description": "Round the values in a numerical column.",
        "function": "round",
        "properties": {
         "column": {
          "$ref": "#/definitions/column",
          "codegenstyle": "ignore"
         },
         "decimals": {
          "type": "number"
         },
         "new column name": {
          "type": "string"
         }
        },
        "required": [
         "column",
         "decimals"
        ],
        "title": "[Column] Round column",
        "type": "object"
       },
       "library": {
        "importStatement": "import pandas as pd",
        "name": "pandas"
       },
       "uischema": {
        "new column name": {
         "ui:placeholder": "Leave blank to modify selected column"
        }
       }
      },
      "text/plain": [
       "<IPython.core.display.JSON object>"
      ]
     },
     "execution_count": 2,
     "metadata": {
      "application/json": {
       "expanded": true,
       "root": "root"
      }
     },
     "output_type": "execute_result"
    }
   ],
   "source": [
    "JSON(data['round'], expanded=True)"
   ]
  },
  {
   "cell_type": "markdown",
   "metadata": {},
   "source": [
    "# Transformations that return variables"
   ]
  },
  {
   "cell_type": "markdown",
   "metadata": {},
   "source": [
    "A transformation can also return a variable that is not a dataframe/series. We currently call \"variable\" a few of the core python data types:\n",
    "- Int/Float\n",
    "- String\n",
    "- List"
   ]
  },
  {
   "cell_type": "code",
   "execution_count": 3,
   "metadata": {
    "execution": {
     "iopub.execute_input": "2021-02-04T19:15:09.215806Z",
     "iopub.status.busy": "2021-02-04T19:15:09.214043Z",
     "iopub.status.idle": "2021-02-04T19:15:09.242760Z",
     "shell.execute_reply": "2021-02-04T19:15:09.241416Z",
     "shell.execute_reply.started": "2021-02-04T19:15:09.215710Z"
    }
   },
   "outputs": [
    {
     "data": {
      "application/json": {
       "callerObject": "DataFrame[Series]",
       "definitions": {
        "column": {
         "enum": [],
         "type": "string"
        }
       },
       "description": "Returns a variable with the mean of all values from a column.",
       "function": "mean",
       "properties": {
        "column": {
         "$ref": "#/definitions/column",
         "codegenstyle": "ignore",
         "title": "column"
        },
        "new variable name": {
         "type": "string"
        }
       },
       "required": [
        "column"
       ],
       "title": "[Column] Mean of a column",
       "type": "object"
      },
      "text/plain": [
       "<IPython.core.display.JSON object>"
      ]
     },
     "execution_count": 3,
     "metadata": {
      "application/json": {
       "expanded": true,
       "root": "root"
      }
     },
     "output_type": "execute_result"
    }
   ],
   "source": [
    "JSON(data['mean']['form'], expanded=True)"
   ]
  },
  {
   "cell_type": "markdown",
   "metadata": {},
   "source": [
    "# Transformations with conditional logic"
   ]
  },
  {
   "cell_type": "markdown",
   "metadata": {},
   "source": [
    "Sometimes, functions have more than one way of being called. This is usually hard for a user to understand when they read a documentation. How we have implemented this patter is with conditional fields in jsonschema form."
   ]
  },
  {
   "cell_type": "markdown",
   "metadata": {},
   "source": [
    "First, we define a **mode** property: \n",
    "1. With an enum that lists all the options. Make sure to **add mode to the list of required properties**. Given it is a dropdown with default value, it is not strictly required but we add it for consistency reasons\n",
    "2. If the mode is not an explicit parameter in the code, make sure to set codegenstyle to ignore"
   ]
  },
  {
   "cell_type": "markdown",
   "metadata": {
    "execution": {
     "iopub.execute_input": "2020-11-19T17:07:14.086290Z",
     "iopub.status.busy": "2020-11-19T17:07:14.086001Z",
     "iopub.status.idle": "2020-11-19T17:07:14.096046Z",
     "shell.execute_reply": "2020-11-19T17:07:14.093557Z",
     "shell.execute_reply.started": "2020-11-19T17:07:14.086264Z"
    }
   },
   "source": [
    "**Example with mode as an actual parameter in the code**"
   ]
  },
  {
   "cell_type": "code",
   "execution_count": 7,
   "metadata": {
    "execution": {
     "iopub.execute_input": "2020-11-15T15:26:16.146696Z",
     "iopub.status.busy": "2020-11-15T15:26:16.146444Z",
     "iopub.status.idle": "2020-11-15T15:26:16.164921Z",
     "shell.execute_reply": "2020-11-15T15:26:16.160284Z",
     "shell.execute_reply.started": "2020-11-15T15:26:16.146669Z"
    }
   },
   "outputs": [
    {
     "data": {
      "application/json": {
       "column": {
        "$ref": "#/definitions/column",
        "codegenstyle": "ignore",
        "title": "column"
       },
       "mode": {
        "default": "size",
        "enum": [
         "size",
         "number",
         "quantiles",
         "custom"
        ],
        "enumNames": [
         "Size of bin",
         "Number of bins",
         "Quantiles (e.g. quartiles)",
         "Custom interval ranges"
        ],
        "type": "string"
       }
      },
      "text/plain": [
       "<IPython.core.display.JSON object>"
      ]
     },
     "execution_count": 7,
     "metadata": {
      "application/json": {
       "expanded": true,
       "root": "root"
      }
     },
     "output_type": "execute_result"
    }
   ],
   "source": [
    "JSON(data['bin_column']['form']['properties'], expanded=True)"
   ]
  },
  {
   "cell_type": "markdown",
   "metadata": {},
   "source": [
    "**Example with mode as an actual parameter in the code**"
   ]
  },
  {
   "cell_type": "code",
   "execution_count": 5,
   "metadata": {
    "execution": {
     "iopub.execute_input": "2020-11-19T17:07:51.912067Z",
     "iopub.status.busy": "2020-11-19T17:07:51.911816Z",
     "iopub.status.idle": "2020-11-19T17:07:51.920157Z",
     "shell.execute_reply": "2020-11-19T17:07:51.919005Z",
     "shell.execute_reply.started": "2020-11-19T17:07:51.912040Z"
    }
   },
   "outputs": [
    {
     "data": {
      "application/json": {
       "column": {
        "$ref": "#/definitions/column",
        "codegenstyle": "ignore",
        "title": "column"
       },
       "mode": {
        "codegenstyle": "ignore",
        "default": "value",
        "enum": [
         "value",
         "column"
        ],
        "type": "string"
       }
      },
      "text/plain": [
       "<IPython.core.display.JSON object>"
      ]
     },
     "execution_count": 5,
     "metadata": {
      "application/json": {
       "expanded": true,
       "root": "root"
      }
     },
     "output_type": "execute_result"
    }
   ],
   "source": [
    "JSON(data['divide']['form']['properties'], expanded=True)"
   ]
  },
  {
   "cell_type": "markdown",
   "metadata": {},
   "source": [
    "To get the conditional behavior, we define dependencies for the mode property:\n",
    "1. Define a **oneOf** object, with one element per mode. Each element inside the oneOf needs to be a valid jsonschema form\n",
    "2. Create a property called mode, with an enum holding only one option. This means that this element of oneOf defines the case where the mode is equal to this value\n",
    "3. Define the rest of the properties, including new column name/new table name, etc.\n",
    "\n",
    "**(!) The elements in oneOf need to be in the same order than the enum element of the mode property**"
   ]
  },
  {
   "cell_type": "code",
   "execution_count": 7,
   "metadata": {
    "execution": {
     "iopub.execute_input": "2020-11-19T17:08:15.245357Z",
     "iopub.status.busy": "2020-11-19T17:08:15.245046Z",
     "iopub.status.idle": "2020-11-19T17:08:15.253884Z",
     "shell.execute_reply": "2020-11-19T17:08:15.252740Z",
     "shell.execute_reply.started": "2020-11-19T17:08:15.245320Z"
    }
   },
   "outputs": [
    {
     "data": {
      "application/json": {
       "mode": {
        "oneOf": [
         {
          "properties": {
           "New column name": {
            "type": "string"
           },
           "mode": {
            "enum": [
             "value"
            ]
           },
           "other": {
            "type": "number"
           }
          },
          "title": "Size of bins"
         },
         {
          "properties": {
           "New column name": {
            "type": "string"
           },
           "mode": {
            "enum": [
             "column"
            ]
           },
           "other": {
            "$ref": "#/definitions/column",
            "codegenstyle": "seriesColumn"
           }
          },
          "title": "Number of bins"
         }
        ]
       }
      },
      "text/plain": [
       "<IPython.core.display.JSON object>"
      ]
     },
     "execution_count": 7,
     "metadata": {
      "application/json": {
       "expanded": true,
       "root": "root"
      }
     },
     "output_type": "execute_result"
    }
   ],
   "source": [
    "JSON(data['divide']['form']['dependencies'], expanded=True)"
   ]
  },
  {
   "cell_type": "markdown",
   "metadata": {},
   "source": [
    "Lastly, make sure to define the return type as series"
   ]
  },
  {
   "cell_type": "code",
   "execution_count": 8,
   "metadata": {
    "execution": {
     "iopub.execute_input": "2020-11-19T17:08:26.682294Z",
     "iopub.status.busy": "2020-11-19T17:08:26.681733Z",
     "iopub.status.idle": "2020-11-19T17:08:26.795849Z",
     "shell.execute_reply": "2020-11-19T17:08:26.793627Z",
     "shell.execute_reply.started": "2020-11-19T17:08:26.682231Z"
    }
   },
   "outputs": [
    {
     "data": {
      "application/json": {
       "callerObject": "DataFrame[Series]",
       "definitions": {
        "column": {
         "enum": [],
         "type": "string"
        }
       },
       "dependencies": {
        "mode": {
         "oneOf": [
          {
           "properties": {
            "New column name": {
             "type": "string"
            },
            "mode": {
             "enum": [
              "value"
             ]
            },
            "other": {
             "type": "number"
            }
           },
           "title": "Size of bins"
          },
          {
           "properties": {
            "New column name": {
             "type": "string"
            },
            "mode": {
             "enum": [
              "column"
             ]
            },
            "other": {
             "$ref": "#/definitions/column",
             "codegenstyle": "seriesColumn"
            }
           },
           "title": "Number of bins"
          }
         ]
        }
       },
       "function": "divide",
       "properties": {
        "column": {
         "$ref": "#/definitions/column",
         "codegenstyle": "ignore",
         "title": "column"
        },
        "mode": {
         "codegenstyle": "ignore",
         "default": "value",
         "enum": [
          "value",
          "column"
         ],
         "type": "string"
        }
       },
       "required": [
        "column",
        "mode"
       ],
       "returnType": "series",
       "title": "[Column] Divide by value or other column",
       "type": "object"
      },
      "text/plain": [
       "<IPython.core.display.JSON object>"
      ]
     },
     "execution_count": 8,
     "metadata": {
      "application/json": {
       "expanded": false,
       "root": "root"
      }
     },
     "output_type": "execute_result"
    }
   ],
   "source": [
    "JSON(data['divide']['form'], expanded=False)"
   ]
  },
  {
   "cell_type": "markdown",
   "metadata": {},
   "source": [
    "# Transformations without return type"
   ]
  },
  {
   "cell_type": "markdown",
   "metadata": {},
   "source": [
    "Some transformations do not return an object and just write to a notebook. In this case, you can set returnType to \"none\""
   ]
  },
  {
   "cell_type": "code",
   "execution_count": 5,
   "metadata": {
    "execution": {
     "iopub.execute_input": "2021-02-04T13:37:12.522896Z",
     "iopub.status.busy": "2021-02-04T13:37:12.522629Z",
     "iopub.status.idle": "2021-02-04T13:37:12.532650Z",
     "shell.execute_reply": "2021-02-04T13:37:12.531589Z",
     "shell.execute_reply.started": "2021-02-04T13:37:12.522869Z"
    }
   },
   "outputs": [
    {
     "data": {
      "application/json": {
       "callerObject": "DataFrame",
       "description": "Save selected table to csv file.",
       "function": "to_csv",
       "properties": {
        "index": {
         "codegenstyle": "variable",
         "default": "False",
         "enum": [
          "True",
          "False"
         ],
         "enumNames": [
          "Include index",
          "Exclude index"
         ],
         "type": "string"
        },
        "path_or_buf": {
         "description": "Location of the file. You can also indicate a path to save it in a specific folder.",
         "title": "filename or path",
         "type": "string"
        }
       },
       "required": [
        "path_or_buf",
        "index"
       ],
       "returnType": "none",
       "title": "Save to CSV",
       "type": "object"
      },
      "text/plain": [
       "<IPython.core.display.JSON object>"
      ]
     },
     "execution_count": 5,
     "metadata": {
      "application/json": {
       "expanded": false,
       "root": "root"
      }
     },
     "output_type": "execute_result"
    }
   ],
   "source": [
    "JSON(data['to_csv']['form'], expanded=False)"
   ]
  },
  {
   "cell_type": "markdown",
   "metadata": {},
   "source": [
    "If the return type is not specified, it will be determined by the "
   ]
  },
  {
   "cell_type": "markdown",
   "metadata": {},
   "source": [
    "# Importing libraries"
   ]
  },
  {
   "cell_type": "markdown",
   "metadata": {},
   "source": [
    "# Importing snippets"
   ]
  },
  {
   "cell_type": "markdown",
   "metadata": {},
   "source": [
    "# Selection as parameter & pure functions"
   ]
  },
  {
   "cell_type": "markdown",
   "metadata": {},
   "source": [
    "Sometimes, a python transformation is not of the type `object = object.function(parameters)` but rather `object = function(parameters)`.\n",
    "\n",
    "In this cases, many times the first positional parameter is the \"main\" elment of the transformation and the rest of the parameters are configurations. We can treat these cases in the same way from a UI perspective by setting the flag `selectionAsParameter`. "
   ]
  },
  {
   "cell_type": "markdown",
   "metadata": {
    "execution": {
     "iopub.execute_input": "2021-02-04T19:26:15.966302Z",
     "iopub.status.busy": "2021-02-04T19:26:15.965997Z",
     "iopub.status.idle": "2021-02-04T19:26:16.100384Z",
     "shell.execute_reply": "2021-02-04T19:26:16.098903Z",
     "shell.execute_reply.started": "2021-02-04T19:26:15.966265Z"
    }
   },
   "source": [
    "![alt text](img/transformation_guide_selection_as_parameter.png)"
   ]
  },
  {
   "cell_type": "markdown",
   "metadata": {},
   "source": [
    "In the case above, the code will be generated in the following way\n",
    "`pd.get_dummies(data, columns='...')`\n",
    "\n",
    "This way we can give users one single way of interacting and avoid the confusion generated by the fact that there are two different syntax patterns"
   ]
  },
  {
   "cell_type": "code",
   "execution_count": 4,
   "metadata": {
    "execution": {
     "iopub.execute_input": "2021-02-04T19:21:25.771356Z",
     "iopub.status.busy": "2021-02-04T19:21:25.771012Z",
     "iopub.status.idle": "2021-02-04T19:21:25.781462Z",
     "shell.execute_reply": "2021-02-04T19:21:25.780406Z",
     "shell.execute_reply.started": "2021-02-04T19:21:25.771321Z"
    }
   },
   "outputs": [
    {
     "data": {
      "application/json": {
       "callerObject": "pd",
       "definitions": {
        "columns": {
         "items": {
          "enum": [],
          "type": "string"
         },
         "type": "array",
         "uniqueItems": true
        }
       },
       "description": "Create new columns with 0/1 for each unique value in a column. Returns table with additional columns.",
       "function": "get_dummies",
       "properties": {
        "columns": {
         "$ref": "#/definitions/columns",
         "description": "Column(s) expanded into several columns for each distinct value with 0/1 indicators.",
         "title": "expand columns"
        },
        "dummy_na": {
         "codegenstyle": "variable",
         "default": "False",
         "description": "Include a column called NaN that indicates if the value is missing.",
         "enum": [
          "True",
          "False"
         ],
         "title": "NaN column",
         "type": "string"
        },
        "new table name": {
         "type": "string"
        }
       },
       "required": [
        "columns"
       ],
       "selectionAsParameter": true,
       "title": "Create 0/1 indicators for a column",
       "type": "object"
      },
      "text/plain": [
       "<IPython.core.display.JSON object>"
      ]
     },
     "execution_count": 4,
     "metadata": {
      "application/json": {
       "expanded": false,
       "root": "root"
      }
     },
     "output_type": "execute_result"
    }
   ],
   "source": [
    "JSON(data['get_dummies']['form'], expanded=False)"
   ]
  },
  {
   "cell_type": "markdown",
   "metadata": {},
   "source": [
    "The above is even more interesting when we apply it to pure functions, which have no caller object"
   ]
  },
  {
   "cell_type": "code",
   "execution_count": 12,
   "metadata": {
    "execution": {
     "iopub.execute_input": "2021-02-04T19:29:00.445199Z",
     "iopub.status.busy": "2021-02-04T19:29:00.444736Z",
     "iopub.status.idle": "2021-02-04T19:29:00.453671Z",
     "shell.execute_reply": "2021-02-04T19:29:00.452347Z",
     "shell.execute_reply.started": "2021-02-04T19:29:00.445147Z"
    }
   },
   "outputs": [
    {
     "data": {
      "application/json": {
       "definitions": {
        "dataframes": {
         "enum": [],
         "type": "string"
        }
       },
       "description": "Calculate the row-wise euclidean distance between two dataframes with the same columns. Returns a dataframe with the index of the first dataframe and the corresponding euclidean distances.",
       "function": "euclidean_distance",
       "properties": {
        "df2": {
         "$ref": "#/definitions/dataframes",
         "codegenstyle": "variable",
         "description": "Second dataframe",
         "type": "string"
        },
        "new table name": {
         "type": "string"
        }
       },
       "required": [
        "df2"
       ],
       "returnType": "DataFrame",
       "selectionAsParameter": true,
       "title": "[Snippet] Euclidean distance",
       "type": "object"
      },
      "text/plain": [
       "<IPython.core.display.JSON object>"
      ]
     },
     "execution_count": 12,
     "metadata": {
      "application/json": {
       "expanded": false,
       "root": "root"
      }
     },
     "output_type": "execute_result"
    }
   ],
   "source": [
    "JSON(data['euclidean_distance']['form'], expanded=False)"
   ]
  },
  {
   "cell_type": "markdown",
   "metadata": {},
   "source": [
    "# Trasnformation reference"
   ]
  },
  {
   "cell_type": "markdown",
   "metadata": {},
   "source": [
    "Examples of react-jsonschema-form [here](https://rjsf-team.github.io/react-jsonschema-form/)\n",
    "\n",
    "## Form\n",
    "#### JSONschema form\n",
    "1. **title**: Make the API more user-friendly\n",
    "    1. No underscores, e.g. from `sort_by →  sort by`\n",
    "    2. Use full words instead of abbreviations: `pat →  pattern`\n",
    "    3. Help better understand parameters that take more than one type, e.g. sheet name can be\n",
    "        1. `sheet name` if using the name\n",
    "        2. `sheet number` if using an id\n",
    "    4. If the API is very confusing, e.g. `na_sentinel → NaN value`\n",
    "2. **description**: Add a description for each transformation.  \n",
    "    1. Finalize sentences with dots\n",
    "3. **required**\n",
    "    9. Use property object name and not title\n",
    "4. **definitions**\n",
    "    \n",
    "#### Eigendata custom properties\n",
    "1. **callerObject**: DataFrame is replaced by the selected dataframe. Series by the seleciton in the column parameter\n",
    "    1. `pd`\n",
    "    2. `DataFrame` (for dataframe functions)\n",
    "    3. `DataFrame.fdt` (for fastdata functions)\n",
    "    4. `DataFrame[Series]` (for series functions)\n",
    "    5. `DataFrame[Series].str`\n",
    "    6. …\n",
    "2. **function**: function to be called\n",
    "3. **transformationType**: If not defined, we assume it is a function\n",
    "    1. `dataLoading` Will be shown when there is no data\n",
    "    2. `property` Will be called withot parameter parenthesis (e.g. dataframe.shape)\n",
    "3. **returnType**: Type of object that will be returned. We are using the \"new variable name\" or \"new column name\" to infer it. Otherwise it is set to dataframe.\n",
    "    1. `none` the result will not be assigned to anything (e.g. dataframe.to_csv(...))\n",
    "    2. `series` the result will be a series\n",
    "    3. `dataframe` the result will be dataframe\n",
    "4. **selectionAsParameter**: See examples above\n",
    "  \n",
    "    \n",
    "### Form properties\n",
    "#### JSONschema form\n",
    "1. **title**:\n",
    "    1. Only define if it is not clear (e.g. by parameter is not easy to understand)\n",
    "    2. Always lowercase (except new table name)\n",
    "    3. Use title if parameter name has undercores\n",
    "    4. Keep it short, if too long use the description field\n",
    "2. **description**\n",
    "    5. Always add a description\n",
    "3. **type**: Use only two types from jsonschema-form\n",
    "    6. `string`: For single select and string input\n",
    "    7. `number`: For number inputs (e.g. like round example)\n",
    "    8. `array`: For multi-select or array input\n",
    "4. **\\$ref**: Used to define single-select columns, multi-select columns and single-select data frames. No need to define type if $ref is used. Options are:\n",
    "    9. `#/definitions/column`\n",
    "    10. `#/definitions/columns`\n",
    "    11. `#/definitions/dataframes`\n",
    "5. **default**: In case there is enum and enumNames, the default should be the enum value and not the enumNames \n",
    "\n",
    "#### Eigendata custom properties\n",
    "1. **ED: codegenstyle**: Not specified: Pass the input with string `property='input'`\n",
    "    1. `variable` Pass the input without strings  `property=input`\n",
    "    2. `ignore` Used for series transformations\n",
    "    3. `seriesColumn` Used when the series is not passed as a string but rather as an object with the syntax dataFrame['series']\n",
    "\n",
    "### uiSchema"
   ]
  },
  {
   "cell_type": "markdown",
   "metadata": {},
   "source": [
    "# Tests"
   ]
  },
  {
   "cell_type": "markdown",
   "metadata": {},
   "source": [
    "## Sanity tests"
   ]
  },
  {
   "cell_type": "code",
   "execution_count": 60,
   "metadata": {
    "execution": {
     "iopub.execute_input": "2020-11-22T13:57:55.132095Z",
     "iopub.status.busy": "2020-11-22T13:57:55.131840Z",
     "iopub.status.idle": "2020-11-22T13:57:55.142030Z",
     "shell.execute_reply": "2020-11-22T13:57:55.141254Z",
     "shell.execute_reply.started": "2020-11-22T13:57:55.132069Z"
    }
   },
   "outputs": [],
   "source": [
    "n_transformations = len(data)"
   ]
  },
  {
   "cell_type": "code",
   "execution_count": 77,
   "metadata": {
    "execution": {
     "iopub.execute_input": "2020-11-22T14:03:30.477230Z",
     "iopub.status.busy": "2020-11-22T14:03:30.476969Z",
     "iopub.status.idle": "2020-11-22T14:03:30.485253Z",
     "shell.execute_reply": "2020-11-22T14:03:30.483831Z",
     "shell.execute_reply.started": "2020-11-22T14:03:30.477203Z"
    }
   },
   "outputs": [],
   "source": [
    "def check_percentage_form(obj, search_property, get_missing=False):\n",
    "    missing = []\n",
    "    \n",
    "    n_with_property = 0\n",
    "    n_total = 0\n",
    "\n",
    "    for i in data:\n",
    "        n_total += 1\n",
    "        if search_property in data[i]['form']:\n",
    "            n_with_property += 1\n",
    "        else:\n",
    "            missing.append(i)\n",
    "        \n",
    "\n",
    "    percentage_with_property = n_with_property/n_total * 100.0\n",
    "    print(\"Percentage of elements with {}: {}\".format(search_property, percentage_with_property))\n",
    "    \n",
    "    if get_missing==True:\n",
    "        return missing"
   ]
  },
  {
   "cell_type": "code",
   "execution_count": 78,
   "metadata": {
    "execution": {
     "iopub.execute_input": "2020-11-22T14:03:33.480606Z",
     "iopub.status.busy": "2020-11-22T14:03:33.480337Z",
     "iopub.status.idle": "2020-11-22T14:03:33.487528Z",
     "shell.execute_reply": "2020-11-22T14:03:33.486251Z",
     "shell.execute_reply.started": "2020-11-22T14:03:33.480578Z"
    }
   },
   "outputs": [
    {
     "name": "stdout",
     "output_type": "stream",
     "text": [
      "Percentage of elements with title: 100.0\n"
     ]
    }
   ],
   "source": [
    "check_percentage_form(data, 'title')"
   ]
  },
  {
   "cell_type": "code",
   "execution_count": 79,
   "metadata": {
    "execution": {
     "iopub.execute_input": "2020-11-22T14:03:36.134265Z",
     "iopub.status.busy": "2020-11-22T14:03:36.134010Z",
     "iopub.status.idle": "2020-11-22T14:03:36.141484Z",
     "shell.execute_reply": "2020-11-22T14:03:36.140394Z",
     "shell.execute_reply.started": "2020-11-22T14:03:36.134238Z"
    }
   },
   "outputs": [
    {
     "name": "stdout",
     "output_type": "stream",
     "text": [
      "Percentage of elements with description: 100.0\n"
     ]
    }
   ],
   "source": [
    "check_percentage_form(data, 'description')"
   ]
  },
  {
   "cell_type": "code",
   "execution_count": 80,
   "metadata": {
    "execution": {
     "iopub.execute_input": "2020-11-22T14:03:39.456209Z",
     "iopub.status.busy": "2020-11-22T14:03:39.455954Z",
     "iopub.status.idle": "2020-11-22T14:03:39.465220Z",
     "shell.execute_reply": "2020-11-22T14:03:39.464078Z",
     "shell.execute_reply.started": "2020-11-22T14:03:39.456182Z"
    }
   },
   "outputs": [
    {
     "name": "stdout",
     "output_type": "stream",
     "text": [
      "Percentage of elements with required: 93.18181818181817\n"
     ]
    },
    {
     "data": {
      "text/plain": [
       "['describe', 'info', 'extract_number_from_string']"
      ]
     },
     "execution_count": 80,
     "metadata": {},
     "output_type": "execute_result"
    }
   ],
   "source": [
    "check_percentage_form(data, 'required', get_missing=True)"
   ]
  },
  {
   "cell_type": "code",
   "execution_count": 81,
   "metadata": {
    "execution": {
     "iopub.execute_input": "2020-11-22T14:03:42.422696Z",
     "iopub.status.busy": "2020-11-22T14:03:42.422431Z",
     "iopub.status.idle": "2020-11-22T14:03:42.431403Z",
     "shell.execute_reply": "2020-11-22T14:03:42.430094Z",
     "shell.execute_reply.started": "2020-11-22T14:03:42.422667Z"
    }
   },
   "outputs": [
    {
     "name": "stdout",
     "output_type": "stream",
     "text": [
      "Percentage of elements with properties: 95.45454545454545\n"
     ]
    },
    {
     "data": {
      "text/plain": [
       "['describe', 'info']"
      ]
     },
     "execution_count": 81,
     "metadata": {},
     "output_type": "execute_result"
    }
   ],
   "source": [
    "check_percentage_form(data, 'properties', get_missing=True)"
   ]
  },
  {
   "cell_type": "code",
   "execution_count": 99,
   "metadata": {
    "execution": {
     "iopub.execute_input": "2020-11-22T14:06:40.517542Z",
     "iopub.status.busy": "2020-11-22T14:06:40.517132Z",
     "iopub.status.idle": "2020-11-22T14:06:40.527405Z",
     "shell.execute_reply": "2020-11-22T14:06:40.526145Z",
     "shell.execute_reply.started": "2020-11-22T14:06:40.517497Z"
    }
   },
   "outputs": [],
   "source": [
    "def check_percentage_properties(obj, search_property, get_missing=False):\n",
    "    missing = []\n",
    "    \n",
    "    n_with_property = 0\n",
    "    n_total = 0\n",
    "\n",
    "    for i in data:\n",
    "        if 'properties' in  data[i]['form']:\n",
    "            \n",
    "            properties = data[i]['form']['properties']\n",
    "            for prop in properties:\n",
    "                n_total += 1\n",
    "                if search_property in properties[prop]:\n",
    "                    n_with_property += 1\n",
    "                else:\n",
    "                    missing.append({'transformation': i, 'property': prop})\n",
    "\n",
    "    percentage_with_property = n_with_property/n_total * 100.0\n",
    "    print(\"Percentage of elements with {}: {}\".format(search_property, percentage_with_property))\n",
    "    \n",
    "    if get_missing==True:\n",
    "        return missing"
   ]
  },
  {
   "cell_type": "code",
   "execution_count": 101,
   "metadata": {
    "execution": {
     "iopub.execute_input": "2020-11-22T14:06:55.742678Z",
     "iopub.status.busy": "2020-11-22T14:06:55.742427Z",
     "iopub.status.idle": "2020-11-22T14:06:55.749538Z",
     "shell.execute_reply": "2020-11-22T14:06:55.748570Z",
     "shell.execute_reply.started": "2020-11-22T14:06:55.742652Z"
    }
   },
   "outputs": [
    {
     "name": "stdout",
     "output_type": "stream",
     "text": [
      "Percentage of elements with title: 49.137931034482754\n"
     ]
    }
   ],
   "source": [
    "check_percentage_properties(data, 'title', get_missing=False)"
   ]
  },
  {
   "cell_type": "code",
   "execution_count": 102,
   "metadata": {
    "execution": {
     "iopub.execute_input": "2020-11-22T14:07:01.316971Z",
     "iopub.status.busy": "2020-11-22T14:07:01.316694Z",
     "iopub.status.idle": "2020-11-22T14:07:01.322988Z",
     "shell.execute_reply": "2020-11-22T14:07:01.321708Z",
     "shell.execute_reply.started": "2020-11-22T14:07:01.316942Z"
    }
   },
   "outputs": [
    {
     "name": "stdout",
     "output_type": "stream",
     "text": [
      "Percentage of elements with codegenstyle: 38.793103448275865\n"
     ]
    }
   ],
   "source": [
    "check_percentage_properties(data, 'codegenstyle', get_missing=False)"
   ]
  },
  {
   "cell_type": "markdown",
   "metadata": {},
   "source": [
    "## Consistency tests"
   ]
  },
  {
   "cell_type": "markdown",
   "metadata": {},
   "source": [
    "### Properties do not have underscores"
   ]
  },
  {
   "cell_type": "code",
   "execution_count": 2,
   "metadata": {
    "execution": {
     "iopub.execute_input": "2021-03-11T15:07:05.310328Z",
     "iopub.status.busy": "2021-03-11T15:07:05.310058Z",
     "iopub.status.idle": "2021-03-11T15:07:05.317573Z",
     "shell.execute_reply": "2021-03-11T15:07:05.316321Z",
     "shell.execute_reply.started": "2021-03-11T15:07:05.310300Z"
    }
   },
   "outputs": [],
   "source": [
    "def check_no_property_name_with_underscore(transformations, verbose=False):\n",
    "    n_with_property = 0\n",
    "    n_total = 0\n",
    "    missing = []\n",
    "\n",
    "    # iterate over transformations\n",
    "    for i in data:\n",
    "        if 'properties' in  data[i]['form']:\n",
    "            \n",
    "            properties = data[i]['form']['properties']\n",
    "            # look at the properties of all transformations\n",
    "            for prop in properties:\n",
    "                # check the transformations that have an underscore in the title\n",
    "                if '_' in prop:\n",
    "                    n_total += 1\n",
    "                    if 'title' in properties[prop]:\n",
    "                        if verbose: print('Element: ' + prop + ' , Title: ' + properties[prop]['title'])\n",
    "                        n_with_property += 1\n",
    "                    else:\n",
    "                        print('No title defined in transformation ' + i + ' for property ' + prop)\n",
    "    \n",
    "    percentage_with_property = n_with_property/n_total * 100.0  \n",
    "    print(missing)\n",
    "    return percentage_with_property"
   ]
  },
  {
   "cell_type": "code",
   "execution_count": 5,
   "metadata": {
    "execution": {
     "iopub.execute_input": "2021-03-11T15:07:23.042922Z",
     "iopub.status.busy": "2021-03-11T15:07:23.042626Z",
     "iopub.status.idle": "2021-03-11T15:07:23.051627Z",
     "shell.execute_reply": "2021-03-11T15:07:23.050457Z",
     "shell.execute_reply.started": "2021-03-11T15:07:23.042886Z"
    }
   },
   "outputs": [
    {
     "name": "stdout",
     "output_type": "stream",
     "text": [
      "[]\n"
     ]
    },
    {
     "data": {
      "text/plain": [
       "100.0"
      ]
     },
     "execution_count": 5,
     "metadata": {},
     "output_type": "execute_result"
    }
   ],
   "source": [
    "check_no_property_name_with_underscore(data)"
   ]
  },
  {
   "cell_type": "code",
   "execution_count": 3,
   "metadata": {
    "execution": {
     "iopub.execute_input": "2021-03-11T15:07:06.862547Z",
     "iopub.status.busy": "2021-03-11T15:07:06.862230Z",
     "iopub.status.idle": "2021-03-11T15:07:06.869848Z",
     "shell.execute_reply": "2021-03-11T15:07:06.868882Z",
     "shell.execute_reply.started": "2021-03-11T15:07:06.862510Z"
    }
   },
   "outputs": [
    {
     "name": "stdout",
     "output_type": "stream",
     "text": [
      "[]\n"
     ]
    }
   ],
   "source": [
    "assert check_no_property_name_with_underscore(data) == 100.0"
   ]
  },
  {
   "cell_type": "markdown",
   "metadata": {},
   "source": [
    "### Properties do not have different titles"
   ]
  },
  {
   "cell_type": "markdown",
   "metadata": {
    "execution": {
     "iopub.execute_input": "2020-11-22T14:14:43.369249Z",
     "iopub.status.busy": "2020-11-22T14:14:43.368979Z",
     "iopub.status.idle": "2020-11-22T14:14:43.378701Z",
     "shell.execute_reply": "2020-11-22T14:14:43.375714Z",
     "shell.execute_reply.started": "2020-11-22T14:14:43.369218Z"
    }
   },
   "source": [
    "Check that properties with the same name do not have different titles"
   ]
  },
  {
   "cell_type": "markdown",
   "metadata": {},
   "source": [
    "#### Calculate number of replacements with query paths"
   ]
  },
  {
   "cell_type": "code",
   "execution_count": 66,
   "metadata": {
    "execution": {
     "iopub.execute_input": "2021-03-11T15:26:49.602419Z",
     "iopub.status.busy": "2021-03-11T15:26:49.602148Z",
     "iopub.status.idle": "2021-03-11T15:26:49.608882Z",
     "shell.execute_reply": "2021-03-11T15:26:49.606096Z",
     "shell.execute_reply.started": "2021-03-11T15:26:49.602389Z"
    }
   },
   "outputs": [],
   "source": [
    "import jmespath"
   ]
  },
  {
   "cell_type": "code",
   "execution_count": 67,
   "metadata": {
    "execution": {
     "iopub.execute_input": "2021-03-11T15:26:50.107251Z",
     "iopub.status.busy": "2021-03-11T15:26:50.106863Z",
     "iopub.status.idle": "2021-03-11T15:26:50.127149Z",
     "shell.execute_reply": "2021-03-11T15:26:50.124574Z",
     "shell.execute_reply.started": "2021-03-11T15:26:50.107217Z"
    }
   },
   "outputs": [
    {
     "data": {
      "text/plain": [
       "47"
      ]
     },
     "execution_count": 67,
     "metadata": {},
     "output_type": "execute_result"
    }
   ],
   "source": [
    "standard_properties_with_title = 0\n",
    "for i in jmespath.search('*.form.properties.*.title', data):\n",
    "    #print(len(i))\n",
    "    standard_properties_with_title += len(i)\n",
    "standard_properties_with_title"
   ]
  },
  {
   "cell_type": "code",
   "execution_count": 68,
   "metadata": {
    "execution": {
     "iopub.execute_input": "2021-03-11T15:26:50.515520Z",
     "iopub.status.busy": "2021-03-11T15:26:50.514701Z",
     "iopub.status.idle": "2021-03-11T15:26:50.529153Z",
     "shell.execute_reply": "2021-03-11T15:26:50.524681Z",
     "shell.execute_reply.started": "2021-03-11T15:26:50.515484Z"
    }
   },
   "outputs": [
    {
     "data": {
      "text/plain": [
       "16"
      ]
     },
     "execution_count": 68,
     "metadata": {},
     "output_type": "execute_result"
    }
   ],
   "source": [
    "dependency_properties_with_title = 0\n",
    "for i in jmespath.search('*.form.dependencies.mode.oneOf[*].properties.*.title', data):\n",
    "    for mode in i:\n",
    "        dependency_properties_with_title += len(mode)\n",
    "\n",
    "dependency_properties_with_title"
   ]
  },
  {
   "cell_type": "code",
   "execution_count": 69,
   "metadata": {
    "execution": {
     "iopub.execute_input": "2021-03-11T15:26:50.987113Z",
     "iopub.status.busy": "2021-03-11T15:26:50.986838Z",
     "iopub.status.idle": "2021-03-11T15:26:50.993073Z",
     "shell.execute_reply": "2021-03-11T15:26:50.991705Z",
     "shell.execute_reply.started": "2021-03-11T15:26:50.987084Z"
    }
   },
   "outputs": [
    {
     "data": {
      "text/plain": [
       "63"
      ]
     },
     "execution_count": 69,
     "metadata": {},
     "output_type": "execute_result"
    }
   ],
   "source": [
    "standard_properties_with_title + dependency_properties_with_title"
   ]
  },
  {
   "cell_type": "markdown",
   "metadata": {},
   "source": [
    "#### Analyze properties with different titles"
   ]
  },
  {
   "cell_type": "code",
   "execution_count": 128,
   "metadata": {
    "execution": {
     "iopub.execute_input": "2021-03-11T15:41:37.062985Z",
     "iopub.status.busy": "2021-03-11T15:41:37.062714Z",
     "iopub.status.idle": "2021-03-11T15:41:37.070267Z",
     "shell.execute_reply": "2021-03-11T15:41:37.069000Z",
     "shell.execute_reply.started": "2021-03-11T15:41:37.062957Z"
    }
   },
   "outputs": [],
   "source": [
    "def check_properties_with_title(properties_and_titles, properties):\n",
    "    # look at the properties of all transformations\n",
    "    for prop in properties:\n",
    "        # check if we have seen it before\n",
    "        if prop in properties_and_titles:\n",
    "            # if it has a title\n",
    "            # and we don't have that title for that property\n",
    "            if 'title' in properties[prop] and (properties[prop]['title'] not in properties_and_titles[prop]['titles']):\n",
    "                properties_and_titles[prop]['titles'].append(properties[prop]['title'])\n",
    "                properties_and_titles[prop]['counter'] += 1\n",
    "                \n",
    "            elif 'title' in properties[prop]:\n",
    "                 properties_and_titles[prop]['counter'] += 1\n",
    "        else:\n",
    "            # check if it has a title that is not the parameter name\n",
    "            if 'title' in properties[prop]:\n",
    "                properties_and_titles[prop] = {\n",
    "                    'titles': [properties[prop]['title']],\n",
    "                    'counter': 1\n",
    "                } \n",
    "            # we also need to check if we have renamed some properties with titles\n",
    "            # and left others without titles\n",
    "            else:\n",
    "                properties_and_titles[prop] = {\n",
    "                    'titles': [prop],\n",
    "                    'counter': 1\n",
    "                } "
   ]
  },
  {
   "cell_type": "code",
   "execution_count": 129,
   "metadata": {
    "execution": {
     "iopub.execute_input": "2021-03-11T15:41:37.343304Z",
     "iopub.status.busy": "2021-03-11T15:41:37.343040Z",
     "iopub.status.idle": "2021-03-11T15:41:37.349245Z",
     "shell.execute_reply": "2021-03-11T15:41:37.347965Z",
     "shell.execute_reply.started": "2021-03-11T15:41:37.343276Z"
    }
   },
   "outputs": [],
   "source": [
    "def get_all_properties_with_title(transformations, verbose=False):\n",
    "    properties_and_titles = {}\n",
    "    \n",
    "    # iterate over transformations\n",
    "    for i in data:\n",
    "        if 'properties' in  data[i]['form']:\n",
    "            \n",
    "            properties = data[i]['form']['properties']\n",
    "            \n",
    "            check_properties_with_title(properties_and_titles, properties)\n",
    "                        \n",
    "        # look at the dependencies\n",
    "        if 'dependencies' in  data[i]['form']:\n",
    "            for mode in data[i]['form']['dependencies']['mode']['oneOf']:\n",
    "                check_properties_with_title(properties_and_titles, mode['properties'])\n",
    "                \n",
    "    return properties_and_titles"
   ]
  },
  {
   "cell_type": "code",
   "execution_count": 130,
   "metadata": {
    "execution": {
     "iopub.execute_input": "2021-03-11T15:41:38.122791Z",
     "iopub.status.busy": "2021-03-11T15:41:38.121388Z",
     "iopub.status.idle": "2021-03-11T15:41:38.131945Z",
     "shell.execute_reply": "2021-03-11T15:41:38.130803Z",
     "shell.execute_reply.started": "2021-03-11T15:41:38.122698Z"
    }
   },
   "outputs": [],
   "source": [
    "def check_properties_with_different_titles(properties, verbose=False):\n",
    "    duplicated = {}\n",
    "    for key in properties:\n",
    "        if len(properties[key]['titles']) > 1:\n",
    "            duplicated[key] = properties[key]\n",
    "    \n",
    "    return duplicated"
   ]
  },
  {
   "cell_type": "code",
   "execution_count": 131,
   "metadata": {
    "execution": {
     "iopub.execute_input": "2021-03-11T15:41:39.031149Z",
     "iopub.status.busy": "2021-03-11T15:41:39.030889Z",
     "iopub.status.idle": "2021-03-11T15:41:39.037613Z",
     "shell.execute_reply": "2021-03-11T15:41:39.036784Z",
     "shell.execute_reply.started": "2021-03-11T15:41:39.031120Z"
    }
   },
   "outputs": [
    {
     "data": {
      "text/plain": [
       "{'sheet_name': {'titles': ['sheet number', 'sheet name'], 'counter': 2},\n",
       " 'columns': {'titles': ['columns', 'Columns to rename'], 'counter': 2},\n",
       " 'other': {'titles': ['other', 'value', 'column'], 'counter': 11}}"
      ]
     },
     "execution_count": 131,
     "metadata": {},
     "output_type": "execute_result"
    }
   ],
   "source": [
    "check_properties_with_different_titles(get_all_properties_with_title(data))"
   ]
  },
  {
   "cell_type": "markdown",
   "metadata": {},
   "source": [
    "#### Check renamings that are not just removed whitespaces"
   ]
  },
  {
   "cell_type": "code",
   "execution_count": 132,
   "metadata": {
    "execution": {
     "iopub.execute_input": "2021-03-11T15:44:33.344226Z",
     "iopub.status.busy": "2021-03-11T15:44:33.343783Z",
     "iopub.status.idle": "2021-03-11T15:44:33.354648Z",
     "shell.execute_reply": "2021-03-11T15:44:33.353435Z",
     "shell.execute_reply.started": "2021-03-11T15:44:33.344193Z"
    }
   },
   "outputs": [],
   "source": [
    "def check_properties_with_title_no_whitespaces(properties_and_titles, properties):\n",
    "    # look at the properties of all transformations\n",
    "    for prop in properties:\n",
    "        # check if we have seen it before\n",
    "        if prop in properties_and_titles:\n",
    "            # if it has a title\n",
    "            # and we don't have that title for that property\n",
    "            if 'title' in properties[prop] \\\n",
    "                and (properties[prop]['title'] not in properties_and_titles[prop]['titles'])\\\n",
    "                and (properties[prop]['title'] != prop.replace('_',' ')):\n",
    "                \n",
    "                properties_and_titles[prop]['titles'].append(properties[prop]['title'])\n",
    "                properties_and_titles[prop]['counter'] += 1\n",
    "                \n",
    "            elif 'title' in properties[prop] and (properties[prop]['title'] != prop.replace('_',' ')):\n",
    "                 properties_and_titles[prop]['counter'] += 1\n",
    "        else:\n",
    "            # check if it has a title that is not the parameter name\n",
    "            if 'title' in properties[prop] and (properties[prop]['title'] != prop.replace('_',' ')):\n",
    "                properties_and_titles[prop] = {\n",
    "                    'titles': [properties[prop]['title']],\n",
    "                    'counter': 1\n",
    "                } "
   ]
  },
  {
   "cell_type": "code",
   "execution_count": 133,
   "metadata": {
    "execution": {
     "iopub.execute_input": "2021-03-11T15:44:33.739972Z",
     "iopub.status.busy": "2021-03-11T15:44:33.739719Z",
     "iopub.status.idle": "2021-03-11T15:44:33.747893Z",
     "shell.execute_reply": "2021-03-11T15:44:33.746359Z",
     "shell.execute_reply.started": "2021-03-11T15:44:33.739944Z"
    }
   },
   "outputs": [],
   "source": [
    "def get_all_properties_with_different_title(transformations, verbose=False):\n",
    "    properties_and_titles = {}\n",
    "    \n",
    "    # iterate over transformations\n",
    "    for i in data:\n",
    "        if 'properties' in  data[i]['form']:\n",
    "            \n",
    "            properties = data[i]['form']['properties']\n",
    "            \n",
    "            check_properties_with_title_no_whitespaces(properties_and_titles, properties)\n",
    "                        \n",
    "        # look at the dependencies\n",
    "        if 'dependencies' in  data[i]['form']:\n",
    "            for mode in data[i]['form']['dependencies']['mode']['oneOf']:\n",
    "                check_properties_with_title_no_whitespaces(properties_and_titles, mode['properties'])\n",
    "                \n",
    "    return properties_and_titles"
   ]
  },
  {
   "cell_type": "code",
   "execution_count": 134,
   "metadata": {
    "execution": {
     "iopub.execute_input": "2021-03-11T15:44:34.144290Z",
     "iopub.status.busy": "2021-03-11T15:44:34.144018Z",
     "iopub.status.idle": "2021-03-11T15:44:34.158687Z",
     "shell.execute_reply": "2021-03-11T15:44:34.157609Z",
     "shell.execute_reply.started": "2021-03-11T15:44:34.144259Z"
    }
   },
   "outputs": [
    {
     "data": {
      "text/plain": [
       "{'filepath_or_buffer': {'titles': ['file path'], 'counter': 1},\n",
       " 'sep': {'titles': ['separator'], 'counter': 1},\n",
       " 'sheet_name': {'titles': ['sheet number'], 'counter': 1},\n",
       " 'path_or_buf': {'titles': ['file path'], 'counter': 1},\n",
       " 'aggfunc': {'titles': ['aggregation'], 'counter': 2},\n",
       " 'dummy_na': {'titles': ['NaN column'], 'counter': 1},\n",
       " 'left_on': {'titles': ['left column'], 'counter': 1},\n",
       " 'right_on': {'titles': ['right column'], 'counter': 1},\n",
       " 'by': {'titles': ['column'], 'counter': 1},\n",
       " 'regex': {'titles': ['regular expression'], 'counter': 3},\n",
       " 'columns': {'titles': ['Columns to rename'], 'counter': 1},\n",
       " 'dtype': {'titles': ['Columns to reassign'], 'counter': 1},\n",
       " 'pat': {'titles': ['pattern'], 'counter': 2},\n",
       " 'case': {'titles': ['case sensitive'], 'counter': 2},\n",
       " 'sub': {'titles': ['substring'], 'counter': 1},\n",
       " 'repl': {'titles': ['replacement text'], 'counter': 1},\n",
       " 'n': {'titles': ['Number of replacements'], 'counter': 1},\n",
       " 'other': {'titles': ['value', 'column'], 'counter': 10},\n",
       " 'cond': {'titles': ['condition column'], 'counter': 1},\n",
       " 'na_sentinel': {'titles': ['NaN value'], 'counter': 1},\n",
       " 'facet_col': {'titles': ['facet column'], 'counter': 3}}"
      ]
     },
     "execution_count": 134,
     "metadata": {},
     "output_type": "execute_result"
    }
   ],
   "source": [
    "get_all_properties_with_different_title(data)"
   ]
  },
  {
   "cell_type": "markdown",
   "metadata": {},
   "source": [
    "# Export to csv"
   ]
  },
  {
   "cell_type": "code",
   "execution_count": 26,
   "metadata": {
    "execution": {
     "iopub.execute_input": "2020-11-30T14:40:51.169114Z",
     "iopub.status.busy": "2020-11-30T14:40:51.168766Z",
     "iopub.status.idle": "2020-11-30T14:40:51.179563Z",
     "shell.execute_reply": "2020-11-30T14:40:51.175887Z",
     "shell.execute_reply.started": "2020-11-30T14:40:51.169073Z"
    }
   },
   "outputs": [],
   "source": [
    "transformationlist_csv = 'transformation \\n'\n",
    "for i in data:\n",
    "    transformationlist_csv += str(i) + '\\n'\n",
    "    \n",
    "transformationlist_csv = transformationlist_csv[:-1]"
   ]
  },
  {
   "cell_type": "code",
   "execution_count": 27,
   "metadata": {
    "execution": {
     "iopub.execute_input": "2020-11-30T14:40:52.015148Z",
     "iopub.status.busy": "2020-11-30T14:40:52.014815Z",
     "iopub.status.idle": "2020-11-30T14:40:52.021732Z",
     "shell.execute_reply": "2020-11-30T14:40:52.020447Z",
     "shell.execute_reply.started": "2020-11-30T14:40:52.015108Z"
    }
   },
   "outputs": [],
   "source": [
    "f = open(\"transformation_list.csv\", \"w\")\n",
    "f.write(transformationlist_csv)\n",
    "f.close()"
   ]
  },
  {
   "cell_type": "code",
   "execution_count": null,
   "metadata": {},
   "outputs": [],
   "source": []
  }
 ],
 "metadata": {
  "kernelspec": {
   "display_name": "Python 3",
   "language": "python",
   "name": "python3"
  },
  "language_info": {
   "codemirror_mode": {
    "name": "ipython",
    "version": 3
   },
   "file_extension": ".py",
   "mimetype": "text/x-python",
   "name": "python",
   "nbconvert_exporter": "python",
   "pygments_lexer": "ipython3",
   "version": "3.7.9"
  },
  "toc-autonumbering": true,
  "toc-showtags": false
 },
 "nbformat": 4,
 "nbformat_minor": 4
}

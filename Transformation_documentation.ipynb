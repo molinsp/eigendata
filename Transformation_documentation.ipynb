{
 "cells": [
  {
   "cell_type": "markdown",
   "metadata": {},
   "source": [
    "# Transformation documentation"
   ]
  },
  {
   "cell_type": "markdown",
   "metadata": {},
   "source": [
    "Load transformations file"
   ]
  },
  {
   "cell_type": "code",
   "execution_count": 3,
   "metadata": {
    "execution": {
     "iopub.execute_input": "2020-11-15T15:24:51.534834Z",
     "iopub.status.busy": "2020-11-15T15:24:51.534393Z",
     "iopub.status.idle": "2020-11-15T15:24:51.546118Z",
     "shell.execute_reply": "2020-11-15T15:24:51.542856Z",
     "shell.execute_reply.started": "2020-11-15T15:24:51.534784Z"
    }
   },
   "outputs": [],
   "source": [
    "import json\n",
    "from IPython.display import JSON\n",
    "with open('src/transformations.json') as json_file:\n",
    "    data = json.load(json_file)\n",
    "    \n",
    "data = data['transformations']"
   ]
  },
  {
   "cell_type": "markdown",
   "metadata": {},
   "source": [
    "**Recommended**: Use jupyterlab table of contents extension for better navigation (@jupyterlab/toc)"
   ]
  },
  {
   "cell_type": "markdown",
   "metadata": {},
   "source": [
    "# Introduction\n",
    "\n",
    "Data transformations enable non-experts to wrangle and transform data without having to memorize syntax, thereby reducing the number of things one needs to memorize to use code to solve business problems (what we call the cognitive overhead). \n",
    "\n",
    "What users are doing right now is searching for many common data transformations. We improve this experience by reducing the friction of the process:\n",
    "\n",
    "1. **Unified user flow:** The user does not need to switch back and forth between search/documentation and their coding environment\n",
    "2. **Transformation curation:** The user does not need to navigate forums like Stackoverflow and spend time finding the best solution, we curate these for the user so that they can focus on solving business problems\n",
    "3. **Less error-prone:** Sometimes, writing code as text is not the best UX: Python functions some-times take string as parameters, where only a limited set of strings is available. Allowing the user to type any text in a code editor can only lead to errors and slowness\n",
    "4. **No re-inventing the wheel:** Millions of users around the world are googling and developing the same code. We want to enable people to focus on solving problems and reuse off-the-shelf components for common tasks"
   ]
  },
  {
   "cell_type": "markdown",
   "metadata": {},
   "source": [
    "## Types of transformations\n",
    "\n",
    "There are two type of transformations:\n",
    "\n",
    "\n",
    "\n",
    "1. **Pandas functions:** This are the standard Pandas functions, where we provide a GUI that makes them easier to use\n",
    "2. **Custom functions:**Custom functions are custom developed functions that are not part of the pandas library, but provide easy to use access to common functionality."
   ]
  },
  {
   "cell_type": "markdown",
   "metadata": {},
   "source": [
    "# Example 1: Playing around with the read CSV transformation"
   ]
  },
  {
   "cell_type": "markdown",
   "metadata": {},
   "source": [
    "## Understand the transformations.json file"
   ]
  },
  {
   "cell_type": "markdown",
   "metadata": {},
   "source": [
    "## Showing a simple field"
   ]
  },
  {
   "cell_type": "markdown",
   "metadata": {},
   "source": [
    "At the top-level of the file you have the function names"
   ]
  },
  {
   "cell_type": "code",
   "execution_count": null,
   "metadata": {},
   "outputs": [],
   "source": [
    "JSON(data)"
   ]
  },
  {
   "cell_type": "markdown",
   "metadata": {},
   "source": [
    "**Each function has two objects**\n",
    "- **Form object**: This follows the structure defined in [reat-jsonschema-form](https://react-jsonschema-form.readthedocs.io/en/latest/) for auto-creating forms out of JSON schemas. Additionally, we have added a few custom fields for our implementation (labeled as custom), which are required for generating the code\n",
    "- **UI schema:** This defines the UI aspects of the form we are generating, according to the [react-jsonschema-form UI reference](https://react-jsonschema-form.readthedocs.io/en/latest/api-reference/uiSchema/)."
   ]
  },
  {
   "cell_type": "code",
   "execution_count": null,
   "metadata": {},
   "outputs": [],
   "source": [
    "JSON(data['read_csv'])"
   ]
  },
  {
   "cell_type": "markdown",
   "metadata": {},
   "source": [
    "Let's look at the form object"
   ]
  },
  {
   "cell_type": "code",
   "execution_count": null,
   "metadata": {},
   "outputs": [],
   "source": [
    "JSON(data['read_csv']['form'])"
   ]
  },
  {
   "cell_type": "markdown",
   "metadata": {},
   "source": [
    "**We see the following keys:**\n",
    "1. **properties**: Contains one element for each form field. Each field here will map to a parameter in a python function\n",
    "2. **required**: Which of the parameters defined in properties is required (if not filled, returns a validation error)\n",
    "3. **title**: The title of the function that is displayed in the UI. This should be easy to understand for a non-technical user. We follow a few conventions here:\n",
    "    1. No underscores\n",
    "    2. First letter is capital\n",
    "3. **type**: Given JSONschema is used, we need to define the type of each element in the json tree. In this case, form is an object\n",
    "4. **(custom) callerObject**: The object that can call this function \n",
    "    1. For example, read_csv is called from a pandas object, which we import as pd (a common way to import pandas, which we take as a convention). Thus we set the callerObject as pd\n",
    "    2. [Learn more about how it is used in code generation](#understanding-code-generation)\n",
    "5. **(custom) function**: function name in python (same as the outermost property)\n",
    "\n",
    "**Note that the keys labeled as custom are not part of react-jsonschema-form**"
   ]
  },
  {
   "cell_type": "markdown",
   "metadata": {},
   "source": [
    "Let's see the properties object in more detail"
   ]
  },
  {
   "cell_type": "code",
   "execution_count": null,
   "metadata": {},
   "outputs": [],
   "source": [
    "JSON(data['read_csv']['form']['properties'])"
   ]
  },
  {
   "cell_type": "markdown",
   "metadata": {},
   "source": [
    "Fist we will look at the **new table name** field:\n",
    "\n",
    " **All of the transformations have a field called `New table name`**. This is a special field of type string (a simple text input) that will determine if the result of a transformation is save in a new variable (`df2 = df1.function(params)`) or not (`df1 = df1.function(params)`)"
   ]
  },
  {
   "cell_type": "code",
   "execution_count": null,
   "metadata": {},
   "outputs": [],
   "source": [
    "JSON(data['read_csv']['form']['properties']['New table name'])"
   ]
  },
  {
   "cell_type": "markdown",
   "metadata": {},
   "source": [
    "This is rendered as a simple text input"
   ]
  },
  {
   "cell_type": "markdown",
   "metadata": {},
   "source": [
    "![alt text](img/transformation_guide_string_input.png)"
   ]
  },
  {
   "cell_type": "markdown",
   "metadata": {},
   "source": [
    "We see that it has some placeholder text \"Leave blank to modify selected table\". This is defined in the UI schema"
   ]
  },
  {
   "cell_type": "code",
   "execution_count": null,
   "metadata": {},
   "outputs": [],
   "source": [
    "JSON(data['read_csv']['uischema'],expanded=True)"
   ]
  },
  {
   "cell_type": "markdown",
   "metadata": {},
   "source": [
    " Each property in the form object can have UI schema attached to it. By default, the New table name has a UI placeholder that explains how it works."
   ]
  },
  {
   "cell_type": "markdown",
   "metadata": {},
   "source": [
    "## Adding more fields "
   ]
  },
  {
   "cell_type": "markdown",
   "metadata": {},
   "source": [
    "**properties:** If we review the [read_csv pandas documentation](https://pandas.pydata.org/pandas-docs/stable/reference/api/pandas.read_csv.html), we see it takes many parameters. Our approach here is to add the minimum numbers of parameters and only extend if we get user requests. In our case, we have decided to only keep three parameters: the filepath (a mandatory parameter), the separator and the decimal character. In the example below, you will see we set two additional fields\n",
    "1. **type**: Next we need to define which types of parameters we have. In this case, we will use the string types, which just creates a string input\n",
    "2. **title**: Creating a GUI gives us flexibility to override the pandas api and make it more user friendly, without worrying about creating long parameter names. Here the main goal is for the end-user to understand what that field does.\n",
    "    1. Only define if it is not clear (e.g. by parameter is not easy to understand)\n",
    "    2. Always lowercase (except new table name)\n",
    "    3. Avoid underscores\n",
    "    4. Keep it short, if too long use the description field\n",
    "3. **description**: Provide additional information on what that function is doing \n",
    "4. **default**: Define a default value for the parameter"
   ]
  },
  {
   "cell_type": "code",
   "execution_count": null,
   "metadata": {},
   "outputs": [],
   "source": [
    "JSON(data['read_csv']['form']['properties'], expanded=True)"
   ]
  },
  {
   "cell_type": "markdown",
   "metadata": {},
   "source": [
    "**required**: **Here we mark that the filepath_or_buffer is a required parameter. This will trigger a validation error if not filled"
   ]
  },
  {
   "cell_type": "code",
   "execution_count": null,
   "metadata": {},
   "outputs": [],
   "source": [
    "JSON(data['read_csv']['form']['required'], expanded=True)"
   ]
  },
  {
   "cell_type": "markdown",
   "metadata": {},
   "source": [
    "<a id='understanding-code-generation' a>"
   ]
  },
  {
   "cell_type": "markdown",
   "metadata": {},
   "source": [
    "## Understanding code generation \n",
    "When you run the transformation clicking submit, the code is mapped from a json object to a python function call:\n",
    "\n",
    "**Input: Form data**\n",
    "\n",
    "\n",
    "```json\n",
    "{sep: \",\", decimal: \".\", filepath_or_buffer: \"titanic.csv\"}\n",
    "```\n",
    "\n",
    "\n",
    "**Output: Generated code**\n",
    "\n",
    "```python\n",
    "data = pd.read_csv(\n",
    "    sep=\",\", \n",
    "    decimal=\".\", \n",
    "    filepath_or_buffer=\"titanic.csv\")\n",
    "```"
   ]
  },
  {
   "cell_type": "markdown",
   "metadata": {},
   "source": [
    "**Formula:** result_object = caller_object dot function (parameters)\n",
    "\n",
    "\n",
    "In this case, the ojbect is a dataframe\n",
    "1. **result_object**: This comes from the “New table name” parameter. If empty, it overwrites the object that called it(`df1 = df1.function(params)`). If it is called from Pandas directly (i.e. not from a dataframe), it creates a dataframe called data as a default\n",
    "2. **caller_object** : This is the caller-object defined before in the json schema\n",
    "3. **function**: This is the function defined above in the json schema\n",
    "4. **parameters**: These are the parameters passed from the form\n",
    "    1. The way these are transformed is that it combines the key of the parameter with the value coming from the user input, using the equal sign that python functions use to specify parameters\n",
    "    2. For example, <code>sep: \",\"</code>, becomes <code>sep=\",\" </code>\n",
    "    3. For readability, we format a parameter in each line\n",
    "    4. Also notice that some parameters are implicit in python, meaning you don’t need to specify the <code>parametername=</code>. We nevertheless decide to do so to improve understanding of what the function is doing"
   ]
  },
  {
   "cell_type": "markdown",
   "metadata": {},
   "source": [
    "## Test the transformation\n",
    "\n",
    "Full code can be found [here](https://github.com/molinsp/eigendata/blob/0a23c3fee13846b90ff4af08c0a52d57696e9035/src/transformations.json#L160)\n",
    "\n",
    "\n",
    "\n",
    "1. You can make changes to the JSON object and recompile the project (jlpm run build) to see changes in the UI. For example:\n",
    "    1. Try adding a description to the filepath parameter\n",
    "    2. Try adding an index_col parameter (see pandas reference)\n",
    "    3. Try changing the defaults\n",
    "2. Remember, the read_csv transformation is only visible when no data has been loaded"
   ]
  },
  {
   "cell_type": "markdown",
   "metadata": {},
   "source": [
    "# Example 2: Adding a select dropdown in the sort function"
   ]
  },
  {
   "cell_type": "markdown",
   "metadata": {},
   "source": [
    "## Preparing template for sort transformation\n",
    "1. Based on the example above, we first prepare the boilerplate for the sort transformation\n",
    "2. Notice how we are using a callerObject of type dataframe. This is because sort_values is a function available to Dataframe objects, so we define the callerObject as Dataframe (See code-generation to learn more) "
   ]
  },
  {
   "cell_type": "code",
   "execution_count": null,
   "metadata": {},
   "outputs": [],
   "source": [
    "boilerplate = {'sort_values':{'form': {}, 'uischema':{}}}\n",
    "boilerplate['sort_values']['form'] = {\n",
    "        'properties': {'New table name' :{'type': 'string'}},\n",
    "        'title': 'Sort data',\n",
    "        'description': 'Sort values based on a column',\n",
    "        'type' : 'object',\n",
    "        'required' : [],\n",
    "        'callerObject': 'Dataframe',\n",
    "        'function' : 'sort_values'\n",
    "}\n",
    "\n",
    "boilerplate['sort_values']['uischema'] = data['read_csv']['uischema']\n",
    "\n",
    "JSON(boilerplate,expanded=True)"
   ]
  },
  {
   "cell_type": "markdown",
   "metadata": {},
   "source": [
    "## Adding a simple dropdown\n",
    "\n",
    "Here we will create a single select property:\n",
    "\n",
    "\n",
    "\n",
    "1. enum: Define the values in the dropdown\n",
    "2. enumNames: This is optional and allows you to give custom names in a dropdown. In this case, it is easier to read sorting type ascending than ascending=True\n",
    "3. codegenstyle: This is not part of react-jsonschmea-form. This is a custom parameter that allows us to customize how we map the form response to the python code. As we saw in the example above, the default is pass adding string characters. In this case, that would result in somethinglike: ascending = “True”. Passing the codegenstyle=”variable” flag will remove the quotation marks form the user input, processing ascending=True instead.\n",
    "4. default: This is the default value that will be populated in the UI. When there is both enum and enumNames, the default is taken from the enum."
   ]
  },
  {
   "cell_type": "code",
   "execution_count": null,
   "metadata": {},
   "outputs": [],
   "source": [
    "JSON(data['sort_values']['form']['properties']['ascending'], expanded=True)"
   ]
  },
  {
   "cell_type": "markdown",
   "metadata": {},
   "source": [
    "![alt text](img/transformation_guide_select_field.png)"
   ]
  },
  {
   "cell_type": "markdown",
   "metadata": {},
   "source": [
    "## Adding a dropdown with the names of the columns"
   ]
  },
  {
   "cell_type": "markdown",
   "metadata": {},
   "source": [
    "Now sometimes, the dropdown values can not be defined in the jsonschema, because they depend on runtime information (e.g. which data frames have been loaded, what are the columns of a dataframe, etc.). In this case, we create a placeholder jsonschema and we auto-populate. Let’s see an example:\n",
    "\n",
    "\n",
    "\n",
    "1. properties.by\n",
    "    1. $ref: Here we are creating a reference to a definition object called columns. The idea is that if several parameters use the columns, we only have to define them once (learn more about definitions [here](https://react-jsonschema-form.readthedocs.io/en/latest/usage/definitions/)). \n",
    "    2. title: Here we may want to give a different name. We will always use the same standard reference to columns definition, and if needed change the name through the title\n",
    "2. definitions: This holds the skeleton to populate the column dropdown. The empty enum will be populated with a list of all string names automatically"
   ]
  },
  {
   "cell_type": "code",
   "execution_count": null,
   "metadata": {},
   "outputs": [],
   "source": [
    "JSON(data['sort_values']['form']['properties']['by'], expanded=True)"
   ]
  },
  {
   "cell_type": "code",
   "execution_count": null,
   "metadata": {},
   "outputs": [],
   "source": [
    "JSON(data['sort_values']['form']['definitions'], expanded=True)"
   ]
  },
  {
   "cell_type": "markdown",
   "metadata": {},
   "source": [
    "![alt text](img/transformation_guide_select_columns.png)"
   ]
  },
  {
   "cell_type": "markdown",
   "metadata": {},
   "source": [
    "If we look at the code generation, we see that althrough we load the definitions of a parameter called column, the parameter we have rendered is called \"by\"\n",
    "```python\n",
    "data = data.sort_values(\n",
    "    ascending=False, \n",
    "    by=\"Age\")\n",
    "```"
   ]
  },
  {
   "cell_type": "markdown",
   "metadata": {},
   "source": [
    "# Example 3: Adding a multi-select dropdown"
   ]
  },
  {
   "cell_type": "markdown",
   "metadata": {},
   "source": [
    "The example below describes how to create a GUI for a multi-select using the column-names:\n",
    "\n",
    "\n",
    "\n",
    "1. Add a reference to definitions/columns (notice the s at the end)\n",
    "2. Add the columns definition code as-is"
   ]
  },
  {
   "cell_type": "code",
   "execution_count": null,
   "metadata": {},
   "outputs": [],
   "source": [
    "JSON(data['get_dummies']['form']['properties']['columns'], expanded=True)"
   ]
  },
  {
   "cell_type": "code",
   "execution_count": null,
   "metadata": {},
   "outputs": [],
   "source": [
    "JSON(data['get_dummies']['form']['definitions'], expanded=True)"
   ]
  },
  {
   "cell_type": "markdown",
   "metadata": {},
   "source": [
    "![alt text](img/transformation_guide_multiselect_columns.png)"
   ]
  },
  {
   "cell_type": "markdown",
   "metadata": {},
   "source": [
    "### Styling the multi-select differently\n",
    "We can also use the UI-schema to style a multi-select differently"
   ]
  },
  {
   "cell_type": "code",
   "execution_count": null,
   "metadata": {},
   "outputs": [],
   "source": [
    "JSON(data['drop']['form']['properties'],expanded=True)"
   ]
  },
  {
   "cell_type": "code",
   "execution_count": null,
   "metadata": {},
   "outputs": [],
   "source": [
    "JSON(data['drop']['form']['definitions'], expanded=True)"
   ]
  },
  {
   "cell_type": "code",
   "execution_count": null,
   "metadata": {},
   "outputs": [],
   "source": [
    "JSON(data['drop']['uischema']['columns'], expanded=True)"
   ]
  },
  {
   "cell_type": "markdown",
   "metadata": {},
   "source": [
    "Here we have the same functionality but styled differently"
   ]
  },
  {
   "cell_type": "markdown",
   "metadata": {},
   "source": [
    "![alt text](img/transformation_guide_multiselect_checkboxes.png)"
   ]
  },
  {
   "cell_type": "markdown",
   "metadata": {},
   "source": [
    "### Understanding the code generation"
   ]
  },
  {
   "cell_type": "markdown",
   "metadata": {},
   "source": [
    "**Input:** **Form data & selected dataframe**\n",
    "\n",
    "\n",
    "\n",
    "1. Form data: \n",
    "```json\n",
    "{columns: [\"Parents/Children Aboard\", \"Siblings/Spouses Aboard\"]}\n",
    "```\n",
    "2. Selected dataframe: data\n",
    "\n",
    "<strong>Output: Generated code</strong>\n",
    "\n",
    "\n",
    "```python\n",
    "data = data.drop(\n",
    "    columns=[\"Parents/Children Aboard\",\"Siblings/Spouses Aboard\"])\n",
    "```\n",
    "\n"
   ]
  },
  {
   "cell_type": "markdown",
   "metadata": {},
   "source": [
    "The input from the form is mapped to a generic formula in the following way:\n",
    "\n",
    "Formula: dataframe = object dot function (parameters)\n",
    "1. **dataframe**: Set to be the same than the selected datafreme given there is no input in New table name\n",
    "2. **object** : Here, the callerObject DataFrame is replaced by the selected dataframe that is passed\n",
    "3. **function**: This is the function defined above in the json schema"
   ]
  },
  {
   "cell_type": "markdown",
   "metadata": {},
   "source": [
    "# Example 4: Complex fields"
   ]
  },
  {
   "cell_type": "markdown",
   "metadata": {},
   "source": [
    "This example describes how to create UIs that are rendered as dictionaries in python\n",
    "```python\n",
    "property={'input1_field1' : 'input1_field2', 'input2_field1' : 'input2_field2'}`\n",
    "```"
   ]
  },
  {
   "cell_type": "markdown",
   "metadata": {},
   "source": [
    "\n",
    "The way this is implemented is using an array that has two sub-fields. The sub-fields are implementes nested property, i.e. a property inside another property:\n",
    "1. In the example below, you see a property named dtype\n",
    "2. The type is set to array\n",
    "3. We defined an **items** element of type object\n",
    "4. We define another properties element inside items (here is where the nesting takes place)"
   ]
  },
  {
   "cell_type": "code",
   "execution_count": null,
   "metadata": {},
   "outputs": [],
   "source": [
    "JSON(data['astype']['form']['properties'], expanded=True)"
   ]
  },
  {
   "cell_type": "markdown",
   "metadata": {},
   "source": [
    "# Example 5: Series transformation"
   ]
  },
  {
   "cell_type": "markdown",
   "metadata": {},
   "source": [
    "A series transformation is a transformation that return a [series](https://pandas.pydata.org/pandas-docs/stable/reference/api/pandas.Series.html)\n",
    "\n",
    "Thus, the code we generate is of the type\n",
    "```python\n",
    "dataframe['Series name'] = dataframe['Series name'] dot function (parameters)\n",
    "```\n",
    "\n",
    "When we write a series transformation, we need to:\n",
    "\n",
    "1. Specify an additional column parameter\n",
    "2. Set the caller object to DataFrame[Series]\n",
    "2. **Set codegenstyle: ignore, given that the column is not a real parameter of the function that nees to be rendered!**\n",
    "3. The new table property is converted into a new column property, allowing us either to replace the column or define a new column"
   ]
  },
  {
   "cell_type": "code",
   "execution_count": null,
   "metadata": {},
   "outputs": [],
   "source": [
    "JSON(data['round'], expanded=True)"
   ]
  },
  {
   "cell_type": "markdown",
   "metadata": {},
   "source": [
    "# Example 6: Conditional transformation"
   ]
  },
  {
   "cell_type": "markdown",
   "metadata": {},
   "source": [
    "Sometimes, functions have more than one way of being called. This is usually hard for a user to understand when they read a documentation. How we have implemented this patter is with conditional fields in jsonschema form."
   ]
  },
  {
   "cell_type": "markdown",
   "metadata": {},
   "source": [
    "First, we define a **mode** property with an enum that lists all the options"
   ]
  },
  {
   "cell_type": "code",
   "execution_count": 7,
   "metadata": {
    "execution": {
     "iopub.execute_input": "2020-11-15T15:26:16.146696Z",
     "iopub.status.busy": "2020-11-15T15:26:16.146444Z",
     "iopub.status.idle": "2020-11-15T15:26:16.164921Z",
     "shell.execute_reply": "2020-11-15T15:26:16.160284Z",
     "shell.execute_reply.started": "2020-11-15T15:26:16.146669Z"
    }
   },
   "outputs": [
    {
     "data": {
      "application/json": {
       "column": {
        "$ref": "#/definitions/column",
        "codegenstyle": "ignore",
        "title": "column"
       },
       "mode": {
        "default": "size",
        "enum": [
         "size",
         "number",
         "quantiles",
         "custom"
        ],
        "enumNames": [
         "Size of bin",
         "Number of bins",
         "Quantiles (e.g. quartiles)",
         "Custom interval ranges"
        ],
        "type": "string"
       }
      },
      "text/plain": [
       "<IPython.core.display.JSON object>"
      ]
     },
     "execution_count": 7,
     "metadata": {
      "application/json": {
       "expanded": true,
       "root": "root"
      }
     },
     "output_type": "execute_result"
    }
   ],
   "source": [
    "JSON(data['bin_column']['form']['properties'], expanded=True)"
   ]
  },
  {
   "cell_type": "markdown",
   "metadata": {},
   "source": [
    "Define dependencies for the mode property:\n",
    "1. Define a **oneOf** object, with one element per mode. Each element inside the oneOf needs to be a valid jsonschema form\n",
    "2. Create a property called mode, with an enum holding only one option. This means that this element of oneOf defines the case where the mode is equal to this value\n",
    "3. Define the rest of the properties, including new column name/new table name, etc."
   ]
  },
  {
   "cell_type": "code",
   "execution_count": 9,
   "metadata": {
    "execution": {
     "iopub.execute_input": "2020-11-15T15:27:20.630587Z",
     "iopub.status.busy": "2020-11-15T15:27:20.629531Z",
     "iopub.status.idle": "2020-11-15T15:27:20.647332Z",
     "shell.execute_reply": "2020-11-15T15:27:20.645005Z",
     "shell.execute_reply.started": "2020-11-15T15:27:20.630523Z"
    }
   },
   "outputs": [
    {
     "data": {
      "application/json": {
       "mode": {
        "oneOf": [
         {
          "properties": {
           "New column name": {
            "type": "string"
           },
           "end": {
            "type": "number"
           },
           "mode": {
            "enum": [
             "size"
            ]
           },
           "size": {
            "type": "number"
           },
           "start": {
            "type": "number"
           }
          },
          "title": "Size of bins"
         },
         {
          "properties": {
           "New column name": {
            "type": "string"
           },
           "bin_number": {
            "type": "number"
           },
           "mode": {
            "enum": [
             "number"
            ]
           }
          },
          "title": "Number of bins"
         },
         {
          "properties": {
           "New column name": {
            "type": "string"
           },
           "mode": {
            "enum": [
             "quantiles"
            ]
           },
           "quantiles": {
            "type": "number"
           }
          },
          "title": "Number of bins"
         },
         {
          "properties": {
           "New column name": {
            "type": "string"
           },
           "breaks": {
            "description": "Set the break points for the custom ranges. Need to include start and end elements",
            "items": {
             "type": "number"
            },
            "type": "array"
           },
           "closed": {
            "default": "right",
            "description": "For example, breaks of [1, 3, 5 o] closed on the right implies that nubmer 3 will be part of the interval (1-3]. If closed on the let, then 3 would be part of interval [3-5)",
            "enum": [
             "left",
             "right",
             "both",
             "neither"
            ],
            "type": "string"
           },
           "mode": {
            "enum": [
             "custom"
            ]
           }
          },
          "title": "Custom bins"
         }
        ]
       }
      },
      "text/plain": [
       "<IPython.core.display.JSON object>"
      ]
     },
     "execution_count": 9,
     "metadata": {
      "application/json": {
       "expanded": true,
       "root": "root"
      }
     },
     "output_type": "execute_result"
    }
   ],
   "source": [
    "JSON(data['bin_column']['form']['dependencies'], expanded=True)"
   ]
  },
  {
   "cell_type": "markdown",
   "metadata": {},
   "source": [
    "Lastly, make sure to define the return type as series"
   ]
  },
  {
   "cell_type": "code",
   "execution_count": 11,
   "metadata": {
    "execution": {
     "iopub.execute_input": "2020-11-15T15:29:54.988200Z",
     "iopub.status.busy": "2020-11-15T15:29:54.987949Z",
     "iopub.status.idle": "2020-11-15T15:29:54.998386Z",
     "shell.execute_reply": "2020-11-15T15:29:54.997188Z",
     "shell.execute_reply.started": "2020-11-15T15:29:54.988173Z"
    }
   },
   "outputs": [
    {
     "data": {
      "application/json": {
       "callerObject": "DataFrame[Series].fdt",
       "definitions": {
        "column": {
         "enum": [],
         "type": "string"
        }
       },
       "dependencies": {
        "mode": {
         "oneOf": [
          {
           "properties": {
            "New column name": {
             "type": "string"
            },
            "end": {
             "type": "number"
            },
            "mode": {
             "enum": [
              "size"
             ]
            },
            "size": {
             "type": "number"
            },
            "start": {
             "type": "number"
            }
           },
           "title": "Size of bins"
          },
          {
           "properties": {
            "New column name": {
             "type": "string"
            },
            "bin_number": {
             "type": "number"
            },
            "mode": {
             "enum": [
              "number"
             ]
            }
           },
           "title": "Number of bins"
          },
          {
           "properties": {
            "New column name": {
             "type": "string"
            },
            "mode": {
             "enum": [
              "quantiles"
             ]
            },
            "quantiles": {
             "type": "number"
            }
           },
           "title": "Number of bins"
          },
          {
           "properties": {
            "New column name": {
             "type": "string"
            },
            "breaks": {
             "description": "Set the break points for the custom ranges. Need to include start and end elements",
             "items": {
              "type": "number"
             },
             "type": "array"
            },
            "closed": {
             "default": "right",
             "description": "For example, breaks of [1, 3, 5 o] closed on the right implies that nubmer 3 will be part of the interval (1-3]. If closed on the let, then 3 would be part of interval [3-5)",
             "enum": [
              "left",
              "right",
              "both",
              "neither"
             ],
             "type": "string"
            },
            "mode": {
             "enum": [
              "custom"
             ]
            }
           },
           "title": "Custom bins"
          }
         ]
        }
       },
       "function": "bin_column",
       "properties": {
        "column": {
         "$ref": "#/definitions/column",
         "codegenstyle": "ignore",
         "title": "column"
        },
        "mode": {
         "default": "size",
         "enum": [
          "size",
          "number",
          "quantiles",
          "custom"
         ],
         "enumNames": [
          "Size of bin",
          "Number of bins",
          "Quantiles (e.g. quartiles)",
          "Custom interval ranges"
         ],
         "type": "string"
        }
       },
       "required": [
        "column"
       ],
       "returnType": "series",
       "title": "[Column] Bin/Bucket columns",
       "type": "object"
      },
      "text/plain": [
       "<IPython.core.display.JSON object>"
      ]
     },
     "execution_count": 11,
     "metadata": {
      "application/json": {
       "expanded": false,
       "root": "root"
      }
     },
     "output_type": "execute_result"
    }
   ],
   "source": [
    "JSON(data['bin_column']['form'], expanded=False)"
   ]
  },
  {
   "cell_type": "markdown",
   "metadata": {},
   "source": [
    "# TRANSFORMATION REFERENCE"
   ]
  },
  {
   "cell_type": "markdown",
   "metadata": {},
   "source": [
    "Examples of react-jsonschema-form [here](https://rjsf-team.github.io/react-jsonschema-form/)\n",
    "\n",
    "\n",
    "\n",
    "1. Form:\n",
    "    1. **title**: Should be easy to understand for a non-technical user. \n",
    "        1. No underscores\n",
    "        2. First letter is capital\n",
    "    2. **description**: Avoid if not necessary\n",
    "    3. **properties**\n",
    "        3. **title**:\n",
    "            1. Only define if it is not clear (e.g. by parameter is not easy to understand)\n",
    "            2. Always lowercase (except new table name)\n",
    "            3. Avoid underscores\n",
    "            4. Keep it short, if too long use the description field\n",
    "        4. **description**\n",
    "            5. Only add when not self-explanatory\n",
    "        5. **type**: Use only two types from jsonschema-form\n",
    "            6. `string`: For single select and string input\n",
    "            7. `number`: For number inputs (e.g. like round example)\n",
    "            8. `array`: For multi-select or array input\n",
    "        6. **\\$ref**: Used to define single-select columns, multi-select columns and single-select data frames. No need to define type if $ref is used. Options are:\n",
    "            9. `#/definitions/column`\n",
    "            10. `#/definitions/columns`\n",
    "            11. `#/definitions/dataframes`\n",
    "        7. **codegenstyle**: Not specified: Pass the input with string `property='input'`\n",
    "            12. `variable` Pass the input without strings  `property=input`\n",
    "            13. `ignore` Used for series transformations\n",
    "        8. **default**: In case there is enum and enumNames, the default should be the enum value and not the enumNames value\n",
    "    4. **required**\n",
    "        9. Use property object name and not title\n",
    "    5. **callerObject**\n",
    "        10. `pd`\n",
    "        11. `DataFrame` (for dataframe functions)\n",
    "        12. `DataFrame.fdt` (for fastdata functions)\n",
    "        13. `DataFrame[Series]` (for series functions)\n",
    "        14. `DataFrame[Series].str`\n",
    "        15. …\n",
    "2. uiSchema"
   ]
  },
  {
   "cell_type": "code",
   "execution_count": null,
   "metadata": {},
   "outputs": [],
   "source": []
  }
 ],
 "metadata": {
  "kernelspec": {
   "display_name": "Python 3",
   "language": "python",
   "name": "python3"
  },
  "language_info": {
   "codemirror_mode": {
    "name": "ipython",
    "version": 3
   },
   "file_extension": ".py",
   "mimetype": "text/x-python",
   "name": "python",
   "nbconvert_exporter": "python",
   "pygments_lexer": "ipython3",
   "version": "3.7.9"
  }
 },
 "nbformat": 4,
 "nbformat_minor": 4
}

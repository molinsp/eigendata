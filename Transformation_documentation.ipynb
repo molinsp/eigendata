{
 "cells": [
  {
   "cell_type": "code",
   "execution_count": 1,
   "metadata": {
    "execution": {
     "iopub.execute_input": "2021-10-17T16:33:59.519801Z",
     "iopub.status.busy": "2021-10-17T16:33:59.507975Z",
     "iopub.status.idle": "2021-10-17T16:33:59.531295Z",
     "shell.execute_reply": "2021-10-17T16:33:59.527235Z",
     "shell.execute_reply.started": "2021-10-17T16:33:59.519523Z"
    },
    "tags": []
   },
   "outputs": [],
   "source": [
    "from IPython.display import JSON"
   ]
  },
  {
   "cell_type": "markdown",
   "metadata": {
    "toc-hr-collapsed": true,
    "toc-nb-collapsed": true
   },
   "source": [
    "# Introduction\n",
    "\n",
    "The following document describes how to easily generate user interfaces out of JSON configuraitons for any python library."
   ]
  },
  {
   "cell_type": "markdown",
   "metadata": {},
   "source": [
    "## Types of transformations\n",
    "\n",
    "There are two type of transformations:\n",
    "\n",
    "\n",
    "1. **Library functions:** These are methods that are part of a python library, like pandas\n",
    "2. **Code snippests:** Cose-snippets that are used as a function but are not part of any library"
   ]
  },
  {
   "cell_type": "markdown",
   "metadata": {
    "toc-hr-collapsed": true,
    "toc-nb-collapsed": true
   },
   "source": [
    "# A first simple transformation"
   ]
  },
  {
   "cell_type": "markdown",
   "metadata": {},
   "source": [
    "## Defining a simple transformation"
   ]
  },
  {
   "cell_type": "markdown",
   "metadata": {},
   "source": [
    "The GUI of each transformation is defined as a simple json object that follows the [jsonschema spec](https://json-schema.org/specification.html), and is rendered into a GUI using [react-jsonschema-form](https://github.com/rjsf-team/react-jsonschema-form)"
   ]
  },
  {
   "cell_type": "code",
   "execution_count": 2,
   "metadata": {
    "execution": {
     "iopub.execute_input": "2021-10-17T16:33:59.535880Z",
     "iopub.status.busy": "2021-10-17T16:33:59.534923Z",
     "iopub.status.idle": "2021-10-17T16:33:59.548803Z",
     "shell.execute_reply": "2021-10-17T16:33:59.547977Z",
     "shell.execute_reply.started": "2021-10-17T16:33:59.535779Z"
    },
    "tags": []
   },
   "outputs": [],
   "source": [
    "transformations = {\n",
    "    \"read_csv\" : {\n",
    "      \"form\" : {\n",
    "        \"properties\" : {\n",
    "          \"filepath_or_buffer\" : {\n",
    "            \"type\" : \"string\",\n",
    "            \"title\" : \"file path\",\n",
    "            \"description\" : \"Location of the file relative to the notebook. E.g. /Documents/Data/testdata.csv.\"\n",
    "          },\n",
    "          \"sep\" : {\n",
    "            \"type\" : \"string\",\n",
    "            \"default\" : \",\",\n",
    "            \"title\" : \"separator\",\n",
    "            \"description\" : \"Character used to separate columns (e.g. commas, semicolons, etc.).\"\n",
    "          },\n",
    "          \"decimal\" : {\n",
    "            \"type\" : \"string\",\n",
    "            \"default\" : \".\",\n",
    "            \"description\" : \"Character used to indicate decimals.\"\n",
    "          },\n",
    "          \"header\" : {\n",
    "            \"type\" : \"number\",\n",
    "            \"description\" : \"Row to use for the column labels (first row is 0).\"\n",
    "          },\n",
    "          \"new table name\" : {\n",
    "            \"type\" : \"string\"\n",
    "          }\n",
    "        },\n",
    "        \"required\" : [\n",
    "          \"filepath_or_buffer\"\n",
    "        ],\n",
    "        \"title\" : \"Read CSV file\",\n",
    "        \"type\" : \"object\",\n",
    "        \"callerObject\" : \"pd\",\n",
    "        \"function\" : \"read_csv\",\n",
    "        \"transformationType\" : \"dataLoading\",\n",
    "        \"description\" : \"Load the csv in a table.\"\n",
    "      },\n",
    "      \"uischema\" : {\n",
    "        \"new table name\" : {\n",
    "          \"ui:placeholder\" : \"Leave blank to modify selected table\"\n",
    "        }\n",
    "      },\n",
    "      \"library\" : {\n",
    "        \"name\" : \"pandas\",\n",
    "        \"importStatement\" : \"import pandas as pd\",\n",
    "        \"namespace\" : \"pd\"\n",
    "      },\n",
    "      \"keywords\" : [\n",
    "        \"csv\",\n",
    "        \"load\",\n",
    "        \"read\"\n",
    "      ]\n",
    "    }\n",
    "}"
   ]
  },
  {
   "cell_type": "markdown",
   "metadata": {},
   "source": [
    "**Each function has 4 objects**\n",
    "- **form**: This follows the structure defined in [reat-jsonschema-form](https://react-jsonschema-form.readthedocs.io/en/latest/) for auto-generating forms from a JSON schema. Additionally, we have added a few custom fields for our implementation, which are required for generating code based on form inputs\n",
    "- **uischema:** This defines the UI aspects of the form we are generating, according to the [react-jsonschema-form UI reference](https://react-jsonschema-form.readthedocs.io/en/latest/api-reference/uiSchema/).\n",
    "- **library:** Details which packages is required to run this function and how to import it\n",
    "- **keywords:** Search keys that will allow to find this funtion in the search inteface"
   ]
  },
  {
   "cell_type": "markdown",
   "metadata": {},
   "source": [
    "![alt text](img/transformation_search.png)"
   ]
  },
  {
   "cell_type": "markdown",
   "metadata": {},
   "source": [
    "Let's look at the form object"
   ]
  },
  {
   "cell_type": "code",
   "execution_count": 3,
   "metadata": {
    "execution": {
     "iopub.execute_input": "2021-10-17T16:33:59.553791Z",
     "iopub.status.busy": "2021-10-17T16:33:59.553424Z",
     "iopub.status.idle": "2021-10-17T16:33:59.576136Z",
     "shell.execute_reply": "2021-10-17T16:33:59.575308Z",
     "shell.execute_reply.started": "2021-10-17T16:33:59.553761Z"
    },
    "tags": []
   },
   "outputs": [
    {
     "data": {
      "application/json": {
       "callerObject": "pd",
       "description": "Load the csv in a table.",
       "function": "read_csv",
       "properties": {
        "decimal": {
         "default": ".",
         "description": "Character used to indicate decimals.",
         "type": "string"
        },
        "filepath_or_buffer": {
         "description": "Location of the file relative to the notebook. E.g. /Documents/Data/testdata.csv.",
         "title": "file path",
         "type": "string"
        },
        "header": {
         "description": "Row to use for the column labels (first row is 0).",
         "type": "number"
        },
        "new table name": {
         "type": "string"
        },
        "sep": {
         "default": ",",
         "description": "Character used to separate columns (e.g. commas, semicolons, etc.).",
         "title": "separator",
         "type": "string"
        }
       },
       "required": [
        "filepath_or_buffer"
       ],
       "title": "Read CSV file",
       "transformationType": "dataLoading",
       "type": "object"
      },
      "text/plain": [
       "<IPython.core.display.JSON object>"
      ]
     },
     "execution_count": 3,
     "metadata": {
      "application/json": {
       "expanded": false,
       "root": "root"
      }
     },
     "output_type": "execute_result"
    }
   ],
   "source": [
    "JSON(transformations['read_csv']['form'])"
   ]
  },
  {
   "cell_type": "markdown",
   "metadata": {},
   "source": [
    "**We see the following keys, that are part of the react jsonschema standard**\n",
    "1. **properties**: Contains one element for each form field. Each field here will map to a parameter in a python function\n",
    "2. **required**: Which of the parameters defined in properties is required (if not filled, returns a validation error)\n",
    "3. **title**: The title of the function that is displayed in the UI. This should be easy to understand for a non-technical user. We follow a few conventions here:\n",
    "    1. No underscores\n",
    "    2. First letter is capital\n",
    "3. **type**: Given JSONschema is used, we need to define the type of each element in the json tree. In this case, form is an object"
   ]
  },
  {
   "cell_type": "markdown",
   "metadata": {},
   "source": [
    "Besides these, there are a few keys that are part of the eigendata implementation\n",
    "1. **callerObject**: The object that can call this function \n",
    "    1. For example, read_csv is called from a pandas object, which we import as pd (a common way to import pandas, which we take as a convention). Thus we set the callerObject as pd\n",
    "    2. [Learn more about how it is used in code generation](#understanding-code-generation)\n",
    "2. **function**: function name in python (same as the outermost property)\n",
    "3. **transformationType**: Some transformations have special properties, like in this case `dataLoading` shows up when there is no data loaded. See reference for other options for transformationType."
   ]
  },
  {
   "cell_type": "markdown",
   "metadata": {},
   "source": [
    "Let's see the properties object in more detail"
   ]
  },
  {
   "cell_type": "code",
   "execution_count": 4,
   "metadata": {
    "execution": {
     "iopub.execute_input": "2021-10-17T16:33:59.582885Z",
     "iopub.status.busy": "2021-10-17T16:33:59.582111Z",
     "iopub.status.idle": "2021-10-17T16:33:59.598353Z",
     "shell.execute_reply": "2021-10-17T16:33:59.597351Z",
     "shell.execute_reply.started": "2021-10-17T16:33:59.582837Z"
    },
    "tags": []
   },
   "outputs": [
    {
     "data": {
      "application/json": {
       "decimal": {
        "default": ".",
        "description": "Character used to indicate decimals.",
        "type": "string"
       },
       "filepath_or_buffer": {
        "description": "Location of the file relative to the notebook. E.g. /Documents/Data/testdata.csv.",
        "title": "file path",
        "type": "string"
       },
       "header": {
        "description": "Row to use for the column labels (first row is 0).",
        "type": "number"
       },
       "new table name": {
        "type": "string"
       },
       "sep": {
        "default": ",",
        "description": "Character used to separate columns (e.g. commas, semicolons, etc.).",
        "title": "separator",
        "type": "string"
       }
      },
      "text/plain": [
       "<IPython.core.display.JSON object>"
      ]
     },
     "execution_count": 4,
     "metadata": {
      "application/json": {
       "expanded": false,
       "root": "root"
      }
     },
     "output_type": "execute_result"
    }
   ],
   "source": [
    "JSON(transformations['read_csv']['form']['properties'])"
   ]
  },
  {
   "cell_type": "markdown",
   "metadata": {},
   "source": [
    "Fist we will look at the **new table name** field:\n",
    "\n",
    " **All of the transformations have a field called** `new table name`. This is a special field of type string (a simple text input) that will determine if the result of a transformation is save in a new variable (`df2 = df1.function(params)`) or not (`df1 = df1.function(params)`)"
   ]
  },
  {
   "cell_type": "markdown",
   "metadata": {},
   "source": [
    "This field is rendered as a simple text input"
   ]
  },
  {
   "cell_type": "markdown",
   "metadata": {},
   "source": [
    "![alt text](img/transformation_guide_string_input.png)"
   ]
  },
  {
   "cell_type": "markdown",
   "metadata": {},
   "source": [
    "We see that it has some placeholder text \"Leave blank to modify selected table\". This is defined in the UI schema"
   ]
  },
  {
   "cell_type": "code",
   "execution_count": 5,
   "metadata": {
    "execution": {
     "iopub.execute_input": "2021-10-17T16:33:59.606640Z",
     "iopub.status.busy": "2021-10-17T16:33:59.605213Z",
     "iopub.status.idle": "2021-10-17T16:33:59.622536Z",
     "shell.execute_reply": "2021-10-17T16:33:59.621054Z",
     "shell.execute_reply.started": "2021-10-17T16:33:59.606594Z"
    },
    "tags": []
   },
   "outputs": [
    {
     "data": {
      "application/json": {
       "new table name": {
        "ui:placeholder": "Leave blank to modify selected table"
       }
      },
      "text/plain": [
       "<IPython.core.display.JSON object>"
      ]
     },
     "execution_count": 5,
     "metadata": {
      "application/json": {
       "expanded": true,
       "root": "root"
      }
     },
     "output_type": "execute_result"
    }
   ],
   "source": [
    "JSON(transformations['read_csv']['uischema'],expanded=True)"
   ]
  },
  {
   "cell_type": "markdown",
   "metadata": {},
   "source": [
    " Each property in the form object can have UI schema attached to it. By default, the New table name has a UI placeholder that explains how it works."
   ]
  },
  {
   "cell_type": "markdown",
   "metadata": {},
   "source": [
    "## Adding more fields "
   ]
  },
  {
   "cell_type": "code",
   "execution_count": 6,
   "metadata": {
    "execution": {
     "iopub.execute_input": "2021-10-17T16:33:59.625906Z",
     "iopub.status.busy": "2021-10-17T16:33:59.625285Z",
     "iopub.status.idle": "2021-10-17T16:33:59.635283Z",
     "shell.execute_reply": "2021-10-17T16:33:59.634315Z",
     "shell.execute_reply.started": "2021-10-17T16:33:59.625872Z"
    },
    "tags": []
   },
   "outputs": [
    {
     "data": {
      "application/json": {
       "decimal": {
        "default": ".",
        "description": "Character used to indicate decimals.",
        "type": "string"
       },
       "filepath_or_buffer": {
        "description": "Location of the file relative to the notebook. E.g. /Documents/Data/testdata.csv.",
        "title": "file path",
        "type": "string"
       },
       "header": {
        "description": "Row to use for the column labels (first row is 0).",
        "type": "number"
       },
       "new table name": {
        "type": "string"
       },
       "sep": {
        "default": ",",
        "description": "Character used to separate columns (e.g. commas, semicolons, etc.).",
        "title": "separator",
        "type": "string"
       }
      },
      "text/plain": [
       "<IPython.core.display.JSON object>"
      ]
     },
     "execution_count": 6,
     "metadata": {
      "application/json": {
       "expanded": true,
       "root": "root"
      }
     },
     "output_type": "execute_result"
    }
   ],
   "source": [
    "JSON(transformations['read_csv']['form']['properties'], expanded=True)"
   ]
  },
  {
   "cell_type": "markdown",
   "metadata": {},
   "source": [
    "<a id='understanding-code-generation' a>"
   ]
  },
  {
   "cell_type": "markdown",
   "metadata": {},
   "source": [
    "## Understanding code generation \n",
    "When you run the transformation clicking submit, the code is mapped from a json object to a python function call:\n",
    "\n",
    "**Input: Form data**\n",
    "\n",
    "\n",
    "```json\n",
    "{sep: \",\", decimal: \".\", filepath_or_buffer: \"titanic.csv\"}\n",
    "```\n",
    "\n",
    "\n",
    "**Output: Generated code**\n",
    "\n",
    "```python\n",
    "data = pd.read_csv(\n",
    "    sep=\",\", \n",
    "    decimal=\".\", \n",
    "    filepath_or_buffer=\"titanic.csv\")\n",
    "```"
   ]
  },
  {
   "cell_type": "markdown",
   "metadata": {},
   "source": [
    "**Formula structure:** result_object = caller_object.function(parameters)\n",
    "\n",
    "\n",
    "In this case, the ojbect is a dataframe\n",
    "1. **result_object**: This comes from the “New table name” parameter. If empty, it overwrites the object that called it(`df1 = df1.function(params)`).\n",
    "2. **caller_object** : This is the caller-object defined before in the json schema that defines which object calls the function\n",
    "3. **function**: This is the function defined above in the json schema\n",
    "4. **parameters**: These are the parameters passed from the form\n",
    "    1. The way these are transformed is that it combines the key of the parameter with the value coming from the user input, using the equal sign that python functions use to specify parameters\n",
    "    2. For example, <code>sep: \",\"</code>, becomes <code>sep=\",\" </code>\n",
    "    3. For readability, we format a parameter in each line\n",
    "    4. Also notice that some parameters are implicit in python, meaning you don’t need to specify the <code>parametername=</code> and can instead rely on parameter order defined in the function signature. We belive it is better to always be explicit about which parameter you are setting"
   ]
  },
  {
   "cell_type": "markdown",
   "metadata": {},
   "source": [
    "## Another example\n",
    "Let's look at another example. Notice below how we are using a callerObject of type dataframe. This is because sort_values is a function available to Dataframe objects, so we define the callerObject as Dataframe."
   ]
  },
  {
   "cell_type": "code",
   "execution_count": 7,
   "metadata": {
    "execution": {
     "iopub.execute_input": "2021-10-17T16:33:59.637815Z",
     "iopub.status.busy": "2021-10-17T16:33:59.637028Z",
     "iopub.status.idle": "2021-10-17T16:33:59.650622Z",
     "shell.execute_reply": "2021-10-17T16:33:59.649776Z",
     "shell.execute_reply.started": "2021-10-17T16:33:59.637763Z"
    },
    "tags": []
   },
   "outputs": [
    {
     "data": {
      "application/json": {
       "form": {
        "callerObject": "DataFrame",
        "definitions": {
         "column": {
          "enum": [],
          "type": "string"
         }
        },
        "description": "Sort the dataframe based on one column. ",
        "function": "sort_values",
        "properties": {
         "ascending": {
          "codegenstyle": "variable",
          "default": "True",
          "description": "Sort the data ascending (ascending=True) or descending (ascending=False).",
          "enum": [
           "True",
           "False"
          ],
          "type": "string"
         },
         "by": {
          "$ref": "#/definitions/column",
          "title": "column",
          "type": "string"
         },
         "new table name": {
          "type": "string"
         }
        },
        "required": [
         "by",
         "ascending"
        ],
        "title": "Sort values ",
        "type": "object"
       },
       "keywords": [
        "arrange"
       ],
       "library": {
        "importStatement": "import pandas as pd",
        "name": "pandas"
       },
       "uischema": {
        "new table name": {
         "ui:placeholder": "Leave blank to modify selected table"
        }
       }
      },
      "text/plain": [
       "<IPython.core.display.JSON object>"
      ]
     },
     "execution_count": 7,
     "metadata": {
      "application/json": {
       "expanded": true,
       "root": "root"
      }
     },
     "output_type": "execute_result"
    }
   ],
   "source": [
    "transformations['sort_values'] = {\n",
    "      \"form\" : {\n",
    "        \"properties\" : {\n",
    "          \"by\" : {\n",
    "            \"type\" : \"string\",\n",
    "            \"$ref\" : \"#/definitions/column\",\n",
    "            \"title\" : \"column\"\n",
    "          },\n",
    "          \"ascending\" : {\n",
    "            \"type\" : \"string\",\n",
    "            \"default\" : \"True\",\n",
    "            \"enum\" : [\n",
    "              \"True\",\n",
    "              \"False\"\n",
    "            ],\n",
    "            \"codegenstyle\" : \"variable\",\n",
    "            \"description\" : \"Sort the data ascending (ascending=True) or descending (ascending=False).\"\n",
    "          },\n",
    "          \"new table name\" : {\n",
    "            \"type\" : \"string\"\n",
    "          }\n",
    "        },\n",
    "        \"definitions\" : {\n",
    "          \"column\" : {\n",
    "            \"type\" : \"string\",\n",
    "            \"enum\" : []\n",
    "          }\n",
    "        },\n",
    "        \"required\" : [\n",
    "          \"by\",\n",
    "          \"ascending\"\n",
    "        ],\n",
    "        \"title\" : \"Sort values \",\n",
    "        \"type\" : \"object\",\n",
    "        \"callerObject\" : \"DataFrame\",\n",
    "        \"function\" : \"sort_values\",\n",
    "        \"description\" : \"Sort the dataframe based on one column. \"\n",
    "      },\n",
    "      \"uischema\" : {\n",
    "        \"new table name\" : {\n",
    "          \"ui:placeholder\" : \"Leave blank to modify selected table\"\n",
    "        }\n",
    "      },\n",
    "      \"library\" : {\n",
    "        \"name\" : \"pandas\",\n",
    "        \"importStatement\" : \"import pandas as pd\"\n",
    "      },\n",
    "      \"keywords\" : [\n",
    "        \"arrange\"\n",
    "      ]\n",
    "    }\n",
    "\n",
    "JSON(transformations['sort_values'],expanded=True)"
   ]
  },
  {
   "cell_type": "markdown",
   "metadata": {},
   "source": [
    "# Adding UI elements: dropdown"
   ]
  },
  {
   "cell_type": "markdown",
   "metadata": {},
   "source": [
    "## Adding a simple dropdown\n",
    "\n",
    "Here we will create a single select property for one parameter (element of the properties object):\n",
    "\n",
    "1. enum: Define the values in the dropdown\n",
    "2. codegenstyle: This is required for the eigendata code generation. This is a custom parameter that allows us to customize how we map the form response to the python code. As we saw in the example above, the default is pass adding string characters. In this case, that would result in somethinglike: ascending = “True”. Passing the codegenstyle=”variable” flag will remove the quotation marks form the user input, processing ascending=True instead.\n",
    "3. default: This is the default value that will be populated in the UI."
   ]
  },
  {
   "cell_type": "code",
   "execution_count": 8,
   "metadata": {
    "execution": {
     "iopub.execute_input": "2021-10-17T16:33:59.653910Z",
     "iopub.status.busy": "2021-10-17T16:33:59.653405Z",
     "iopub.status.idle": "2021-10-17T16:33:59.664140Z",
     "shell.execute_reply": "2021-10-17T16:33:59.663081Z",
     "shell.execute_reply.started": "2021-10-17T16:33:59.653873Z"
    },
    "tags": []
   },
   "outputs": [
    {
     "data": {
      "application/json": {
       "codegenstyle": "variable",
       "default": "True",
       "description": "Sort the data ascending (ascending=True) or descending (ascending=False).",
       "enum": [
        "True",
        "False"
       ],
       "type": "string"
      },
      "text/plain": [
       "<IPython.core.display.JSON object>"
      ]
     },
     "execution_count": 8,
     "metadata": {
      "application/json": {
       "expanded": true,
       "root": "root"
      }
     },
     "output_type": "execute_result"
    }
   ],
   "source": [
    "JSON(transformations['sort_values']['form']['properties']['ascending'], expanded=True)"
   ]
  },
  {
   "cell_type": "markdown",
   "metadata": {},
   "source": [
    "![alt text](img/transformation_guide_select_field.png)"
   ]
  },
  {
   "cell_type": "markdown",
   "metadata": {
    "toc-hr-collapsed": true,
    "toc-nb-collapsed": true
   },
   "source": [
    "## Adding a dropdown with the names of the columns"
   ]
  },
  {
   "cell_type": "markdown",
   "metadata": {},
   "source": [
    "We can add dropdown values that depend on useful runtime information, like the names of the columns of a dataframe. We can tell eigendata to autopupulate using pandas columns by defining the jsonschema:\n",
    "\n",
    "1. properties\n",
    "    1. $ref: Here we are creating a reference to a definition object called columns. The idea is that if several parameters use the columns, we only have to define them once (learn more about definitions [here](https://react-jsonschema-form.readthedocs.io/en/latest/usage/definitions/)). \n",
    "2. definitions: This holds the skeleton to populate the column dropdown. The empty enum will be populated with a list of all string names automatically"
   ]
  },
  {
   "cell_type": "code",
   "execution_count": 9,
   "metadata": {
    "execution": {
     "iopub.execute_input": "2021-10-17T16:33:59.667184Z",
     "iopub.status.busy": "2021-10-17T16:33:59.666054Z",
     "iopub.status.idle": "2021-10-17T16:33:59.674845Z",
     "shell.execute_reply": "2021-10-17T16:33:59.674026Z",
     "shell.execute_reply.started": "2021-10-17T16:33:59.667139Z"
    },
    "tags": []
   },
   "outputs": [
    {
     "data": {
      "application/json": {
       "$ref": "#/definitions/column",
       "title": "column",
       "type": "string"
      },
      "text/plain": [
       "<IPython.core.display.JSON object>"
      ]
     },
     "execution_count": 9,
     "metadata": {
      "application/json": {
       "expanded": true,
       "root": "root"
      }
     },
     "output_type": "execute_result"
    }
   ],
   "source": [
    "JSON(transformations['sort_values']['form']['properties']['by'], expanded=True)"
   ]
  },
  {
   "cell_type": "code",
   "execution_count": 10,
   "metadata": {
    "execution": {
     "iopub.execute_input": "2021-10-17T16:33:59.677903Z",
     "iopub.status.busy": "2021-10-17T16:33:59.677379Z",
     "iopub.status.idle": "2021-10-17T16:33:59.690082Z",
     "shell.execute_reply": "2021-10-17T16:33:59.685894Z",
     "shell.execute_reply.started": "2021-10-17T16:33:59.677871Z"
    },
    "tags": []
   },
   "outputs": [
    {
     "data": {
      "application/json": {
       "column": {
        "enum": [],
        "type": "string"
       }
      },
      "text/plain": [
       "<IPython.core.display.JSON object>"
      ]
     },
     "execution_count": 10,
     "metadata": {
      "application/json": {
       "expanded": true,
       "root": "root"
      }
     },
     "output_type": "execute_result"
    }
   ],
   "source": [
    "JSON(transformations['sort_values']['form']['definitions'], expanded=True)"
   ]
  },
  {
   "cell_type": "markdown",
   "metadata": {},
   "source": [
    "![alt text](img/transformation_guide_select_columns.png)"
   ]
  },
  {
   "cell_type": "markdown",
   "metadata": {},
   "source": [
    "If we look at the code generation, we see that althrough we load the definitions of a parameter called column, the parameter we have rendered is called \"by\"\n",
    "```python\n",
    "data = data.sort_values(\n",
    "    ascending=False, \n",
    "    by=\"Age\")\n",
    "```"
   ]
  },
  {
   "cell_type": "markdown",
   "metadata": {
    "toc-hr-collapsed": true,
    "toc-nb-collapsed": true
   },
   "source": [
    "# Adding a multi-select dropdown"
   ]
  },
  {
   "cell_type": "markdown",
   "metadata": {},
   "source": [
    "The example below describes how to create a GUI for a multi-select using the column-names:\n",
    "\n",
    "\n",
    "\n",
    "1. Add a reference to definitions/columns (notice the s at the end)\n",
    "2. Add the columns definition code as-is"
   ]
  },
  {
   "cell_type": "code",
   "execution_count": 11,
   "metadata": {
    "execution": {
     "iopub.execute_input": "2021-10-17T16:33:59.696878Z",
     "iopub.status.busy": "2021-10-17T16:33:59.696453Z",
     "iopub.status.idle": "2021-10-17T16:33:59.738425Z",
     "shell.execute_reply": "2021-10-17T16:33:59.737206Z",
     "shell.execute_reply.started": "2021-10-17T16:33:59.696835Z"
    },
    "tags": []
   },
   "outputs": [],
   "source": [
    "transformations[\"get_dummies\"] = {\n",
    "      \"form\" : {\n",
    "        \"required\" : [\n",
    "          \"columns\"\n",
    "        ],\n",
    "        \"definitions\" : {\n",
    "          \"columns\" : {\n",
    "            \"type\" : \"array\",\n",
    "            \"uniqueItems\" : True,\n",
    "            \"items\" : {\n",
    "              \"type\" : \"string\",\n",
    "              \"enum\" : []\n",
    "            }\n",
    "          }\n",
    "        },\n",
    "        \"properties\" : {\n",
    "          \"columns\" : {\n",
    "            \"$ref\" : \"#/definitions/columns\",\n",
    "            \"description\" : \"Column(s) expanded into several columns for each distinct value with 0/1 indicators.\"\n",
    "          },\n",
    "          \"dummy_na\" : {\n",
    "            \"title\" : \"NaN column\",\n",
    "            \"description\" : \"Include a column called NaN that indicates if the value is missing.\",\n",
    "            \"default\" : \"False\",\n",
    "            \"type\" : \"string\",\n",
    "            \"codegenstyle\" : \"variable\",\n",
    "            \"enum\" : [\n",
    "              \"True\",\n",
    "              \"False\"\n",
    "            ]\n",
    "          },\n",
    "          \"new table name\" : {\n",
    "            \"type\" : \"string\"\n",
    "          }\n",
    "        },\n",
    "        \"title\" : \"Create dummies for a column (0/1 indicators)\",\n",
    "        \"description\" : \"Create new columns with 0/1 for each unique value in a column. Returns table with additional columns.\",\n",
    "        \"type\" : \"object\",\n",
    "        \"callerObject\" : \"pd\",\n",
    "        \"function\" : \"get_dummies\",\n",
    "        \"selectionAsParameter\" : True\n",
    "      },\n",
    "      \"uischema\" : {\n",
    "        \"new table name\" : {\n",
    "          \"ui:placeholder\" : \"Leave blank to modify selected table\"\n",
    "        }\n",
    "      },\n",
    "      \"library\" : {\n",
    "        \"name\" : \"pandas\",\n",
    "        \"importStatement\" : \"import pandas as pd\"\n",
    "      },\n",
    "      \"keywords\" : [\n",
    "        \"1\",\n",
    "        \"0\",\n",
    "        \"columns\"\n",
    "      ]\n",
    "    }"
   ]
  },
  {
   "cell_type": "code",
   "execution_count": 12,
   "metadata": {
    "execution": {
     "iopub.execute_input": "2021-10-17T16:33:59.742067Z",
     "iopub.status.busy": "2021-10-17T16:33:59.741657Z",
     "iopub.status.idle": "2021-10-17T16:33:59.749933Z",
     "shell.execute_reply": "2021-10-17T16:33:59.749019Z",
     "shell.execute_reply.started": "2021-10-17T16:33:59.742039Z"
    },
    "tags": []
   },
   "outputs": [
    {
     "data": {
      "application/json": {
       "$ref": "#/definitions/columns",
       "description": "Column(s) expanded into several columns for each distinct value with 0/1 indicators."
      },
      "text/plain": [
       "<IPython.core.display.JSON object>"
      ]
     },
     "execution_count": 12,
     "metadata": {
      "application/json": {
       "expanded": true,
       "root": "root"
      }
     },
     "output_type": "execute_result"
    }
   ],
   "source": [
    "JSON(transformations['get_dummies']['form']['properties']['columns'], expanded=True)"
   ]
  },
  {
   "cell_type": "code",
   "execution_count": 13,
   "metadata": {
    "execution": {
     "iopub.execute_input": "2021-10-17T16:33:59.754009Z",
     "iopub.status.busy": "2021-10-17T16:33:59.753594Z",
     "iopub.status.idle": "2021-10-17T16:33:59.761998Z",
     "shell.execute_reply": "2021-10-17T16:33:59.760609Z",
     "shell.execute_reply.started": "2021-10-17T16:33:59.753975Z"
    },
    "tags": []
   },
   "outputs": [
    {
     "data": {
      "application/json": {
       "columns": {
        "items": {
         "enum": [],
         "type": "string"
        },
        "type": "array",
        "uniqueItems": true
       }
      },
      "text/plain": [
       "<IPython.core.display.JSON object>"
      ]
     },
     "execution_count": 13,
     "metadata": {
      "application/json": {
       "expanded": true,
       "root": "root"
      }
     },
     "output_type": "execute_result"
    }
   ],
   "source": [
    "JSON(transformations['get_dummies']['form']['definitions'], expanded=True)"
   ]
  },
  {
   "cell_type": "markdown",
   "metadata": {},
   "source": [
    "![alt text](img/transformation_guide_multiselect_columns.png)"
   ]
  },
  {
   "cell_type": "markdown",
   "metadata": {},
   "source": [
    "## Understanding the code generation"
   ]
  },
  {
   "cell_type": "markdown",
   "metadata": {},
   "source": [
    "**Input:** **Form data & selected dataframe**\n",
    "\n",
    "\n",
    "\n",
    "1. Form data: \n",
    "```json\n",
    "{columns: [\"Parents/Children Aboard\", \"Siblings/Spouses Aboard\"]}\n",
    "```\n",
    "2. Selected dataframe: data\n",
    "\n",
    "<strong>Output: Generated code</strong>\n",
    "\n",
    "\n",
    "```python\n",
    "data = data.drop(\n",
    "    columns=[\"Parents/Children Aboard\",\"Siblings/Spouses Aboard\"])\n",
    "```\n",
    "\n"
   ]
  },
  {
   "cell_type": "markdown",
   "metadata": {},
   "source": [
    "The input from the form is mapped to a generic formula in the following way:\n",
    "\n",
    "Formula: dataframe = object.function(parameters)\n",
    "1. **dataframe**: Set to be the same than the selected datafreme given there is no input in New table name\n",
    "2. **object** : Here, the callerObject DataFrame is replaced by the selected dataframe that is passed\n",
    "3. **function**: This is the function defined above in the json schema"
   ]
  },
  {
   "cell_type": "markdown",
   "metadata": {},
   "source": [
    "# Adding complex fields to the form"
   ]
  },
  {
   "cell_type": "markdown",
   "metadata": {},
   "source": [
    "This example describes how to create UIs that are rendered as dictionaries in python\n",
    "```python\n",
    "property={'input1_field1' : 'input1_field2', 'input2_field1' : 'input2_field2'}`\n",
    "```"
   ]
  },
  {
   "cell_type": "markdown",
   "metadata": {},
   "source": [
    "\n",
    "The way this is implemented is using an array that has two sub-fields. The sub-fields are implementes nested property, i.e. a property inside another property:\n",
    "1. In the example below, you see a property named dtype\n",
    "2. The type is set to array\n",
    "3. We defined an **items** element of type object\n",
    "4. We define another properties element inside items (here is where the nesting takes place)"
   ]
  },
  {
   "cell_type": "code",
   "execution_count": 14,
   "metadata": {
    "execution": {
     "iopub.execute_input": "2021-10-17T16:33:59.765430Z",
     "iopub.status.busy": "2021-10-17T16:33:59.764102Z",
     "iopub.status.idle": "2021-10-17T16:33:59.778668Z",
     "shell.execute_reply": "2021-10-17T16:33:59.777702Z",
     "shell.execute_reply.started": "2021-10-17T16:33:59.765375Z"
    }
   },
   "outputs": [],
   "source": [
    "transformations['astype'] = {\n",
    "      \"form\" : {\n",
    "        \"properties\" : {\n",
    "          \"dtype\" : {\n",
    "            \"type\" : \"array\",\n",
    "            \"items\" : {\n",
    "              \"type\" : \"object\",\n",
    "              \"properties\" : {\n",
    "                \"column\" : {\n",
    "                  \"$ref\" : \"#/definitions/column\"\n",
    "                },\n",
    "                \"type\" : {\n",
    "                  \"type\" : \"string\",\n",
    "                  \"enum\" : [\n",
    "                    \"int64\",\n",
    "                    \"float64\",\n",
    "                    \"string\",\n",
    "                    \"bool\",\n",
    "                    \"datetime64\"\n",
    "                  ],\n",
    "                  \"enumNames\" : [\n",
    "                    \"Integer (e.g. 1, 2, 3)\",\n",
    "                    \"Decimal number (e.g. 49.99)\",\n",
    "                    \"Text\",\n",
    "                    \"Boolean (True/False)\",\n",
    "                    \"Date time\"\n",
    "                  ]\n",
    "                }\n",
    "              }\n",
    "            },\n",
    "            \"title\" : \"Columns to reassign\"\n",
    "          },\n",
    "          \"new table name\" : {\n",
    "            \"type\" : \"string\"\n",
    "          }\n",
    "        },\n",
    "        \"definitions\" : {\n",
    "          \"column\" : {\n",
    "            \"type\" : \"string\",\n",
    "            \"enum\" : []\n",
    "          }\n",
    "        },\n",
    "        \"required\" : [\n",
    "          \"dtype\"\n",
    "        ],\n",
    "        \"title\" : \"Assign column types\",\n",
    "        \"type\" : \"object\",\n",
    "        \"callerObject\" : \"DataFrame\",\n",
    "        \"function\" : \"astype\",\n",
    "        \"description\" : \"Change the data type of columns.\"\n",
    "      },\n",
    "      \"uischema\" : {\n",
    "        \"new table name\" : {\n",
    "          \"ui:placeholder\" : \"Leave blank to modify selected table\"\n",
    "        },\n",
    "        \"dtype\" : {\n",
    "          \"items\" : {\n",
    "            \"classNames\" : \"side-by-side-fields\",\n",
    "            \"column\" : {\n",
    "              \"classNames\" : \"left-field\"\n",
    "            },\n",
    "            \"type\" : {\n",
    "              \"classNames\" : \"right-field\"\n",
    "            }\n",
    "          }\n",
    "        }\n",
    "      },\n",
    "      \"keywords\" : [\n",
    "        \"convert\",\n",
    "        \"data\",\n",
    "        \"type\",\n",
    "        \"datatype\",\n",
    "        \"types\",\n",
    "        \"change\",\n",
    "        \"modify\"\n",
    "      ],\n",
    "      \"library\" : {\n",
    "        \"name\" : \"pandas\",\n",
    "        \"importStatement\" : \"import pandas as pd\"\n",
    "      }\n",
    "    }"
   ]
  },
  {
   "cell_type": "code",
   "execution_count": 15,
   "metadata": {
    "execution": {
     "iopub.execute_input": "2021-10-17T16:33:59.781192Z",
     "iopub.status.busy": "2021-10-17T16:33:59.780657Z",
     "iopub.status.idle": "2021-10-17T16:33:59.789723Z",
     "shell.execute_reply": "2021-10-17T16:33:59.788808Z",
     "shell.execute_reply.started": "2021-10-17T16:33:59.781145Z"
    },
    "tags": []
   },
   "outputs": [
    {
     "data": {
      "application/json": {
       "dtype": {
        "items": {
         "properties": {
          "column": {
           "$ref": "#/definitions/column"
          },
          "type": {
           "enum": [
            "int64",
            "float64",
            "string",
            "bool",
            "datetime64"
           ],
           "enumNames": [
            "Integer (e.g. 1, 2, 3)",
            "Decimal number (e.g. 49.99)",
            "Text",
            "Boolean (True/False)",
            "Date time"
           ],
           "type": "string"
          }
         },
         "type": "object"
        },
        "title": "Columns to reassign",
        "type": "array"
       },
       "new table name": {
        "type": "string"
       }
      },
      "text/plain": [
       "<IPython.core.display.JSON object>"
      ]
     },
     "execution_count": 15,
     "metadata": {
      "application/json": {
       "expanded": true,
       "root": "root"
      }
     },
     "output_type": "execute_result"
    }
   ],
   "source": [
    "JSON(transformations['astype']['form']['properties'], expanded=True)"
   ]
  },
  {
   "cell_type": "markdown",
   "metadata": {},
   "source": [
    "# Transformations that return series"
   ]
  },
  {
   "cell_type": "markdown",
   "metadata": {},
   "source": [
    "A series transformation is a transformation that return a [series](https://pandas.pydata.org/pandas-docs/stable/reference/api/pandas.Series.html)\n",
    "\n",
    "Thus, the code we generate is of the type\n",
    "```python\n",
    "dataframe['Series name'] = dataframe['Series name'].function(parameters)\n",
    "```\n",
    "\n",
    "When we write a series transformation, we need to:\n",
    "\n",
    "1. Specify an additional column parameter\n",
    "2. Set the caller object to DataFrame[Series]\n",
    "2. **Set codegenstyle: ignore, given that the column is not a real parameter of the function that nees to be rendered!**\n",
    "3. The `new table property` is converted into a `new column property`, allowing us either to replace the column or define a new column"
   ]
  },
  {
   "cell_type": "markdown",
   "metadata": {},
   "source": [
    "# Transformations that return variables"
   ]
  },
  {
   "cell_type": "markdown",
   "metadata": {},
   "source": [
    "A transformation can also return a variable that is not a dataframe/series. We currently call \"variable\" a few of the core python data types:\n",
    "- Int/Float\n",
    "- String\n",
    "- List"
   ]
  },
  {
   "cell_type": "markdown",
   "metadata": {
    "jp-MarkdownHeadingCollapsed": true,
    "tags": []
   },
   "source": [
    "# Transformations with conditional logic"
   ]
  },
  {
   "cell_type": "markdown",
   "metadata": {},
   "source": [
    "Sometimes, functions have more than one way of being called. This is usually hard for a user to understand when they read a documentation. We have implemented this pattern with conditional fields as [react-jsonschema-form dependencies](https://react-jsonschema-form.readthedocs.io/en/latest/usage/dependencies/)."
   ]
  },
  {
   "cell_type": "markdown",
   "metadata": {},
   "source": [
    "First, we define a property that will control the different ways to render the form. If the parameter that controls the different ways to call a function is not an explicit parameter in the code, make sure to set codegenstyle to ignore"
   ]
  },
  {
   "cell_type": "markdown",
   "metadata": {
    "execution": {
     "iopub.execute_input": "2020-11-19T17:07:14.086290Z",
     "iopub.status.busy": "2020-11-19T17:07:14.086001Z",
     "iopub.status.idle": "2020-11-19T17:07:14.096046Z",
     "shell.execute_reply": "2020-11-19T17:07:14.093557Z",
     "shell.execute_reply.started": "2020-11-19T17:07:14.086264Z"
    }
   },
   "source": [
    "**Example with mode as an actual parameter in the code**"
   ]
  },
  {
   "cell_type": "code",
   "execution_count": 16,
   "metadata": {
    "execution": {
     "iopub.execute_input": "2021-10-17T16:33:59.791852Z",
     "iopub.status.busy": "2021-10-17T16:33:59.791228Z",
     "iopub.status.idle": "2021-10-17T16:33:59.805075Z",
     "shell.execute_reply": "2021-10-17T16:33:59.804271Z",
     "shell.execute_reply.started": "2021-10-17T16:33:59.791806Z"
    }
   },
   "outputs": [],
   "source": [
    "transformations['bin_column'] = {\n",
    "      \"form\" : {\n",
    "        \"properties\" : {\n",
    "          \"column\" : {\n",
    "            \"$ref\" : \"#/definitions/column\",\n",
    "            \"title\" : \"column\",\n",
    "            \"codegenstyle\" : \"ignore\"\n",
    "          },\n",
    "          \"mode\" : {\n",
    "            \"type\" : \"string\",\n",
    "            \"enum\" : [\n",
    "              \"size\",\n",
    "              \"number\",\n",
    "              \"quantiles\",\n",
    "              \"custom\"\n",
    "            ],\n",
    "            \"enumNames\" : [\n",
    "              \"Size of bin\",\n",
    "              \"Number of bins\",\n",
    "              \"Quantiles (e.g. quartiles)\",\n",
    "              \"Custom interval ranges\"\n",
    "            ],\n",
    "            \"default\" : \"size\"\n",
    "          },\n",
    "          \"new column name\" : {\n",
    "            \"type\" : \"string\"\n",
    "          }\n",
    "        },\n",
    "        \"definitions\" : {\n",
    "          \"column\" : {\n",
    "            \"type\" : \"string\",\n",
    "            \"enum\" : []\n",
    "          }\n",
    "        },\n",
    "        \"required\" : [\n",
    "          \"column\",\n",
    "          \"mode\"\n",
    "        ],\n",
    "        \"dependencies\" : {\n",
    "          \"mode\" : {\n",
    "            \"oneOf\" : [\n",
    "              {\n",
    "                \"properties\" : {\n",
    "                  \"mode\" : {\n",
    "                    \"enum\" : [\n",
    "                      \"size\"\n",
    "                    ]\n",
    "                  },\n",
    "                  \"start\" : {\n",
    "                    \"type\" : \"number\",\n",
    "                    \"description\" : \"Non-inclusive: Sart the bucket above this number. For example, if start is set at 5, bucketing will start at 6.\"\n",
    "                  },\n",
    "                  \"size\" : {\n",
    "                    \"type\" : \"number\",\n",
    "                    \"description\" : \"Inclusive: Take buckets of this size. For example, if start is set at 5, and size to 10, it will pick up elements from 6 to 15, including 15.\"\n",
    "                  },\n",
    "                  \"end\" : {\n",
    "                    \"type\" : \"number\",\n",
    "                    \"description\" : \"Inclusive: Number at which to end the buckets. E.g. if start = 5, size =10 and end is set to 17, it will only create a category (5,15]. The next valid end would be 25.\"\n",
    "                  }\n",
    "                }\n",
    "              },\n",
    "              {\n",
    "                \"properties\" : {\n",
    "                  \"mode\" : {\n",
    "                    \"enum\" : [\n",
    "                      \"number\"\n",
    "                    ]\n",
    "                  },\n",
    "                  \"bin_number\" : {\n",
    "                    \"type\" : \"number\",\n",
    "                    \"title\" : \"bin number\",\n",
    "                    \"description\" : \"Number of equally spaced bins used. Bin width is then (max-min)/bin number.\"\n",
    "                  }\n",
    "                }\n",
    "              },\n",
    "              {\n",
    "                \"properties\" : {\n",
    "                  \"mode\" : {\n",
    "                    \"enum\" : [\n",
    "                      \"quantiles\"\n",
    "                    ]\n",
    "                  },\n",
    "                  \"quantiles\" : {\n",
    "                    \"type\" : \"number\",\n",
    "                    \"description\" : \"Number of quantiles. 10 for deciles, 4 for quartiles, etc.\"\n",
    "                  }\n",
    "                }\n",
    "              },\n",
    "              {\n",
    "                \"properties\" : {\n",
    "                  \"mode\" : {\n",
    "                    \"enum\" : [\n",
    "                      \"custom\"\n",
    "                    ]\n",
    "                  },\n",
    "                  \"breaks\" : {\n",
    "                    \"description\" : \"Set the break points for the custom ranges. Need to include start and end elements\",\n",
    "                    \"type\" : \"array\",\n",
    "                    \"items\" : {\n",
    "                      \"type\" : \"number\"\n",
    "                    }\n",
    "                  },\n",
    "                  \"closed\" : {\n",
    "                    \"type\" : \"string\",\n",
    "                    \"enum\" : [\n",
    "                      \"left\",\n",
    "                      \"right\",\n",
    "                      \"both\",\n",
    "                      \"neither\"\n",
    "                    ],\n",
    "                    \"description\" : \"For example, breaks of [1, 3, 5 o] closed on the right implies that nubmer 3 will be part of the interval (1-3]. If closed on the let, then 3 would be part of interval [3-5)\"\n",
    "                  }\n",
    "                }\n",
    "              }\n",
    "            ]\n",
    "          }\n",
    "        },\n",
    "        \"title\" : \"[Column] Bin column\",\n",
    "        \"callerObject\" : \"DataFrame[Series].fdt\",\n",
    "        \"function\" : \"bin_column\",\n",
    "        \"type\" : \"object\",\n",
    "        \"returnType\" : \"series\",\n",
    "        \"description\" : \"Creates bins/bukets for columns with numerical values.\"\n",
    "      },\n",
    "      \"uischema\" : {\n",
    "        \"new column name\" : {\n",
    "          \"ui:placeholder\" : \"Leave blank to modify selected column\"\n",
    "        },\n",
    "        \"mode\" : {\n",
    "          \"ui:widget\" : \"radio\"\n",
    "        },\n",
    "        \"ui:order\" : [\n",
    "          \"*\",\n",
    "          \"new column name\"\n",
    "        ]\n",
    "      },\n",
    "      \"library\" : {\n",
    "        \"name\" : \"fastdata.core\",\n",
    "        \"importStatement\" : \"from fastdata.core import *\"\n",
    "      },\n",
    "      \"keywords\" : [\n",
    "        \"bin\",\n",
    "        \"bucket\",\n",
    "        \"group\"\n",
    "      ]\n",
    "    }"
   ]
  },
  {
   "cell_type": "code",
   "execution_count": 17,
   "metadata": {
    "execution": {
     "iopub.execute_input": "2021-10-17T16:33:59.808195Z",
     "iopub.status.busy": "2021-10-17T16:33:59.807752Z",
     "iopub.status.idle": "2021-10-17T16:33:59.816359Z",
     "shell.execute_reply": "2021-10-17T16:33:59.815567Z",
     "shell.execute_reply.started": "2021-10-17T16:33:59.808164Z"
    },
    "tags": []
   },
   "outputs": [
    {
     "data": {
      "application/json": {
       "column": {
        "$ref": "#/definitions/column",
        "codegenstyle": "ignore",
        "title": "column"
       },
       "mode": {
        "default": "size",
        "enum": [
         "size",
         "number",
         "quantiles",
         "custom"
        ],
        "enumNames": [
         "Size of bin",
         "Number of bins",
         "Quantiles (e.g. quartiles)",
         "Custom interval ranges"
        ],
        "type": "string"
       },
       "new column name": {
        "type": "string"
       }
      },
      "text/plain": [
       "<IPython.core.display.JSON object>"
      ]
     },
     "execution_count": 17,
     "metadata": {
      "application/json": {
       "expanded": true,
       "root": "root"
      }
     },
     "output_type": "execute_result"
    }
   ],
   "source": [
    "JSON(transformations['bin_column']['form']['properties'], expanded=True)"
   ]
  },
  {
   "cell_type": "markdown",
   "metadata": {
    "jp-MarkdownHeadingCollapsed": true,
    "tags": []
   },
   "source": [
    "# Transformations without return type"
   ]
  },
  {
   "cell_type": "markdown",
   "metadata": {},
   "source": [
    "Some transformations do not return an object and just write to a notebook. In this case, you can set returnType to \"none\""
   ]
  },
  {
   "cell_type": "code",
   "execution_count": 18,
   "metadata": {
    "execution": {
     "iopub.execute_input": "2021-10-17T16:33:59.818809Z",
     "iopub.status.busy": "2021-10-17T16:33:59.818240Z",
     "iopub.status.idle": "2021-10-17T16:33:59.826762Z",
     "shell.execute_reply": "2021-10-17T16:33:59.825835Z",
     "shell.execute_reply.started": "2021-10-17T16:33:59.818761Z"
    }
   },
   "outputs": [],
   "source": [
    "transformations['to_csv'] = {\n",
    "      \"form\" : {\n",
    "        \"properties\" : {\n",
    "          \"path_or_buf\" : {\n",
    "            \"type\" : \"string\",\n",
    "            \"title\" : \"file path\",\n",
    "            \"description\" : \"Location of the file. You can also indicate a path to save it in a specific folder.\"\n",
    "          },\n",
    "          \"index\" : {\n",
    "            \"type\" : \"string\",\n",
    "            \"default\" : \"False\",\n",
    "            \"enum\" : [\n",
    "              \"True\",\n",
    "              \"False\"\n",
    "            ],\n",
    "            \"enumNames\" : [\n",
    "              \"Include index\",\n",
    "              \"Exclude index\"\n",
    "            ],\n",
    "            \"codegenstyle\" : \"variable\"\n",
    "          }\n",
    "        },\n",
    "        \"required\" : [\n",
    "          \"path_or_buf\",\n",
    "          \"index\"\n",
    "        ],\n",
    "        \"type\" : \"object\",\n",
    "        \"title\" : \"Save to CSV\",\n",
    "        \"callerObject\" : \"DataFrame\",\n",
    "        \"function\" : \"to_csv\",\n",
    "        \"description\" : \"Save selected table to csv file.\",\n",
    "        \"returnType\" : \"none\"\n",
    "      },\n",
    "      \"keywords\" : [\n",
    "        \"write\",\n",
    "        \"save\",\n",
    "        \"store\"\n",
    "      ],\n",
    "      \"library\" : {\n",
    "        \"name\" : \"pandas\",\n",
    "        \"importStatement\" : \"import pandas as pd\"\n",
    "      }\n",
    "    }"
   ]
  },
  {
   "cell_type": "markdown",
   "metadata": {},
   "source": [
    "If the return type is not specified, it will be determined by the "
   ]
  },
  {
   "cell_type": "markdown",
   "metadata": {
    "jp-MarkdownHeadingCollapsed": true,
    "tags": []
   },
   "source": [
    "# Code snippets"
   ]
  },
  {
   "cell_type": "markdown",
   "metadata": {
    "jp-MarkdownHeadingCollapsed": true,
    "tags": []
   },
   "source": [
    "# Selection as parameter & pure functions"
   ]
  },
  {
   "cell_type": "markdown",
   "metadata": {},
   "source": [
    "Sometimes, a python transformation is not of the type `object = object.function(parameters)` but rather `object = function(parameters)`.\n",
    "\n",
    "In this cases, many times the first positional parameter is the \"subject\" of the transformation and the rest of the parameters are configurations. We can treat these cases in the same way from a UI perspective by setting the flag `selectionAsParameter`. "
   ]
  },
  {
   "cell_type": "markdown",
   "metadata": {},
   "source": [
    "In the case above, the code will be generated in the following way\n",
    "`pd.get_dummies(data, columns='...')`\n",
    "\n",
    "This way we can give users one single way of interacting and avoid the confusion generated by the fact that there are two different syntax patterns"
   ]
  },
  {
   "cell_type": "code",
   "execution_count": 19,
   "metadata": {
    "execution": {
     "iopub.execute_input": "2021-10-17T16:33:59.835983Z",
     "iopub.status.busy": "2021-10-17T16:33:59.834950Z",
     "iopub.status.idle": "2021-10-17T16:33:59.858091Z",
     "shell.execute_reply": "2021-10-17T16:33:59.857234Z",
     "shell.execute_reply.started": "2021-10-17T16:33:59.835915Z"
    },
    "tags": []
   },
   "outputs": [
    {
     "data": {
      "application/json": {
       "callerObject": "pd",
       "definitions": {
        "columns": {
         "items": {
          "enum": [],
          "type": "string"
         },
         "type": "array",
         "uniqueItems": true
        }
       },
       "description": "Create new columns with 0/1 for each unique value in a column. Returns table with additional columns.",
       "function": "get_dummies",
       "properties": {
        "columns": {
         "$ref": "#/definitions/columns",
         "description": "Column(s) expanded into several columns for each distinct value with 0/1 indicators."
        },
        "dummy_na": {
         "codegenstyle": "variable",
         "default": "False",
         "description": "Include a column called NaN that indicates if the value is missing.",
         "enum": [
          "True",
          "False"
         ],
         "title": "NaN column",
         "type": "string"
        },
        "new table name": {
         "type": "string"
        }
       },
       "required": [
        "columns"
       ],
       "selectionAsParameter": true,
       "title": "Create dummies for a column (0/1 indicators)",
       "type": "object"
      },
      "text/plain": [
       "<IPython.core.display.JSON object>"
      ]
     },
     "execution_count": 19,
     "metadata": {
      "application/json": {
       "expanded": false,
       "root": "root"
      }
     },
     "output_type": "execute_result"
    }
   ],
   "source": [
    "JSON(transformations['get_dummies']['form'], expanded=False)"
   ]
  },
  {
   "cell_type": "markdown",
   "metadata": {},
   "source": [
    "The above is even more interesting when we apply it to pure functions, which have no caller object"
   ]
  },
  {
   "cell_type": "markdown",
   "metadata": {},
   "source": [
    "# Transformation reference"
   ]
  },
  {
   "cell_type": "markdown",
   "metadata": {},
   "source": [
    "Examples of react-jsonschema-form [here](https://rjsf-team.github.io/react-jsonschema-form/)\n",
    "\n",
    "## Form\n",
    "### JSONschema form\n",
    "1. **title**: Make the API more user-friendly\n",
    "    1. No underscores, e.g. from `sort_by →  sort by`\n",
    "    2. Use full words instead of abbreviations: `pat →  pattern`\n",
    "    3. Help better understand parameters that take more than one type, e.g. sheet name can be\n",
    "        1. `sheet name` if using the name\n",
    "        2. `sheet number` if using an id\n",
    "    4. If the API is very confusing, e.g. `na_sentinel → NaN value`\n",
    "2. **description**: Add a description for each transformation.  \n",
    "    1. Finalize sentences with dots\n",
    "3. **required**\n",
    "    9. Use property object name and not title\n",
    "4. **definitions**\n",
    "    \n",
    "### Eigendata custom properties\n",
    "1. **callerObject**: DataFrame is replaced by the selected dataframe. Series by the seleciton in the column parameter\n",
    "    1. `pd`\n",
    "    2. `DataFrame` (for dataframe functions)\n",
    "    3. `DataFrame.fdt` (for fastdata functions)\n",
    "    4. `DataFrame[Series]` (for series functions)\n",
    "    5. `DataFrame[Series].str`\n",
    "    6. …\n",
    "2. **function**: function to be called\n",
    "3. **transformationType**: If not defined, we assume it is a function\n",
    "    1. `dataLoading` Will be shown when there is no data\n",
    "    2. `property` Will be called withot parameter parenthesis (e.g. dataframe.shape)\n",
    "3. **returnType**: Type of object that will be returned. We are using the \"new variable name\" or \"new column name\" to infer it. Otherwise it is set to dataframe.\n",
    "    1. `none` the result will not be assigned to anything (e.g. dataframe.to_csv(...))\n",
    "    2. `series` the result will be a series\n",
    "    3. `dataframe` the result will be dataframe\n",
    "    4. `variable` the result is nother type of native python object\n",
    "4. **selectionAsParameter**: See examples above\n",
    "  \n",
    "    \n",
    "### Form properties\n",
    "#### JSONschema form\n",
    "1. **title**:\n",
    "    1. Only define if it is not clear (e.g. by parameter is not easy to understand)\n",
    "    2. Always lowercase (except new table name)\n",
    "    3. Use title if parameter name has undercores\n",
    "    4. Keep it short, if too long use the description field\n",
    "2. **description**\n",
    "    5. Always add a description\n",
    "3. **type**: Use only two types from jsonschema-form\n",
    "    6. `string`: For single select and string input\n",
    "    7. `number`: For number inputs (e.g. like round example)\n",
    "    8. `array`: For multi-select or array input\n",
    "4. **\\$ref**: Used to define single-select columns, multi-select columns and single-select data frames. No need to define type if $ref is used. Options are:\n",
    "    9. `#/definitions/column`\n",
    "    10. `#/definitions/columns`\n",
    "    11. `#/definitions/dataframes`\n",
    "5. **default**: In case there is enum and enumNames, the default should be the enum value and not the enumNames \n",
    "\n",
    "#### Eigendata custom properties\n",
    "1. **ED: codegenstyle**: Not specified: Pass the input with string `property='input'`\n",
    "    1. `variable` Pass the input without strings  `property=input`\n",
    "    2. `ignore` Used for series transformations\n",
    "    3. `seriesColumn` Used when the series is not passed as a string but rather as an object with the syntax dataFrame['series']\n",
    "    4. `seriesColumnList`"
   ]
  },
  {
   "cell_type": "code",
   "execution_count": null,
   "metadata": {},
   "outputs": [],
   "source": []
  }
 ],
 "metadata": {
  "kernelspec": {
   "display_name": "Python 3",
   "language": "python",
   "name": "python3"
  },
  "language_info": {
   "codemirror_mode": {
    "name": "ipython",
    "version": 3
   },
   "file_extension": ".py",
   "mimetype": "text/x-python",
   "name": "python",
   "nbconvert_exporter": "python",
   "pygments_lexer": "ipython3",
   "version": "3.7.9"
  },
  "toc-autonumbering": true,
  "toc-showtags": false,
  "widgets": {
   "application/vnd.jupyter.widget-state+json": {
    "state": {},
    "version_major": 2,
    "version_minor": 0
   }
  }
 },
 "nbformat": 4,
 "nbformat_minor": 4
}
